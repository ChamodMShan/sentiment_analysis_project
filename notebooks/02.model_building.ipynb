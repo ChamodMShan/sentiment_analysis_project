{
 "cells": [
  {
   "cell_type": "code",
   "execution_count": 1,
   "id": "8d2ca909-a1d4-4acf-977e-d8f2143a0fca",
   "metadata": {},
   "outputs": [],
   "source": [
    "import numpy as np\n",
    "import pandas as pd\n",
    "import matplotlib.pyplot as plt"
   ]
  },
  {
   "cell_type": "code",
   "execution_count": 2,
   "id": "cab610e6-3792-4e75-aa86-7d0fd41d312d",
   "metadata": {},
   "outputs": [],
   "source": [
    "data = pd.read_csv('../artifacts/sentiment_analysis.csv')"
   ]
  },
  {
   "cell_type": "code",
   "execution_count": 3,
   "id": "722360c5-e985-44ea-a7d9-bd5b174f4d34",
   "metadata": {},
   "outputs": [
    {
     "data": {
      "text/html": [
       "<div>\n",
       "<style scoped>\n",
       "    .dataframe tbody tr th:only-of-type {\n",
       "        vertical-align: middle;\n",
       "    }\n",
       "\n",
       "    .dataframe tbody tr th {\n",
       "        vertical-align: top;\n",
       "    }\n",
       "\n",
       "    .dataframe thead th {\n",
       "        text-align: right;\n",
       "    }\n",
       "</style>\n",
       "<table border=\"1\" class=\"dataframe\">\n",
       "  <thead>\n",
       "    <tr style=\"text-align: right;\">\n",
       "      <th></th>\n",
       "      <th>id</th>\n",
       "      <th>label</th>\n",
       "      <th>tweet</th>\n",
       "    </tr>\n",
       "  </thead>\n",
       "  <tbody>\n",
       "    <tr>\n",
       "      <th>0</th>\n",
       "      <td>1</td>\n",
       "      <td>0</td>\n",
       "      <td>#fingerprint #Pregnancy Test https://goo.gl/h1...</td>\n",
       "    </tr>\n",
       "    <tr>\n",
       "      <th>1</th>\n",
       "      <td>2</td>\n",
       "      <td>0</td>\n",
       "      <td>Finally a transparant silicon case ^^ Thanks t...</td>\n",
       "    </tr>\n",
       "    <tr>\n",
       "      <th>2</th>\n",
       "      <td>3</td>\n",
       "      <td>0</td>\n",
       "      <td>We love this! Would you go? #talk #makememorie...</td>\n",
       "    </tr>\n",
       "    <tr>\n",
       "      <th>3</th>\n",
       "      <td>4</td>\n",
       "      <td>0</td>\n",
       "      <td>I'm wired I know I'm George I was made that wa...</td>\n",
       "    </tr>\n",
       "    <tr>\n",
       "      <th>4</th>\n",
       "      <td>5</td>\n",
       "      <td>1</td>\n",
       "      <td>What amazing service! Apple won't even talk to...</td>\n",
       "    </tr>\n",
       "  </tbody>\n",
       "</table>\n",
       "</div>"
      ],
      "text/plain": [
       "   id  label                                              tweet\n",
       "0   1      0  #fingerprint #Pregnancy Test https://goo.gl/h1...\n",
       "1   2      0  Finally a transparant silicon case ^^ Thanks t...\n",
       "2   3      0  We love this! Would you go? #talk #makememorie...\n",
       "3   4      0  I'm wired I know I'm George I was made that wa...\n",
       "4   5      1  What amazing service! Apple won't even talk to..."
      ]
     },
     "execution_count": 3,
     "metadata": {},
     "output_type": "execute_result"
    }
   ],
   "source": [
    "data.head()"
   ]
  },
  {
   "cell_type": "code",
   "execution_count": 4,
   "id": "1a799b73-c311-42e2-a22a-10f654ca2019",
   "metadata": {},
   "outputs": [],
   "source": [
    "## Data Preprocessing"
   ]
  },
  {
   "cell_type": "code",
   "execution_count": 5,
   "id": "28c8107d-2cca-4141-80a7-ad284298c98a",
   "metadata": {},
   "outputs": [
    {
     "data": {
      "text/plain": [
       "(7920, 3)"
      ]
     },
     "execution_count": 5,
     "metadata": {},
     "output_type": "execute_result"
    }
   ],
   "source": [
    "data.shape"
   ]
  },
  {
   "cell_type": "code",
   "execution_count": 8,
   "id": "7124a92e-6c94-41bb-adf9-1fd07b2d7450",
   "metadata": {},
   "outputs": [
    {
     "data": {
      "text/plain": [
       "0"
      ]
     },
     "execution_count": 8,
     "metadata": {},
     "output_type": "execute_result"
    }
   ],
   "source": [
    "data.duplicated().sum()"
   ]
  },
  {
   "cell_type": "code",
   "execution_count": 9,
   "id": "34d0d6ef-79a2-4118-b332-77cbed580faf",
   "metadata": {},
   "outputs": [
    {
     "data": {
      "text/plain": [
       "id       0\n",
       "label    0\n",
       "tweet    0\n",
       "dtype: int64"
      ]
     },
     "execution_count": 9,
     "metadata": {},
     "output_type": "execute_result"
    }
   ],
   "source": [
    "data.isnull().sum()"
   ]
  },
  {
   "cell_type": "code",
   "execution_count": 13,
   "id": "8e691da5-633d-4b8e-8c7a-6b209e8de6ca",
   "metadata": {},
   "outputs": [],
   "source": [
    "## ID and Lable 0 Noice"
   ]
  },
  {
   "cell_type": "code",
   "execution_count": 12,
   "id": "b3c0cd0a-b0bb-4709-a059-a9899026afd4",
   "metadata": {},
   "outputs": [],
   "source": [
    "## Text Preprocessing"
   ]
  },
  {
   "cell_type": "code",
   "execution_count": 14,
   "id": "78c74905-c5f0-4542-ae89-fcc8857f868e",
   "metadata": {},
   "outputs": [],
   "source": [
    "import re\n",
    "import string"
   ]
  },
  {
   "cell_type": "code",
   "execution_count": 16,
   "id": "0bd23d08-4348-46de-a810-b8926ce085df",
   "metadata": {},
   "outputs": [],
   "source": [
    "## Convert Uppercase to Lowercase"
   ]
  },
  {
   "cell_type": "code",
   "execution_count": 17,
   "id": "f1f9345d-ded0-4912-b119-84cd7aff9a94",
   "metadata": {},
   "outputs": [],
   "source": [
    "data[\"tweet\"] = data[\"tweet\"].apply(lambda x: \" \".join(x.lower() for x in x.split()))"
   ]
  },
  {
   "cell_type": "code",
   "execution_count": 18,
   "id": "0aadcf2d-9385-455d-933a-25826e1a4c9f",
   "metadata": {},
   "outputs": [
    {
     "data": {
      "text/plain": [
       "0    #fingerprint #pregnancy test https://goo.gl/h1...\n",
       "1    finally a transparant silicon case ^^ thanks t...\n",
       "2    we love this! would you go? #talk #makememorie...\n",
       "3    i'm wired i know i'm george i was made that wa...\n",
       "4    what amazing service! apple won't even talk to...\n",
       "Name: tweet, dtype: object"
      ]
     },
     "execution_count": 18,
     "metadata": {},
     "output_type": "execute_result"
    }
   ],
   "source": [
    "data[\"tweet\"].head(5)"
   ]
  },
  {
   "cell_type": "code",
   "execution_count": 19,
   "id": "2eaddf17-2487-4703-8a04-83a7582e2e92",
   "metadata": {},
   "outputs": [],
   "source": [
    "## Removing all Links"
   ]
  },
  {
   "cell_type": "code",
   "execution_count": 20,
   "id": "10916bd5-42ff-4b42-a1d8-ac6eef91da55",
   "metadata": {},
   "outputs": [],
   "source": [
    "data[\"tweet\"] = data['tweet'].apply(lambda x: \" \".join(re.sub(r'^https?:\\/\\/.*[\\r\\n]*', '', x, flags=re.MULTILINE) for x in x.split()))"
   ]
  },
  {
   "cell_type": "code",
   "execution_count": 21,
   "id": "32de59a3-ea44-440d-a691-735ff39f41be",
   "metadata": {},
   "outputs": [
    {
     "data": {
      "text/plain": [
       "0    #fingerprint #pregnancy test  #android #apps #...\n",
       "1    finally a transparant silicon case ^^ thanks t...\n",
       "2    we love this! would you go? #talk #makememorie...\n",
       "3    i'm wired i know i'm george i was made that wa...\n",
       "4    what amazing service! apple won't even talk to...\n",
       "Name: tweet, dtype: object"
      ]
     },
     "execution_count": 21,
     "metadata": {},
     "output_type": "execute_result"
    }
   ],
   "source": [
    "data[\"tweet\"].head(5)"
   ]
  },
  {
   "cell_type": "code",
   "execution_count": 22,
   "id": "b2dd62a5-c128-4cb6-9de9-22223c316812",
   "metadata": {},
   "outputs": [],
   "source": [
    "## Remove punctuations"
   ]
  },
  {
   "cell_type": "code",
   "execution_count": 23,
   "id": "871b2dc2-646a-4f94-9f0a-6ed78fc6c1e0",
   "metadata": {},
   "outputs": [
    {
     "data": {
      "text/plain": [
       "'!\"#$%&\\'()*+,-./:;<=>?@[\\\\]^_`{|}~'"
      ]
     },
     "execution_count": 23,
     "metadata": {},
     "output_type": "execute_result"
    }
   ],
   "source": [
    "string.punctuation"
   ]
  },
  {
   "cell_type": "code",
   "execution_count": 24,
   "id": "27703081-ae5d-4fb9-bacd-2efa297066db",
   "metadata": {},
   "outputs": [],
   "source": [
    "def remove_punctuations(text):\n",
    "    for punctuation in string.punctuation:\n",
    "        text = text.replace(punctuation, '')\n",
    "    return text\n",
    "\n",
    "data[\"tweet\"] = data[\"tweet\"].apply(remove_punctuations)"
   ]
  },
  {
   "cell_type": "code",
   "execution_count": 25,
   "id": "d3325244-5ebf-47f8-aa74-287c335c6e40",
   "metadata": {},
   "outputs": [
    {
     "data": {
      "text/plain": [
       "0    fingerprint pregnancy test  android apps beaut...\n",
       "1    finally a transparant silicon case  thanks to ...\n",
       "2    we love this would you go talk makememories un...\n",
       "3    im wired i know im george i was made that way ...\n",
       "4    what amazing service apple wont even talk to m...\n",
       "Name: tweet, dtype: object"
      ]
     },
     "execution_count": 25,
     "metadata": {},
     "output_type": "execute_result"
    }
   ],
   "source": [
    "data[\"tweet\"].head(5)"
   ]
  },
  {
   "cell_type": "code",
   "execution_count": 26,
   "id": "8b4c7e90-b256-4275-b9fc-68e44900d6d4",
   "metadata": {},
   "outputs": [],
   "source": [
    "## Remove Numbers"
   ]
  },
  {
   "cell_type": "code",
   "execution_count": 27,
   "id": "b69474f7-ded8-409c-a47b-ad08d95a0c7c",
   "metadata": {},
   "outputs": [],
   "source": [
    "data[\"tweet\"] = data['tweet'].str.replace('\\d+', '', regex=True)"
   ]
  },
  {
   "cell_type": "code",
   "execution_count": 28,
   "id": "a0268516-0696-4a68-9252-d8aabfb0aad5",
   "metadata": {},
   "outputs": [
    {
     "data": {
      "text/plain": [
       "7915    live out loud lol liveoutloud selfie smile son...\n",
       "7916    we would like to wish you an amazing day make ...\n",
       "7917    helping my lovely  year old neighbor with her ...\n",
       "7918    finally got my smart pocket wifi stay connecte...\n",
       "7919    apple barcelona apple store bcn barcelona trav...\n",
       "Name: tweet, dtype: object"
      ]
     },
     "execution_count": 28,
     "metadata": {},
     "output_type": "execute_result"
    }
   ],
   "source": [
    "data[\"tweet\"].tail(5)"
   ]
  },
  {
   "cell_type": "code",
   "execution_count": 29,
   "id": "7cc7fca2-e4dc-490b-a59d-80b29b3af40d",
   "metadata": {},
   "outputs": [],
   "source": [
    "## Remove Stopwords"
   ]
  },
  {
   "cell_type": "code",
   "execution_count": 30,
   "id": "75eceda3-cbd2-4380-a0e9-afd56ce86ba9",
   "metadata": {},
   "outputs": [
    {
     "ename": "ModuleNotFoundError",
     "evalue": "No module named 'nltk'",
     "output_type": "error",
     "traceback": [
      "\u001b[1;31m---------------------------------------------------------------------------\u001b[0m",
      "\u001b[1;31mModuleNotFoundError\u001b[0m                       Traceback (most recent call last)",
      "Cell \u001b[1;32mIn[30], line 1\u001b[0m\n\u001b[1;32m----> 1\u001b[0m \u001b[38;5;28;01mimport\u001b[39;00m \u001b[38;5;21;01mnltk\u001b[39;00m\n",
      "\u001b[1;31mModuleNotFoundError\u001b[0m: No module named 'nltk'"
     ]
    }
   ],
   "source": [
    "import nltk"
   ]
  },
  {
   "cell_type": "code",
   "execution_count": 31,
   "id": "baaf279a-a649-4b5b-99ea-6b54b07bb5e9",
   "metadata": {},
   "outputs": [
    {
     "name": "stdout",
     "output_type": "stream",
     "text": [
      "Collecting nltk\n",
      "  Downloading nltk-3.8.1-py3-none-any.whl (1.5 MB)\n",
      "     ---------------------------------------- 0.0/1.5 MB ? eta -:--:--\n",
      "     ---------------------------------------- 0.0/1.5 MB ? eta -:--:--\n",
      "     - -------------------------------------- 0.1/1.5 MB 550.5 kB/s eta 0:00:03\n",
      "     - -------------------------------------- 0.1/1.5 MB 491.5 kB/s eta 0:00:03\n",
      "     - -------------------------------------- 0.1/1.5 MB 491.5 kB/s eta 0:00:03\n",
      "     -- ------------------------------------- 0.1/1.5 MB 403.5 kB/s eta 0:00:04\n",
      "     ---- ----------------------------------- 0.2/1.5 MB 583.1 kB/s eta 0:00:03\n",
      "     ----- ---------------------------------- 0.2/1.5 MB 657.3 kB/s eta 0:00:02\n",
      "     ----- ---------------------------------- 0.2/1.5 MB 599.0 kB/s eta 0:00:03\n",
      "     -------- ------------------------------- 0.3/1.5 MB 705.4 kB/s eta 0:00:02\n",
      "     -------- ------------------------------- 0.3/1.5 MB 723.4 kB/s eta 0:00:02\n",
      "     ---------- ----------------------------- 0.4/1.5 MB 778.2 kB/s eta 0:00:02\n",
      "     ----------- ---------------------------- 0.5/1.5 MB 806.4 kB/s eta 0:00:02\n",
      "     ------------- -------------------------- 0.5/1.5 MB 790.3 kB/s eta 0:00:02\n",
      "     -------------- ------------------------- 0.6/1.5 MB 864.0 kB/s eta 0:00:02\n",
      "     ---------------- ----------------------- 0.6/1.5 MB 879.4 kB/s eta 0:00:02\n",
      "     ----------------- ---------------------- 0.6/1.5 MB 865.0 kB/s eta 0:00:02\n",
      "     ----------------- ---------------------- 0.6/1.5 MB 865.0 kB/s eta 0:00:02\n",
      "     ------------------ --------------------- 0.7/1.5 MB 816.2 kB/s eta 0:00:02\n",
      "     ------------------ --------------------- 0.7/1.5 MB 816.2 kB/s eta 0:00:02\n",
      "     ------------------ --------------------- 0.7/1.5 MB 756.0 kB/s eta 0:00:02\n",
      "     ------------------- -------------------- 0.7/1.5 MB 740.5 kB/s eta 0:00:02\n",
      "     ------------------- -------------------- 0.7/1.5 MB 740.5 kB/s eta 0:00:02\n",
      "     -------------------- ------------------- 0.8/1.5 MB 732.8 kB/s eta 0:00:01\n",
      "     --------------------- ------------------ 0.8/1.5 MB 729.4 kB/s eta 0:00:01\n",
      "     ---------------------- ----------------- 0.8/1.5 MB 737.3 kB/s eta 0:00:01\n",
      "     ----------------------- ---------------- 0.9/1.5 MB 732.0 kB/s eta 0:00:01\n",
      "     ------------------------ --------------- 0.9/1.5 MB 729.1 kB/s eta 0:00:01\n",
      "     ------------------------ --------------- 0.9/1.5 MB 736.6 kB/s eta 0:00:01\n",
      "     ------------------------- -------------- 1.0/1.5 MB 709.4 kB/s eta 0:00:01\n",
      "     -------------------------- ------------- 1.0/1.5 MB 714.9 kB/s eta 0:00:01\n",
      "     -------------------------- ------------- 1.0/1.5 MB 713.7 kB/s eta 0:00:01\n",
      "     --------------------------- ------------ 1.0/1.5 MB 697.5 kB/s eta 0:00:01\n",
      "     --------------------------- ------------ 1.0/1.5 MB 689.5 kB/s eta 0:00:01\n",
      "     ---------------------------- ----------- 1.1/1.5 MB 688.9 kB/s eta 0:00:01\n",
      "     ----------------------------- ---------- 1.1/1.5 MB 674.3 kB/s eta 0:00:01\n",
      "     ------------------------------ --------- 1.1/1.5 MB 686.4 kB/s eta 0:00:01\n",
      "     ------------------------------- -------- 1.2/1.5 MB 697.4 kB/s eta 0:00:01\n",
      "     --------------------------------- ------ 1.3/1.5 MB 707.8 kB/s eta 0:00:01\n",
      "     --------------------------------- ------ 1.3/1.5 MB 707.8 kB/s eta 0:00:01\n",
      "     ----------------------------------- ---- 1.3/1.5 MB 716.7 kB/s eta 0:00:01\n",
      "     ------------------------------------ --- 1.4/1.5 MB 715.2 kB/s eta 0:00:01\n",
      "     -------------------------------------- - 1.5/1.5 MB 744.5 kB/s eta 0:00:01\n",
      "     ---------------------------------------  1.5/1.5 MB 744.1 kB/s eta 0:00:01\n",
      "     ---------------------------------------  1.5/1.5 MB 744.1 kB/s eta 0:00:01\n",
      "     ---------------------------------------  1.5/1.5 MB 725.0 kB/s eta 0:00:01\n",
      "     ---------------------------------------  1.5/1.5 MB 725.0 kB/s eta 0:00:01\n",
      "     ---------------------------------------- 1.5/1.5 MB 701.1 kB/s eta 0:00:00\n",
      "Collecting click (from nltk)\n",
      "  Downloading click-8.1.7-py3-none-any.whl.metadata (3.0 kB)\n",
      "Collecting joblib (from nltk)\n",
      "  Downloading joblib-1.3.2-py3-none-any.whl.metadata (5.4 kB)\n",
      "Collecting regex>=2021.8.3 (from nltk)\n",
      "  Downloading regex-2023.10.3-cp311-cp311-win_amd64.whl.metadata (41 kB)\n",
      "     ---------------------------------------- 0.0/42.0 kB ? eta -:--:--\n",
      "     --------------------------- ---------- 30.7/42.0 kB 660.6 kB/s eta 0:00:01\n",
      "     -------------------------------------  41.0/42.0 kB 667.8 kB/s eta 0:00:01\n",
      "     -------------------------------------  41.0/42.0 kB 667.8 kB/s eta 0:00:01\n",
      "     -------------------------------------- 42.0/42.0 kB 226.7 kB/s eta 0:00:00\n",
      "Requirement already satisfied: tqdm in c:\\users\\shan\\desktop\\sentiment_analysis_project\\env\\lib\\site-packages (from nltk) (4.66.1)\n",
      "Requirement already satisfied: colorama in c:\\users\\shan\\desktop\\sentiment_analysis_project\\env\\lib\\site-packages (from click->nltk) (0.4.6)\n",
      "Downloading regex-2023.10.3-cp311-cp311-win_amd64.whl (269 kB)\n",
      "   ---------------------------------------- 0.0/269.6 kB ? eta -:--:--\n",
      "   - -------------------------------------- 10.2/269.6 kB ? eta -:--:--\n",
      "   ------------------ --------------------- 122.9/269.6 kB 1.4 MB/s eta 0:00:01\n",
      "   --------------------- ------------------ 143.4/269.6 kB 1.4 MB/s eta 0:00:01\n",
      "   ---------------------------------- ----- 235.5/269.6 kB 1.3 MB/s eta 0:00:01\n",
      "   ---------------------------------- ----- 235.5/269.6 kB 1.3 MB/s eta 0:00:01\n",
      "   ---------------------------------------  266.2/269.6 kB 1.0 MB/s eta 0:00:01\n",
      "   ---------------------------------------  266.2/269.6 kB 1.0 MB/s eta 0:00:01\n",
      "   -------------------------------------- 269.6/269.6 kB 753.9 kB/s eta 0:00:00\n",
      "Downloading click-8.1.7-py3-none-any.whl (97 kB)\n",
      "   ---------------------------------------- 0.0/97.9 kB ? eta -:--:--\n",
      "   ------------------------------------- -- 92.2/97.9 kB 1.8 MB/s eta 0:00:01\n",
      "   ------------------------------------- -- 92.2/97.9 kB 1.8 MB/s eta 0:00:01\n",
      "   ---------------------------------------- 97.9/97.9 kB 804.6 kB/s eta 0:00:00\n",
      "Downloading joblib-1.3.2-py3-none-any.whl (302 kB)\n",
      "   ---------------------------------------- 0.0/302.2 kB ? eta -:--:--\n",
      "   - -------------------------------------- 10.2/302.2 kB ? eta -:--:--\n",
      "   --- ----------------------------------- 30.7/302.2 kB 435.7 kB/s eta 0:00:01\n",
      "   --------- ----------------------------- 71.7/302.2 kB 653.6 kB/s eta 0:00:01\n",
      "   ----------- --------------------------- 92.2/302.2 kB 744.7 kB/s eta 0:00:01\n",
      "   ----------- --------------------------- 92.2/302.2 kB 744.7 kB/s eta 0:00:01\n",
      "   ------------------- ------------------ 153.6/302.2 kB 706.2 kB/s eta 0:00:01\n",
      "   ------------------------ ------------- 194.6/302.2 kB 653.6 kB/s eta 0:00:01\n",
      "   ---------------------------------- --- 276.5/302.2 kB 811.7 kB/s eta 0:00:01\n",
      "   ---------------------------------- --- 276.5/302.2 kB 811.7 kB/s eta 0:00:01\n",
      "   -------------------------------------  297.0/302.2 kB 704.5 kB/s eta 0:00:01\n",
      "   -------------------------------------  297.0/302.2 kB 704.5 kB/s eta 0:00:01\n",
      "   -------------------------------------- 302.2/302.2 kB 565.8 kB/s eta 0:00:00\n",
      "Installing collected packages: regex, joblib, click, nltk\n",
      "Successfully installed click-8.1.7 joblib-1.3.2 nltk-3.8.1 regex-2023.10.3\n"
     ]
    }
   ],
   "source": [
    "!pip install nltk"
   ]
  },
  {
   "cell_type": "code",
   "execution_count": 32,
   "id": "608c8dbc-2a34-4d0e-b076-990b2110c07c",
   "metadata": {},
   "outputs": [],
   "source": [
    "import nltk"
   ]
  },
  {
   "cell_type": "code",
   "execution_count": 33,
   "id": "adca305a-22ff-46eb-98b0-e71e2a8c7db8",
   "metadata": {},
   "outputs": [
    {
     "name": "stderr",
     "output_type": "stream",
     "text": [
      "[nltk_data] Downloading package stopwords to ../static/model...\n",
      "[nltk_data]   Unzipping corpora\\stopwords.zip.\n"
     ]
    },
    {
     "data": {
      "text/plain": [
       "True"
      ]
     },
     "execution_count": 33,
     "metadata": {},
     "output_type": "execute_result"
    }
   ],
   "source": [
    "nltk.download('stopwords', download_dir='../static/model')"
   ]
  },
  {
   "cell_type": "code",
   "execution_count": 34,
   "id": "8125d35c-4a75-420a-a38e-170a504fa640",
   "metadata": {},
   "outputs": [],
   "source": [
    "with open('../static/model/corpora/stopwords/english', 'r') as file:\n",
    "    sw = file.read().splitlines()"
   ]
  },
  {
   "cell_type": "code",
   "execution_count": 35,
   "id": "b7ddd958-929e-4d3d-b884-83156777624e",
   "metadata": {},
   "outputs": [
    {
     "data": {
      "text/plain": [
       "['i',\n",
       " 'me',\n",
       " 'my',\n",
       " 'myself',\n",
       " 'we',\n",
       " 'our',\n",
       " 'ours',\n",
       " 'ourselves',\n",
       " 'you',\n",
       " \"you're\",\n",
       " \"you've\",\n",
       " \"you'll\",\n",
       " \"you'd\",\n",
       " 'your',\n",
       " 'yours',\n",
       " 'yourself',\n",
       " 'yourselves',\n",
       " 'he',\n",
       " 'him',\n",
       " 'his',\n",
       " 'himself',\n",
       " 'she',\n",
       " \"she's\",\n",
       " 'her',\n",
       " 'hers',\n",
       " 'herself',\n",
       " 'it',\n",
       " \"it's\",\n",
       " 'its',\n",
       " 'itself',\n",
       " 'they',\n",
       " 'them',\n",
       " 'their',\n",
       " 'theirs',\n",
       " 'themselves',\n",
       " 'what',\n",
       " 'which',\n",
       " 'who',\n",
       " 'whom',\n",
       " 'this',\n",
       " 'that',\n",
       " \"that'll\",\n",
       " 'these',\n",
       " 'those',\n",
       " 'am',\n",
       " 'is',\n",
       " 'are',\n",
       " 'was',\n",
       " 'were',\n",
       " 'be',\n",
       " 'been',\n",
       " 'being',\n",
       " 'have',\n",
       " 'has',\n",
       " 'had',\n",
       " 'having',\n",
       " 'do',\n",
       " 'does',\n",
       " 'did',\n",
       " 'doing',\n",
       " 'a',\n",
       " 'an',\n",
       " 'the',\n",
       " 'and',\n",
       " 'but',\n",
       " 'if',\n",
       " 'or',\n",
       " 'because',\n",
       " 'as',\n",
       " 'until',\n",
       " 'while',\n",
       " 'of',\n",
       " 'at',\n",
       " 'by',\n",
       " 'for',\n",
       " 'with',\n",
       " 'about',\n",
       " 'against',\n",
       " 'between',\n",
       " 'into',\n",
       " 'through',\n",
       " 'during',\n",
       " 'before',\n",
       " 'after',\n",
       " 'above',\n",
       " 'below',\n",
       " 'to',\n",
       " 'from',\n",
       " 'up',\n",
       " 'down',\n",
       " 'in',\n",
       " 'out',\n",
       " 'on',\n",
       " 'off',\n",
       " 'over',\n",
       " 'under',\n",
       " 'again',\n",
       " 'further',\n",
       " 'then',\n",
       " 'once',\n",
       " 'here',\n",
       " 'there',\n",
       " 'when',\n",
       " 'where',\n",
       " 'why',\n",
       " 'how',\n",
       " 'all',\n",
       " 'any',\n",
       " 'both',\n",
       " 'each',\n",
       " 'few',\n",
       " 'more',\n",
       " 'most',\n",
       " 'other',\n",
       " 'some',\n",
       " 'such',\n",
       " 'no',\n",
       " 'nor',\n",
       " 'not',\n",
       " 'only',\n",
       " 'own',\n",
       " 'same',\n",
       " 'so',\n",
       " 'than',\n",
       " 'too',\n",
       " 'very',\n",
       " 's',\n",
       " 't',\n",
       " 'can',\n",
       " 'will',\n",
       " 'just',\n",
       " 'don',\n",
       " \"don't\",\n",
       " 'should',\n",
       " \"should've\",\n",
       " 'now',\n",
       " 'd',\n",
       " 'll',\n",
       " 'm',\n",
       " 'o',\n",
       " 're',\n",
       " 've',\n",
       " 'y',\n",
       " 'ain',\n",
       " 'aren',\n",
       " \"aren't\",\n",
       " 'couldn',\n",
       " \"couldn't\",\n",
       " 'didn',\n",
       " \"didn't\",\n",
       " 'doesn',\n",
       " \"doesn't\",\n",
       " 'hadn',\n",
       " \"hadn't\",\n",
       " 'hasn',\n",
       " \"hasn't\",\n",
       " 'haven',\n",
       " \"haven't\",\n",
       " 'isn',\n",
       " \"isn't\",\n",
       " 'ma',\n",
       " 'mightn',\n",
       " \"mightn't\",\n",
       " 'mustn',\n",
       " \"mustn't\",\n",
       " 'needn',\n",
       " \"needn't\",\n",
       " 'shan',\n",
       " \"shan't\",\n",
       " 'shouldn',\n",
       " \"shouldn't\",\n",
       " 'wasn',\n",
       " \"wasn't\",\n",
       " 'weren',\n",
       " \"weren't\",\n",
       " 'won',\n",
       " \"won't\",\n",
       " 'wouldn',\n",
       " \"wouldn't\"]"
      ]
     },
     "execution_count": 35,
     "metadata": {},
     "output_type": "execute_result"
    }
   ],
   "source": [
    "sw\n"
   ]
  },
  {
   "cell_type": "code",
   "execution_count": 36,
   "id": "c4a09ee4-e4e5-4c41-be90-e1b6c09d696c",
   "metadata": {},
   "outputs": [],
   "source": [
    "data[\"tweet\"] = data[\"tweet\"].apply(lambda x: \" \".join(x for x in x.split() if x not in sw))"
   ]
  },
  {
   "cell_type": "code",
   "execution_count": 37,
   "id": "f01ee57b-eff5-48bb-bb69-84d980ca3ad2",
   "metadata": {},
   "outputs": [
    {
     "data": {
      "text/plain": [
       "0    fingerprint pregnancy test android apps beauti...\n",
       "1    finally transparant silicon case thanks uncle ...\n",
       "2    love would go talk makememories unplug relax i...\n",
       "3    im wired know im george made way iphone cute d...\n",
       "4    amazing service apple wont even talk question ...\n",
       "Name: tweet, dtype: object"
      ]
     },
     "execution_count": 37,
     "metadata": {},
     "output_type": "execute_result"
    }
   ],
   "source": [
    "data[\"tweet\"].head(5)"
   ]
  },
  {
   "cell_type": "code",
   "execution_count": 38,
   "id": "5213f8cc-6210-4754-ab99-442ff8883a85",
   "metadata": {},
   "outputs": [],
   "source": [
    "## Stemming"
   ]
  },
  {
   "cell_type": "code",
   "execution_count": 39,
   "id": "0e560c5c-6636-4e16-b0ea-d3aa7726537b",
   "metadata": {},
   "outputs": [],
   "source": [
    "from nltk.stem import PorterStemmer\n",
    "ps = PorterStemmer()"
   ]
  },
  {
   "cell_type": "code",
   "execution_count": 40,
   "id": "e0d8e59f-dfa8-4693-ba66-389d7b8828ed",
   "metadata": {},
   "outputs": [],
   "source": [
    "data[\"tweet\"] = data[\"tweet\"].apply(lambda x: \" \".join(ps.stem(x) for x in x.split()))"
   ]
  },
  {
   "cell_type": "code",
   "execution_count": 41,
   "id": "f1b8f168-3991-4c28-9133-d8e8cba9747f",
   "metadata": {},
   "outputs": [
    {
     "data": {
      "text/plain": [
       "0    fingerprint pregnanc test android app beauti c...\n",
       "1    final transpar silicon case thank uncl yay son...\n",
       "2    love would go talk makememori unplug relax iph...\n",
       "3    im wire know im georg made way iphon cute dave...\n",
       "4    amaz servic appl wont even talk question unles...\n",
       "Name: tweet, dtype: object"
      ]
     },
     "execution_count": 41,
     "metadata": {},
     "output_type": "execute_result"
    }
   ],
   "source": [
    "data[\"tweet\"].head(5)"
   ]
  },
  {
   "cell_type": "code",
   "execution_count": 42,
   "id": "478b0305-6d03-4f66-bfff-878ea5a62bae",
   "metadata": {},
   "outputs": [
    {
     "data": {
      "text/html": [
       "<div>\n",
       "<style scoped>\n",
       "    .dataframe tbody tr th:only-of-type {\n",
       "        vertical-align: middle;\n",
       "    }\n",
       "\n",
       "    .dataframe tbody tr th {\n",
       "        vertical-align: top;\n",
       "    }\n",
       "\n",
       "    .dataframe thead th {\n",
       "        text-align: right;\n",
       "    }\n",
       "</style>\n",
       "<table border=\"1\" class=\"dataframe\">\n",
       "  <thead>\n",
       "    <tr style=\"text-align: right;\">\n",
       "      <th></th>\n",
       "      <th>id</th>\n",
       "      <th>label</th>\n",
       "      <th>tweet</th>\n",
       "    </tr>\n",
       "  </thead>\n",
       "  <tbody>\n",
       "    <tr>\n",
       "      <th>0</th>\n",
       "      <td>1</td>\n",
       "      <td>0</td>\n",
       "      <td>fingerprint pregnanc test android app beauti c...</td>\n",
       "    </tr>\n",
       "    <tr>\n",
       "      <th>1</th>\n",
       "      <td>2</td>\n",
       "      <td>0</td>\n",
       "      <td>final transpar silicon case thank uncl yay son...</td>\n",
       "    </tr>\n",
       "    <tr>\n",
       "      <th>2</th>\n",
       "      <td>3</td>\n",
       "      <td>0</td>\n",
       "      <td>love would go talk makememori unplug relax iph...</td>\n",
       "    </tr>\n",
       "    <tr>\n",
       "      <th>3</th>\n",
       "      <td>4</td>\n",
       "      <td>0</td>\n",
       "      <td>im wire know im georg made way iphon cute dave...</td>\n",
       "    </tr>\n",
       "    <tr>\n",
       "      <th>4</th>\n",
       "      <td>5</td>\n",
       "      <td>1</td>\n",
       "      <td>amaz servic appl wont even talk question unles...</td>\n",
       "    </tr>\n",
       "    <tr>\n",
       "      <th>...</th>\n",
       "      <td>...</td>\n",
       "      <td>...</td>\n",
       "      <td>...</td>\n",
       "    </tr>\n",
       "    <tr>\n",
       "      <th>7915</th>\n",
       "      <td>7916</td>\n",
       "      <td>0</td>\n",
       "      <td>live loud lol liveoutloud selfi smile soni mus...</td>\n",
       "    </tr>\n",
       "    <tr>\n",
       "      <th>7916</th>\n",
       "      <td>7917</td>\n",
       "      <td>0</td>\n",
       "      <td>would like wish amaz day make everi minut coun...</td>\n",
       "    </tr>\n",
       "    <tr>\n",
       "      <th>7917</th>\n",
       "      <td>7918</td>\n",
       "      <td>0</td>\n",
       "      <td>help love year old neighbor ipad morn made rea...</td>\n",
       "    </tr>\n",
       "    <tr>\n",
       "      <th>7918</th>\n",
       "      <td>7919</td>\n",
       "      <td>0</td>\n",
       "      <td>final got smart pocket wifi stay connect anyti...</td>\n",
       "    </tr>\n",
       "    <tr>\n",
       "      <th>7919</th>\n",
       "      <td>7920</td>\n",
       "      <td>0</td>\n",
       "      <td>appl barcelona appl store bcn barcelona travel...</td>\n",
       "    </tr>\n",
       "  </tbody>\n",
       "</table>\n",
       "<p>7920 rows × 3 columns</p>\n",
       "</div>"
      ],
      "text/plain": [
       "        id  label                                              tweet\n",
       "0        1      0  fingerprint pregnanc test android app beauti c...\n",
       "1        2      0  final transpar silicon case thank uncl yay son...\n",
       "2        3      0  love would go talk makememori unplug relax iph...\n",
       "3        4      0  im wire know im georg made way iphon cute dave...\n",
       "4        5      1  amaz servic appl wont even talk question unles...\n",
       "...    ...    ...                                                ...\n",
       "7915  7916      0  live loud lol liveoutloud selfi smile soni mus...\n",
       "7916  7917      0  would like wish amaz day make everi minut coun...\n",
       "7917  7918      0  help love year old neighbor ipad morn made rea...\n",
       "7918  7919      0  final got smart pocket wifi stay connect anyti...\n",
       "7919  7920      0  appl barcelona appl store bcn barcelona travel...\n",
       "\n",
       "[7920 rows x 3 columns]"
      ]
     },
     "execution_count": 42,
     "metadata": {},
     "output_type": "execute_result"
    }
   ],
   "source": [
    "data"
   ]
  },
  {
   "cell_type": "code",
   "execution_count": 43,
   "id": "9e311dfc-2b06-4928-be6e-7f73122081c4",
   "metadata": {},
   "outputs": [],
   "source": [
    "## Building Vacabulary"
   ]
  },
  {
   "cell_type": "code",
   "execution_count": 50,
   "id": "0aaeac4c-95c9-4756-99d6-c3952accb3be",
   "metadata": {},
   "outputs": [],
   "source": [
    "from collections import Counter\n",
    "vocab = Counter()"
   ]
  },
  {
   "cell_type": "code",
   "execution_count": 45,
   "id": "1e76a46f-55f4-4de2-88f3-aa3824241893",
   "metadata": {},
   "outputs": [
    {
     "data": {
      "text/plain": [
       "Counter()"
      ]
     },
     "execution_count": 45,
     "metadata": {},
     "output_type": "execute_result"
    }
   ],
   "source": [
    "vocab"
   ]
  },
  {
   "cell_type": "code",
   "execution_count": null,
   "id": "1f7a7be3-100a-4672-a61b-1c7159e0f8b2",
   "metadata": {},
   "outputs": [],
   "source": [
    "vocab.update(['java','python','python', 'c++'])"
   ]
  },
  {
   "cell_type": "code",
   "execution_count": 51,
   "id": "a1a404f4-d930-4215-96d9-d913388c97ba",
   "metadata": {},
   "outputs": [
    {
     "data": {
      "text/plain": [
       "Counter()"
      ]
     },
     "execution_count": 51,
     "metadata": {},
     "output_type": "execute_result"
    }
   ],
   "source": [
    "vocab"
   ]
  },
  {
   "cell_type": "code",
   "execution_count": 52,
   "id": "cae1c3b2-d35f-44f1-a77f-10438c19c3d5",
   "metadata": {},
   "outputs": [],
   "source": [
    "for sentence in data['tweet']:\n",
    "    vocab.update(sentence.split())"
   ]
  },
  {
   "cell_type": "code",
   "execution_count": 54,
   "id": "fa73ab6d-e67e-4eec-b9f6-2cdaaa9190cf",
   "metadata": {},
   "outputs": [
    {
     "data": {
      "text/plain": [
       "15949"
      ]
     },
     "execution_count": 54,
     "metadata": {},
     "output_type": "execute_result"
    }
   ],
   "source": [
    "len(vocab)"
   ]
  },
  {
   "cell_type": "code",
   "execution_count": 55,
   "id": "19f6d243-820a-458b-a1d8-d0b260d4df6d",
   "metadata": {},
   "outputs": [
    {
     "data": {
      "text/plain": [
       "(7920, 3)"
      ]
     },
     "execution_count": 55,
     "metadata": {},
     "output_type": "execute_result"
    }
   ],
   "source": [
    "data.shape"
   ]
  },
  {
   "cell_type": "code",
   "execution_count": 56,
   "id": "4f258a0c-1c76-4d6f-8967-9de36a6b5339",
   "metadata": {},
   "outputs": [],
   "source": [
    "## over fitting a model"
   ]
  },
  {
   "cell_type": "code",
   "execution_count": 57,
   "id": "cbe8d4e1-f521-4e37-ab24-c595a7b5b513",
   "metadata": {},
   "outputs": [],
   "source": [
    "tokens = [key for key in vocab if vocab[key] > 10]"
   ]
  },
  {
   "cell_type": "code",
   "execution_count": 58,
   "id": "5f950775-7963-42d1-b17d-09aeb3f1ccd4",
   "metadata": {},
   "outputs": [
    {
     "data": {
      "text/plain": [
       "1145"
      ]
     },
     "execution_count": 58,
     "metadata": {},
     "output_type": "execute_result"
    }
   ],
   "source": [
    "len(tokens)"
   ]
  },
  {
   "cell_type": "code",
   "execution_count": 59,
   "id": "956e950d-8097-4dbc-87c2-23f31a13a4cf",
   "metadata": {},
   "outputs": [],
   "source": [
    "## shape :)"
   ]
  },
  {
   "cell_type": "code",
   "execution_count": 60,
   "id": "8c0d0c45-42de-411c-b711-c6ba85790bbd",
   "metadata": {},
   "outputs": [],
   "source": [
    "def save_vocabulary(lines, filename):\n",
    "    data = '\\n'.join(lines)\n",
    "    file = open(filename, 'w', encoding=\"utf-8\")\n",
    "    file.write(data)\n",
    "    file.close()\n",
    "\n",
    "save_vocabulary(tokens, '../static/model/vocabulary.txt')"
   ]
  },
  {
   "cell_type": "code",
   "execution_count": 61,
   "id": "a9659ba3-2ba9-4955-bf15-0fe78bb35c4e",
   "metadata": {},
   "outputs": [],
   "source": [
    "## Divide dataset"
   ]
  },
  {
   "cell_type": "code",
   "execution_count": 62,
   "id": "f92ffa9f-8d6d-4f78-8e9e-00ab82f4d135",
   "metadata": {},
   "outputs": [],
   "source": [
    "X = data['tweet']\n",
    "y = data['label']"
   ]
  },
  {
   "cell_type": "code",
   "execution_count": 66,
   "id": "83e40621-d404-4c60-9188-3e3822615e79",
   "metadata": {},
   "outputs": [
    {
     "data": {
      "text/plain": [
       "0       0\n",
       "1       0\n",
       "2       0\n",
       "3       0\n",
       "4       1\n",
       "       ..\n",
       "7915    0\n",
       "7916    0\n",
       "7917    0\n",
       "7918    0\n",
       "7919    0\n",
       "Name: label, Length: 7920, dtype: int64"
      ]
     },
     "execution_count": 66,
     "metadata": {},
     "output_type": "execute_result"
    }
   ],
   "source": [
    "y"
   ]
  },
  {
   "cell_type": "code",
   "execution_count": 67,
   "id": "c821f8e8-9bd7-416f-9074-d532158f4014",
   "metadata": {},
   "outputs": [
    {
     "name": "stdout",
     "output_type": "stream",
     "text": [
      "Collecting scikit-learn\n",
      "  Downloading scikit_learn-1.3.2-cp311-cp311-win_amd64.whl.metadata (11 kB)\n",
      "Requirement already satisfied: numpy<2.0,>=1.17.3 in c:\\users\\shan\\desktop\\sentiment_analysis_project\\env\\lib\\site-packages (from scikit-learn) (1.26.2)\n",
      "Collecting scipy>=1.5.0 (from scikit-learn)\n",
      "  Downloading scipy-1.11.4-cp311-cp311-win_amd64.whl.metadata (60 kB)\n",
      "     ---------------------------------------- 0.0/60.4 kB ? eta -:--:--\n",
      "     -------------------- ------------------- 30.7/60.4 kB 1.3 MB/s eta 0:00:01\n",
      "     -------------------------------- ----- 51.2/60.4 kB 525.1 kB/s eta 0:00:01\n",
      "     -------------------------------- ----- 51.2/60.4 kB 525.1 kB/s eta 0:00:01\n",
      "     -------------------------------------- 60.4/60.4 kB 321.5 kB/s eta 0:00:00\n",
      "Requirement already satisfied: joblib>=1.1.1 in c:\\users\\shan\\desktop\\sentiment_analysis_project\\env\\lib\\site-packages (from scikit-learn) (1.3.2)\n",
      "Collecting threadpoolctl>=2.0.0 (from scikit-learn)\n",
      "  Downloading threadpoolctl-3.2.0-py3-none-any.whl.metadata (10.0 kB)\n",
      "Downloading scikit_learn-1.3.2-cp311-cp311-win_amd64.whl (9.2 MB)\n",
      "   ---------------------------------------- 0.0/9.2 MB ? eta -:--:--\n",
      "   ---------------------------------------- 0.0/9.2 MB 1.4 MB/s eta 0:00:07\n",
      "   ---------------------------------------- 0.1/9.2 MB 1.1 MB/s eta 0:00:09\n",
      "   ---------------------------------------- 0.1/9.2 MB 751.6 kB/s eta 0:00:13\n",
      "    --------------------------------------- 0.1/9.2 MB 804.6 kB/s eta 0:00:12\n",
      "    --------------------------------------- 0.2/9.2 MB 756.6 kB/s eta 0:00:12\n",
      "    --------------------------------------- 0.2/9.2 MB 737.3 kB/s eta 0:00:13\n",
      "    --------------------------------------- 0.2/9.2 MB 724.0 kB/s eta 0:00:13\n",
      "   - -------------------------------------- 0.2/9.2 MB 718.0 kB/s eta 0:00:13\n",
      "   - -------------------------------------- 0.3/9.2 MB 682.7 kB/s eta 0:00:14\n",
      "   - -------------------------------------- 0.3/9.2 MB 681.0 kB/s eta 0:00:14\n",
      "   - -------------------------------------- 0.3/9.2 MB 676.8 kB/s eta 0:00:14\n",
      "   - -------------------------------------- 0.3/9.2 MB 636.3 kB/s eta 0:00:14\n",
      "   - -------------------------------------- 0.4/9.2 MB 602.4 kB/s eta 0:00:15\n",
      "   - -------------------------------------- 0.4/9.2 MB 606.2 kB/s eta 0:00:15\n",
      "   - -------------------------------------- 0.4/9.2 MB 608.8 kB/s eta 0:00:15\n",
      "   - -------------------------------------- 0.4/9.2 MB 598.2 kB/s eta 0:00:15\n",
      "   - -------------------------------------- 0.5/9.2 MB 587.1 kB/s eta 0:00:15\n",
      "   -- ------------------------------------- 0.5/9.2 MB 578.2 kB/s eta 0:00:16\n",
      "   -- ------------------------------------- 0.5/9.2 MB 582.4 kB/s eta 0:00:15\n",
      "   -- ------------------------------------- 0.5/9.2 MB 585.1 kB/s eta 0:00:15\n",
      "   -- ------------------------------------- 0.5/9.2 MB 566.4 kB/s eta 0:00:16\n",
      "   -- ------------------------------------- 0.6/9.2 MB 573.4 kB/s eta 0:00:16\n",
      "   -- ------------------------------------- 0.6/9.2 MB 566.1 kB/s eta 0:00:16\n",
      "   -- ------------------------------------- 0.6/9.2 MB 569.9 kB/s eta 0:00:16\n",
      "   -- ------------------------------------- 0.7/9.2 MB 591.6 kB/s eta 0:00:15\n",
      "   --- ------------------------------------ 0.7/9.2 MB 594.1 kB/s eta 0:00:15\n",
      "   --- ------------------------------------ 0.7/9.2 MB 603.9 kB/s eta 0:00:15\n",
      "   --- ------------------------------------ 0.8/9.2 MB 607.5 kB/s eta 0:00:14\n",
      "   --- ------------------------------------ 0.8/9.2 MB 616.9 kB/s eta 0:00:14\n",
      "   --- ------------------------------------ 0.9/9.2 MB 632.9 kB/s eta 0:00:14\n",
      "   --- ------------------------------------ 0.9/9.2 MB 640.9 kB/s eta 0:00:13\n",
      "   ---- ----------------------------------- 0.9/9.2 MB 648.5 kB/s eta 0:00:13\n",
      "   ---- ----------------------------------- 1.0/9.2 MB 634.8 kB/s eta 0:00:14\n",
      "   ---- ----------------------------------- 1.0/9.2 MB 616.2 kB/s eta 0:00:14\n",
      "   ---- ----------------------------------- 1.0/9.2 MB 617.3 kB/s eta 0:00:14\n",
      "   ---- ----------------------------------- 1.0/9.2 MB 618.1 kB/s eta 0:00:14\n",
      "   ---- ----------------------------------- 1.0/9.2 MB 607.0 kB/s eta 0:00:14\n",
      "   ---- ----------------------------------- 1.1/9.2 MB 607.6 kB/s eta 0:00:14\n",
      "   ---- ----------------------------------- 1.1/9.2 MB 603.4 kB/s eta 0:00:14\n",
      "   ---- ----------------------------------- 1.1/9.2 MB 593.4 kB/s eta 0:00:14\n",
      "   ---- ----------------------------------- 1.1/9.2 MB 585.1 kB/s eta 0:00:14\n",
      "   ---- ----------------------------------- 1.1/9.2 MB 586.1 kB/s eta 0:00:14\n",
      "   ---- ----------------------------------- 1.1/9.2 MB 586.1 kB/s eta 0:00:14\n",
      "   ----- ---------------------------------- 1.2/9.2 MB 573.4 kB/s eta 0:00:15\n",
      "   ----- ---------------------------------- 1.2/9.2 MB 566.1 kB/s eta 0:00:15\n",
      "   ----- ---------------------------------- 1.2/9.2 MB 572.9 kB/s eta 0:00:14\n",
      "   ----- ---------------------------------- 1.2/9.2 MB 569.9 kB/s eta 0:00:14\n",
      "   ----- ---------------------------------- 1.3/9.2 MB 576.4 kB/s eta 0:00:14\n",
      "   ----- ---------------------------------- 1.3/9.2 MB 573.4 kB/s eta 0:00:14\n",
      "   ----- ---------------------------------- 1.4/9.2 MB 584.0 kB/s eta 0:00:14\n",
      "   ------ --------------------------------- 1.4/9.2 MB 589.4 kB/s eta 0:00:14\n",
      "   ------ --------------------------------- 1.4/9.2 MB 595.5 kB/s eta 0:00:14\n",
      "   ------ --------------------------------- 1.5/9.2 MB 601.1 kB/s eta 0:00:13\n",
      "   ------ --------------------------------- 1.5/9.2 MB 605.5 kB/s eta 0:00:13\n",
      "   ------ --------------------------------- 1.5/9.2 MB 606.9 kB/s eta 0:00:13\n",
      "   ------ --------------------------------- 1.6/9.2 MB 615.5 kB/s eta 0:00:13\n",
      "   ------- -------------------------------- 1.6/9.2 MB 616.4 kB/s eta 0:00:13\n",
      "   ------- -------------------------------- 1.7/9.2 MB 632.3 kB/s eta 0:00:12\n",
      "   ------- -------------------------------- 1.8/9.2 MB 640.2 kB/s eta 0:00:12\n",
      "   ------- -------------------------------- 1.8/9.2 MB 644.4 kB/s eta 0:00:12\n",
      "   ------- -------------------------------- 1.8/9.2 MB 648.2 kB/s eta 0:00:12\n",
      "   -------- ------------------------------- 1.8/9.2 MB 644.5 kB/s eta 0:00:12\n",
      "   -------- ------------------------------- 1.9/9.2 MB 644.7 kB/s eta 0:00:12\n",
      "   -------- ------------------------------- 1.9/9.2 MB 638.0 kB/s eta 0:00:12\n",
      "   -------- ------------------------------- 1.9/9.2 MB 638.3 kB/s eta 0:00:12\n",
      "   -------- ------------------------------- 2.0/9.2 MB 641.9 kB/s eta 0:00:12\n",
      "   -------- ------------------------------- 2.0/9.2 MB 638.8 kB/s eta 0:00:12\n",
      "   -------- ------------------------------- 2.0/9.2 MB 639.0 kB/s eta 0:00:12\n",
      "   -------- ------------------------------- 2.1/9.2 MB 642.6 kB/s eta 0:00:12\n",
      "   --------- ------------------------------ 2.1/9.2 MB 645.9 kB/s eta 0:00:12\n",
      "   --------- ------------------------------ 2.2/9.2 MB 652.3 kB/s eta 0:00:11\n",
      "   --------- ------------------------------ 2.2/9.2 MB 658.5 kB/s eta 0:00:11\n",
      "   --------- ------------------------------ 2.3/9.2 MB 667.5 kB/s eta 0:00:11\n",
      "   ---------- ----------------------------- 2.3/9.2 MB 673.3 kB/s eta 0:00:11\n",
      "   ---------- ----------------------------- 2.3/9.2 MB 676.1 kB/s eta 0:00:11\n",
      "   ---------- ----------------------------- 2.4/9.2 MB 678.9 kB/s eta 0:00:11\n",
      "   ---------- ----------------------------- 2.4/9.2 MB 678.9 kB/s eta 0:00:11\n",
      "   ---------- ----------------------------- 2.4/9.2 MB 663.9 kB/s eta 0:00:11\n",
      "   ---------- ----------------------------- 2.4/9.2 MB 666.6 kB/s eta 0:00:11\n",
      "   ---------- ----------------------------- 2.5/9.2 MB 669.3 kB/s eta 0:00:11\n",
      "   ---------- ----------------------------- 2.5/9.2 MB 671.7 kB/s eta 0:00:10\n",
      "   ----------- ---------------------------- 2.5/9.2 MB 666.1 kB/s eta 0:00:11\n",
      "   ----------- ---------------------------- 2.6/9.2 MB 668.8 kB/s eta 0:00:10\n",
      "   ----------- ---------------------------- 2.6/9.2 MB 671.2 kB/s eta 0:00:10\n",
      "   ----------- ---------------------------- 2.6/9.2 MB 665.8 kB/s eta 0:00:10\n",
      "   ----------- ---------------------------- 2.7/9.2 MB 663.1 kB/s eta 0:00:10\n",
      "   ----------- ---------------------------- 2.7/9.2 MB 663.1 kB/s eta 0:00:10\n",
      "   ----------- ---------------------------- 2.7/9.2 MB 663.0 kB/s eta 0:00:10\n",
      "   ----------- ---------------------------- 2.7/9.2 MB 660.4 kB/s eta 0:00:10\n",
      "   ----------- ---------------------------- 2.8/9.2 MB 660.3 kB/s eta 0:00:10\n",
      "   ------------ --------------------------- 2.8/9.2 MB 660.3 kB/s eta 0:00:10\n",
      "   ------------ --------------------------- 2.8/9.2 MB 665.0 kB/s eta 0:00:10\n",
      "   ------------ --------------------------- 2.9/9.2 MB 667.3 kB/s eta 0:00:10\n",
      "   ------------ --------------------------- 2.9/9.2 MB 669.5 kB/s eta 0:00:10\n",
      "   ------------ --------------------------- 3.0/9.2 MB 671.8 kB/s eta 0:00:10\n",
      "   ------------- -------------------------- 3.0/9.2 MB 673.8 kB/s eta 0:00:10\n",
      "   ------------- -------------------------- 3.1/9.2 MB 680.5 kB/s eta 0:00:10\n",
      "   ------------- -------------------------- 3.1/9.2 MB 682.5 kB/s eta 0:00:09\n",
      "   ------------- -------------------------- 3.2/9.2 MB 689.1 kB/s eta 0:00:09\n",
      "   ------------- -------------------------- 3.2/9.2 MB 693.0 kB/s eta 0:00:09\n",
      "   -------------- ------------------------- 3.3/9.2 MB 694.8 kB/s eta 0:00:09\n",
      "   -------------- ------------------------- 3.3/9.2 MB 698.9 kB/s eta 0:00:09\n",
      "   -------------- ------------------------- 3.4/9.2 MB 702.5 kB/s eta 0:00:09\n",
      "   -------------- ------------------------- 3.4/9.2 MB 702.3 kB/s eta 0:00:09\n",
      "   -------------- ------------------------- 3.5/9.2 MB 708.1 kB/s eta 0:00:09\n",
      "   --------------- ------------------------ 3.5/9.2 MB 709.9 kB/s eta 0:00:09\n",
      "   --------------- ------------------------ 3.5/9.2 MB 708.9 kB/s eta 0:00:09\n",
      "   --------------- ------------------------ 3.6/9.2 MB 710.7 kB/s eta 0:00:08\n",
      "   --------------- ------------------------ 3.6/9.2 MB 714.2 kB/s eta 0:00:08\n",
      "   --------------- ------------------------ 3.7/9.2 MB 719.7 kB/s eta 0:00:08\n",
      "   ---------------- ----------------------- 3.7/9.2 MB 723.2 kB/s eta 0:00:08\n",
      "   ---------------- ----------------------- 3.8/9.2 MB 728.5 kB/s eta 0:00:08\n",
      "   ---------------- ----------------------- 3.8/9.2 MB 725.8 kB/s eta 0:00:08\n",
      "   ---------------- ----------------------- 3.9/9.2 MB 731.3 kB/s eta 0:00:08\n",
      "   ----------------- ---------------------- 3.9/9.2 MB 738.0 kB/s eta 0:00:08\n",
      "   ----------------- ---------------------- 4.0/9.2 MB 739.2 kB/s eta 0:00:08\n",
      "   ----------------- ---------------------- 4.0/9.2 MB 742.2 kB/s eta 0:00:07\n",
      "   ----------------- ---------------------- 4.1/9.2 MB 743.6 kB/s eta 0:00:07\n",
      "   ----------------- ---------------------- 4.1/9.2 MB 743.6 kB/s eta 0:00:07\n",
      "   ----------------- ---------------------- 4.1/9.2 MB 736.4 kB/s eta 0:00:07\n",
      "   ----------------- ---------------------- 4.1/9.2 MB 735.7 kB/s eta 0:00:07\n",
      "   ------------------ --------------------- 4.2/9.2 MB 735.0 kB/s eta 0:00:07\n",
      "   ------------------ --------------------- 4.2/9.2 MB 736.6 kB/s eta 0:00:07\n",
      "   ------------------ --------------------- 4.2/9.2 MB 735.5 kB/s eta 0:00:07\n",
      "   ------------------ --------------------- 4.3/9.2 MB 736.9 kB/s eta 0:00:07\n",
      "   ------------------ --------------------- 4.3/9.2 MB 735.9 kB/s eta 0:00:07\n",
      "   ------------------ --------------------- 4.3/9.2 MB 733.7 kB/s eta 0:00:07\n",
      "   ------------------ --------------------- 4.4/9.2 MB 733.2 kB/s eta 0:00:07\n",
      "   ------------------- -------------------- 4.4/9.2 MB 732.5 kB/s eta 0:00:07\n",
      "   ------------------- -------------------- 4.4/9.2 MB 732.0 kB/s eta 0:00:07\n",
      "   ------------------- -------------------- 4.4/9.2 MB 731.4 kB/s eta 0:00:07\n",
      "   ------------------- -------------------- 4.4/9.2 MB 731.4 kB/s eta 0:00:07\n",
      "   ------------------- -------------------- 4.5/9.2 MB 735.0 kB/s eta 0:00:07\n",
      "   ------------------- -------------------- 4.6/9.2 MB 736.3 kB/s eta 0:00:07\n",
      "   -------------------- ------------------- 4.6/9.2 MB 737.1 kB/s eta 0:00:07\n",
      "   -------------------- ------------------- 4.7/9.2 MB 739.8 kB/s eta 0:00:07\n",
      "   -------------------- ------------------- 4.7/9.2 MB 737.7 kB/s eta 0:00:07\n",
      "   -------------------- ------------------- 4.7/9.2 MB 740.4 kB/s eta 0:00:07\n",
      "   -------------------- ------------------- 4.8/9.2 MB 741.1 kB/s eta 0:00:06\n",
      "   --------------------- ------------------ 4.8/9.2 MB 743.6 kB/s eta 0:00:06\n",
      "   --------------------- ------------------ 4.9/9.2 MB 742.9 kB/s eta 0:00:06\n",
      "   --------------------- ------------------ 4.9/9.2 MB 745.4 kB/s eta 0:00:06\n",
      "   --------------------- ------------------ 5.0/9.2 MB 746.6 kB/s eta 0:00:06\n",
      "   --------------------- ------------------ 5.0/9.2 MB 747.3 kB/s eta 0:00:06\n",
      "   --------------------- ------------------ 5.0/9.2 MB 749.8 kB/s eta 0:00:06\n",
      "   ---------------------- ----------------- 5.1/9.2 MB 752.3 kB/s eta 0:00:06\n",
      "   ---------------------- ----------------- 5.1/9.2 MB 753.1 kB/s eta 0:00:06\n",
      "   ---------------------- ----------------- 5.1/9.2 MB 753.1 kB/s eta 0:00:06\n",
      "   ---------------------- ----------------- 5.2/9.2 MB 750.5 kB/s eta 0:00:06\n",
      "   ---------------------- ----------------- 5.2/9.2 MB 749.6 kB/s eta 0:00:06\n",
      "   ---------------------- ----------------- 5.2/9.2 MB 750.8 kB/s eta 0:00:06\n",
      "   ---------------------- ----------------- 5.3/9.2 MB 746.9 kB/s eta 0:00:06\n",
      "   ----------------------- ---------------- 5.3/9.2 MB 746.3 kB/s eta 0:00:06\n",
      "   ----------------------- ---------------- 5.4/9.2 MB 748.6 kB/s eta 0:00:06\n",
      "   ----------------------- ---------------- 5.4/9.2 MB 750.9 kB/s eta 0:00:06\n",
      "   ----------------------- ---------------- 5.4/9.2 MB 751.6 kB/s eta 0:00:06\n",
      "   ----------------------- ---------------- 5.5/9.2 MB 752.2 kB/s eta 0:00:05\n",
      "   ------------------------ --------------- 5.5/9.2 MB 753.2 kB/s eta 0:00:05\n",
      "   ------------------------ --------------- 5.5/9.2 MB 753.2 kB/s eta 0:00:05\n",
      "   ------------------------ --------------- 5.6/9.2 MB 750.5 kB/s eta 0:00:05\n",
      "   ------------------------ --------------- 5.6/9.2 MB 754.3 kB/s eta 0:00:05\n",
      "   ------------------------ --------------- 5.7/9.2 MB 752.3 kB/s eta 0:00:05\n",
      "   ------------------------ --------------- 5.7/9.2 MB 750.2 kB/s eta 0:00:05\n",
      "   ------------------------ --------------- 5.7/9.2 MB 752.3 kB/s eta 0:00:05\n",
      "   ------------------------- -------------- 5.8/9.2 MB 753.0 kB/s eta 0:00:05\n",
      "   ------------------------- -------------- 5.8/9.2 MB 756.4 kB/s eta 0:00:05\n",
      "   ------------------------- -------------- 5.9/9.2 MB 761.1 kB/s eta 0:00:05\n",
      "   -------------------------- ------------- 6.0/9.2 MB 767.0 kB/s eta 0:00:05\n",
      "   -------------------------- ------------- 6.1/9.2 MB 770.2 kB/s eta 0:00:05\n",
      "   -------------------------- ------------- 6.1/9.2 MB 773.5 kB/s eta 0:00:04\n",
      "   -------------------------- ------------- 6.2/9.2 MB 776.7 kB/s eta 0:00:04\n",
      "   --------------------------- ------------ 6.2/9.2 MB 780.0 kB/s eta 0:00:04\n",
      "   --------------------------- ------------ 6.3/9.2 MB 786.7 kB/s eta 0:00:04\n",
      "   --------------------------- ------------ 6.4/9.2 MB 793.5 kB/s eta 0:00:04\n",
      "   ---------------------------- ----------- 6.5/9.2 MB 797.8 kB/s eta 0:00:04\n",
      "   ---------------------------- ----------- 6.6/9.2 MB 804.5 kB/s eta 0:00:04\n",
      "   ---------------------------- ----------- 6.6/9.2 MB 807.7 kB/s eta 0:00:04\n",
      "   ----------------------------- ---------- 6.7/9.2 MB 814.0 kB/s eta 0:00:04\n",
      "   ----------------------------- ---------- 6.8/9.2 MB 818.3 kB/s eta 0:00:03\n",
      "   ----------------------------- ---------- 6.9/9.2 MB 821.0 kB/s eta 0:00:03\n",
      "   ------------------------------ --------- 7.0/9.2 MB 827.1 kB/s eta 0:00:03\n",
      "   ------------------------------ --------- 7.0/9.2 MB 832.2 kB/s eta 0:00:03\n",
      "   ------------------------------- -------- 7.1/9.2 MB 838.5 kB/s eta 0:00:03\n",
      "   ------------------------------- -------- 7.2/9.2 MB 841.1 kB/s eta 0:00:03\n",
      "   ------------------------------- -------- 7.3/9.2 MB 846.0 kB/s eta 0:00:03\n",
      "   ------------------------------- -------- 7.3/9.2 MB 846.2 kB/s eta 0:00:03\n",
      "   -------------------------------- ------- 7.4/9.2 MB 848.7 kB/s eta 0:00:03\n",
      "   -------------------------------- ------- 7.5/9.2 MB 855.9 kB/s eta 0:00:03\n",
      "   -------------------------------- ------- 7.6/9.2 MB 860.6 kB/s eta 0:00:02\n",
      "   --------------------------------- ------ 7.7/9.2 MB 868.1 kB/s eta 0:00:02\n",
      "   --------------------------------- ------ 7.8/9.2 MB 872.3 kB/s eta 0:00:02\n",
      "   --------------------------------- ------ 7.8/9.2 MB 875.0 kB/s eta 0:00:02\n",
      "   ---------------------------------- ----- 7.9/9.2 MB 877.3 kB/s eta 0:00:02\n",
      "   ---------------------------------- ----- 7.9/9.2 MB 879.5 kB/s eta 0:00:02\n",
      "   ---------------------------------- ----- 8.0/9.2 MB 882.9 kB/s eta 0:00:02\n",
      "   ----------------------------------- ---- 8.1/9.2 MB 885.8 kB/s eta 0:00:02\n",
      "   ----------------------------------- ---- 8.2/9.2 MB 890.7 kB/s eta 0:00:02\n",
      "   ----------------------------------- ---- 8.3/9.2 MB 895.7 kB/s eta 0:00:02\n",
      "   ------------------------------------ --- 8.3/9.2 MB 898.9 kB/s eta 0:00:01\n",
      "   ------------------------------------ --- 8.4/9.2 MB 904.3 kB/s eta 0:00:01\n",
      "   ------------------------------------ --- 8.5/9.2 MB 910.1 kB/s eta 0:00:01\n",
      "   ------------------------------------- -- 8.6/9.2 MB 914.2 kB/s eta 0:00:01\n",
      "   ------------------------------------- -- 8.7/9.2 MB 918.4 kB/s eta 0:00:01\n",
      "   ------------------------------------- -- 8.7/9.2 MB 922.5 kB/s eta 0:00:01\n",
      "   -------------------------------------- - 8.8/9.2 MB 926.6 kB/s eta 0:00:01\n",
      "   -------------------------------------- - 8.9/9.2 MB 928.5 kB/s eta 0:00:01\n",
      "   ---------------------------------------  9.0/9.2 MB 933.5 kB/s eta 0:00:01\n",
      "   ---------------------------------------  9.1/9.2 MB 934.9 kB/s eta 0:00:01\n",
      "   ---------------------------------------  9.1/9.2 MB 938.2 kB/s eta 0:00:01\n",
      "   ---------------------------------------  9.2/9.2 MB 938.9 kB/s eta 0:00:01\n",
      "   ---------------------------------------  9.2/9.2 MB 938.9 kB/s eta 0:00:01\n",
      "   ---------------------------------------  9.2/9.2 MB 934.1 kB/s eta 0:00:01\n",
      "   ---------------------------------------  9.2/9.2 MB 934.1 kB/s eta 0:00:01\n",
      "   ---------------------------------------  9.2/9.2 MB 934.1 kB/s eta 0:00:01\n",
      "   ---------------------------------------  9.2/9.2 MB 934.1 kB/s eta 0:00:01\n",
      "   ---------------------------------------  9.2/9.2 MB 934.1 kB/s eta 0:00:01\n",
      "   ---------------------------------------- 9.2/9.2 MB 914.0 kB/s eta 0:00:00\n",
      "Downloading scipy-1.11.4-cp311-cp311-win_amd64.whl (44.1 MB)\n",
      "   ---------------------------------------- 0.0/44.1 MB ? eta -:--:--\n",
      "   ---------------------------------------- 0.0/44.1 MB 1.4 MB/s eta 0:00:33\n",
      "   ---------------------------------------- 0.1/44.1 MB 1.7 MB/s eta 0:00:27\n",
      "   ---------------------------------------- 0.2/44.1 MB 1.7 MB/s eta 0:00:26\n",
      "   ---------------------------------------- 0.2/44.1 MB 1.4 MB/s eta 0:00:31\n",
      "   ---------------------------------------- 0.3/44.1 MB 1.3 MB/s eta 0:00:34\n",
      "   ---------------------------------------- 0.3/44.1 MB 1.2 MB/s eta 0:00:36\n",
      "   ---------------------------------------- 0.4/44.1 MB 1.2 MB/s eta 0:00:37\n",
      "   ---------------------------------------- 0.4/44.1 MB 1.2 MB/s eta 0:00:37\n",
      "   ---------------------------------------- 0.5/44.1 MB 1.2 MB/s eta 0:00:38\n",
      "   ---------------------------------------- 0.5/44.1 MB 1.1 MB/s eta 0:00:40\n",
      "   ---------------------------------------- 0.5/44.1 MB 1.1 MB/s eta 0:00:41\n",
      "    --------------------------------------- 0.6/44.1 MB 1.1 MB/s eta 0:00:41\n",
      "    --------------------------------------- 0.6/44.1 MB 1.1 MB/s eta 0:00:41\n",
      "    --------------------------------------- 0.7/44.1 MB 1.1 MB/s eta 0:00:42\n",
      "    --------------------------------------- 0.7/44.1 MB 1.0 MB/s eta 0:00:43\n",
      "    --------------------------------------- 0.7/44.1 MB 1.0 MB/s eta 0:00:42\n",
      "    --------------------------------------- 0.7/44.1 MB 950.4 kB/s eta 0:00:46\n",
      "    --------------------------------------- 0.8/44.1 MB 950.8 kB/s eta 0:00:46\n",
      "    --------------------------------------- 0.8/44.1 MB 935.3 kB/s eta 0:00:47\n",
      "    --------------------------------------- 0.8/44.1 MB 904.2 kB/s eta 0:00:48\n",
      "    --------------------------------------- 0.9/44.1 MB 918.0 kB/s eta 0:00:48\n",
      "    --------------------------------------- 0.9/44.1 MB 915.8 kB/s eta 0:00:48\n",
      "    --------------------------------------- 0.9/44.1 MB 897.9 kB/s eta 0:00:49\n",
      "    --------------------------------------- 1.0/44.1 MB 908.8 kB/s eta 0:00:48\n",
      "    --------------------------------------- 1.0/44.1 MB 919.3 kB/s eta 0:00:47\n",
      "   - -------------------------------------- 1.1/44.1 MB 923.1 kB/s eta 0:00:47\n",
      "   - -------------------------------------- 1.2/44.1 MB 929.4 kB/s eta 0:00:47\n",
      "   - -------------------------------------- 1.2/44.1 MB 942.1 kB/s eta 0:00:46\n",
      "   - -------------------------------------- 1.2/44.1 MB 928.8 kB/s eta 0:00:47\n",
      "   - -------------------------------------- 1.3/44.1 MB 934.3 kB/s eta 0:00:46\n",
      "   - -------------------------------------- 1.3/44.1 MB 921.7 kB/s eta 0:00:47\n",
      "   - -------------------------------------- 1.3/44.1 MB 926.4 kB/s eta 0:00:47\n",
      "   - -------------------------------------- 1.4/44.1 MB 899.0 kB/s eta 0:00:48\n",
      "   - -------------------------------------- 1.4/44.1 MB 891.6 kB/s eta 0:00:48\n",
      "   - -------------------------------------- 1.4/44.1 MB 887.1 kB/s eta 0:00:49\n",
      "   - -------------------------------------- 1.5/44.1 MB 884.3 kB/s eta 0:00:49\n",
      "   - -------------------------------------- 1.5/44.1 MB 880.1 kB/s eta 0:00:49\n",
      "   - -------------------------------------- 1.5/44.1 MB 879.9 kB/s eta 0:00:49\n",
      "   - -------------------------------------- 1.6/44.1 MB 873.9 kB/s eta 0:00:49\n",
      "   - -------------------------------------- 1.6/44.1 MB 881.6 kB/s eta 0:00:49\n",
      "   - -------------------------------------- 1.6/44.1 MB 881.6 kB/s eta 0:00:49\n",
      "   - -------------------------------------- 1.6/44.1 MB 836.5 kB/s eta 0:00:51\n",
      "   - -------------------------------------- 1.6/44.1 MB 832.5 kB/s eta 0:00:51\n",
      "   - -------------------------------------- 1.7/44.1 MB 833.4 kB/s eta 0:00:51\n",
      "   - -------------------------------------- 1.7/44.1 MB 834.3 kB/s eta 0:00:51\n",
      "   - -------------------------------------- 1.8/44.1 MB 840.0 kB/s eta 0:00:51\n",
      "   - -------------------------------------- 1.8/44.1 MB 840.7 kB/s eta 0:00:51\n",
      "   - -------------------------------------- 1.9/44.1 MB 835.6 kB/s eta 0:00:51\n",
      "   - -------------------------------------- 1.9/44.1 MB 834.2 kB/s eta 0:00:51\n",
      "   - -------------------------------------- 1.9/44.1 MB 831.9 kB/s eta 0:00:51\n",
      "   - -------------------------------------- 1.9/44.1 MB 817.3 kB/s eta 0:00:52\n",
      "   - -------------------------------------- 2.0/44.1 MB 814.1 kB/s eta 0:00:52\n",
      "   - -------------------------------------- 2.0/44.1 MB 811.0 kB/s eta 0:00:52\n",
      "   - -------------------------------------- 2.0/44.1 MB 817.4 kB/s eta 0:00:52\n",
      "   - -------------------------------------- 2.1/44.1 MB 809.2 kB/s eta 0:00:52\n",
      "   - -------------------------------------- 2.1/44.1 MB 802.4 kB/s eta 0:00:53\n",
      "   - -------------------------------------- 2.1/44.1 MB 811.4 kB/s eta 0:00:52\n",
      "   - -------------------------------------- 2.2/44.1 MB 808.6 kB/s eta 0:00:52\n",
      "   -- ------------------------------------- 2.2/44.1 MB 810.0 kB/s eta 0:00:52\n",
      "   -- ------------------------------------- 2.2/44.1 MB 807.3 kB/s eta 0:00:52\n",
      "   -- ------------------------------------- 2.3/44.1 MB 809.1 kB/s eta 0:00:52\n",
      "   -- ------------------------------------- 2.3/44.1 MB 809.5 kB/s eta 0:00:52\n",
      "   -- ------------------------------------- 2.4/44.1 MB 806.9 kB/s eta 0:00:52\n",
      "   -- ------------------------------------- 2.4/44.1 MB 808.9 kB/s eta 0:00:52\n",
      "   -- ------------------------------------- 2.4/44.1 MB 809.0 kB/s eta 0:00:52\n",
      "   -- ------------------------------------- 2.5/44.1 MB 813.3 kB/s eta 0:00:52\n",
      "   -- ------------------------------------- 2.5/44.1 MB 817.7 kB/s eta 0:00:51\n",
      "   -- ------------------------------------- 2.6/44.1 MB 823.4 kB/s eta 0:00:51\n",
      "   -- ------------------------------------- 2.6/44.1 MB 819.3 kB/s eta 0:00:51\n",
      "   -- ------------------------------------- 2.6/44.1 MB 810.6 kB/s eta 0:00:52\n",
      "   -- ------------------------------------- 2.7/44.1 MB 814.6 kB/s eta 0:00:51\n",
      "   -- ------------------------------------- 2.7/44.1 MB 816.2 kB/s eta 0:00:51\n",
      "   -- ------------------------------------- 2.7/44.1 MB 817.9 kB/s eta 0:00:51\n",
      "   -- ------------------------------------- 2.8/44.1 MB 817.8 kB/s eta 0:00:51\n",
      "   -- ------------------------------------- 2.8/44.1 MB 815.5 kB/s eta 0:00:51\n",
      "   -- ------------------------------------- 2.9/44.1 MB 816.3 kB/s eta 0:00:51\n",
      "   -- ------------------------------------- 2.9/44.1 MB 812.0 kB/s eta 0:00:51\n",
      "   -- ------------------------------------- 2.9/44.1 MB 803.0 kB/s eta 0:00:52\n",
      "   -- ------------------------------------- 2.9/44.1 MB 805.1 kB/s eta 0:00:52\n",
      "   -- ------------------------------------- 2.9/44.1 MB 803.9 kB/s eta 0:00:52\n",
      "   -- ------------------------------------- 3.0/44.1 MB 791.9 kB/s eta 0:00:52\n",
      "   -- ------------------------------------- 3.0/44.1 MB 790.2 kB/s eta 0:00:52\n",
      "   -- ------------------------------------- 3.1/44.1 MB 791.4 kB/s eta 0:00:52\n",
      "   -- ------------------------------------- 3.1/44.1 MB 792.3 kB/s eta 0:00:52\n",
      "   -- ------------------------------------- 3.1/44.1 MB 795.9 kB/s eta 0:00:52\n",
      "   -- ------------------------------------- 3.2/44.1 MB 794.2 kB/s eta 0:00:52\n",
      "   -- ------------------------------------- 3.2/44.1 MB 792.6 kB/s eta 0:00:52\n",
      "   -- ------------------------------------- 3.2/44.1 MB 791.0 kB/s eta 0:00:52\n",
      "   -- ------------------------------------- 3.3/44.1 MB 790.0 kB/s eta 0:00:52\n",
      "   -- ------------------------------------- 3.3/44.1 MB 788.5 kB/s eta 0:00:52\n",
      "   --- ------------------------------------ 3.3/44.1 MB 786.9 kB/s eta 0:00:52\n",
      "   --- ------------------------------------ 3.4/44.1 MB 787.5 kB/s eta 0:00:52\n",
      "   --- ------------------------------------ 3.4/44.1 MB 788.4 kB/s eta 0:00:52\n",
      "   --- ------------------------------------ 3.5/44.1 MB 791.7 kB/s eta 0:00:52\n",
      "   --- ------------------------------------ 3.5/44.1 MB 793.1 kB/s eta 0:00:52\n",
      "   --- ------------------------------------ 3.5/44.1 MB 791.6 kB/s eta 0:00:52\n",
      "   --- ------------------------------------ 3.6/44.1 MB 789.6 kB/s eta 0:00:52\n",
      "   --- ------------------------------------ 3.6/44.1 MB 791.0 kB/s eta 0:00:52\n",
      "   --- ------------------------------------ 3.6/44.1 MB 791.5 kB/s eta 0:00:52\n",
      "   --- ------------------------------------ 3.7/44.1 MB 792.3 kB/s eta 0:00:52\n",
      "   --- ------------------------------------ 3.7/44.1 MB 792.3 kB/s eta 0:00:52\n",
      "   --- ------------------------------------ 3.7/44.1 MB 785.7 kB/s eta 0:00:52\n",
      "   --- ------------------------------------ 3.8/44.1 MB 786.5 kB/s eta 0:00:52\n",
      "   --- ------------------------------------ 3.8/44.1 MB 782.6 kB/s eta 0:00:52\n",
      "   --- ------------------------------------ 3.8/44.1 MB 782.3 kB/s eta 0:00:52\n",
      "   --- ------------------------------------ 3.8/44.1 MB 781.4 kB/s eta 0:00:52\n",
      "   --- ------------------------------------ 3.9/44.1 MB 777.8 kB/s eta 0:00:52\n",
      "   --- ------------------------------------ 3.9/44.1 MB 778.2 kB/s eta 0:00:52\n",
      "   --- ------------------------------------ 3.9/44.1 MB 779.5 kB/s eta 0:00:52\n",
      "   --- ------------------------------------ 4.0/44.1 MB 778.4 kB/s eta 0:00:52\n",
      "   --- ------------------------------------ 4.0/44.1 MB 775.0 kB/s eta 0:00:52\n",
      "   --- ------------------------------------ 4.0/44.1 MB 776.1 kB/s eta 0:00:52\n",
      "   --- ------------------------------------ 4.1/44.1 MB 772.8 kB/s eta 0:00:52\n",
      "   --- ------------------------------------ 4.1/44.1 MB 776.0 kB/s eta 0:00:52\n",
      "   --- ------------------------------------ 4.1/44.1 MB 774.9 kB/s eta 0:00:52\n",
      "   --- ------------------------------------ 4.2/44.1 MB 775.4 kB/s eta 0:00:52\n",
      "   --- ------------------------------------ 4.2/44.1 MB 772.8 kB/s eta 0:00:52\n",
      "   --- ------------------------------------ 4.2/44.1 MB 771.8 kB/s eta 0:00:52\n",
      "   --- ------------------------------------ 4.2/44.1 MB 768.9 kB/s eta 0:00:52\n",
      "   --- ------------------------------------ 4.3/44.1 MB 766.1 kB/s eta 0:00:52\n",
      "   --- ------------------------------------ 4.3/44.1 MB 766.1 kB/s eta 0:00:52\n",
      "   --- ------------------------------------ 4.3/44.1 MB 758.6 kB/s eta 0:00:53\n",
      "   --- ------------------------------------ 4.3/44.1 MB 758.6 kB/s eta 0:00:53\n",
      "   --- ------------------------------------ 4.4/44.1 MB 758.6 kB/s eta 0:00:53\n",
      "   --- ------------------------------------ 4.4/44.1 MB 757.8 kB/s eta 0:00:53\n",
      "   ---- ----------------------------------- 4.4/44.1 MB 758.8 kB/s eta 0:00:53\n",
      "   ---- ----------------------------------- 4.5/44.1 MB 761.5 kB/s eta 0:00:53\n",
      "   ---- ----------------------------------- 4.5/44.1 MB 760.6 kB/s eta 0:00:53\n",
      "   ---- ----------------------------------- 4.6/44.1 MB 761.8 kB/s eta 0:00:52\n",
      "   ---- ----------------------------------- 4.6/44.1 MB 757.6 kB/s eta 0:00:53\n",
      "   ---- ----------------------------------- 4.6/44.1 MB 758.5 kB/s eta 0:00:53\n",
      "   ---- ----------------------------------- 4.6/44.1 MB 757.6 kB/s eta 0:00:53\n",
      "   ---- ----------------------------------- 4.7/44.1 MB 758.2 kB/s eta 0:00:52\n",
      "   ---- ----------------------------------- 4.7/44.1 MB 761.0 kB/s eta 0:00:52\n",
      "   ---- ----------------------------------- 4.8/44.1 MB 761.7 kB/s eta 0:00:52\n",
      "   ---- ----------------------------------- 4.8/44.1 MB 764.1 kB/s eta 0:00:52\n",
      "   ---- ----------------------------------- 4.9/44.1 MB 763.6 kB/s eta 0:00:52\n",
      "   ---- ----------------------------------- 4.9/44.1 MB 763.3 kB/s eta 0:00:52\n",
      "   ---- ----------------------------------- 4.9/44.1 MB 759.0 kB/s eta 0:00:52\n",
      "   ---- ----------------------------------- 4.9/44.1 MB 756.9 kB/s eta 0:00:52\n",
      "   ---- ----------------------------------- 4.9/44.1 MB 754.2 kB/s eta 0:00:52\n",
      "   ---- ----------------------------------- 5.0/44.1 MB 755.0 kB/s eta 0:00:52\n",
      "   ---- ----------------------------------- 5.0/44.1 MB 754.6 kB/s eta 0:00:52\n",
      "   ---- ----------------------------------- 5.0/44.1 MB 752.0 kB/s eta 0:00:52\n",
      "   ---- ----------------------------------- 5.1/44.1 MB 753.0 kB/s eta 0:00:52\n",
      "   ---- ----------------------------------- 5.1/44.1 MB 749.3 kB/s eta 0:00:53\n",
      "   ---- ----------------------------------- 5.1/44.1 MB 751.8 kB/s eta 0:00:52\n",
      "   ---- ----------------------------------- 5.1/44.1 MB 748.2 kB/s eta 0:00:53\n",
      "   ---- ----------------------------------- 5.2/44.1 MB 744.3 kB/s eta 0:00:53\n",
      "   ---- ----------------------------------- 5.2/44.1 MB 744.1 kB/s eta 0:00:53\n",
      "   ---- ----------------------------------- 5.2/44.1 MB 738.7 kB/s eta 0:00:53\n",
      "   ---- ----------------------------------- 5.2/44.1 MB 738.7 kB/s eta 0:00:53\n",
      "   ---- ----------------------------------- 5.2/44.1 MB 739.3 kB/s eta 0:00:53\n",
      "   ---- ----------------------------------- 5.3/44.1 MB 738.7 kB/s eta 0:00:53\n",
      "   ---- ----------------------------------- 5.3/44.1 MB 736.6 kB/s eta 0:00:53\n",
      "   ---- ----------------------------------- 5.3/44.1 MB 737.8 kB/s eta 0:00:53\n",
      "   ---- ----------------------------------- 5.3/44.1 MB 731.3 kB/s eta 0:00:54\n",
      "   ---- ----------------------------------- 5.3/44.1 MB 731.3 kB/s eta 0:00:54\n",
      "   ---- ----------------------------------- 5.3/44.1 MB 731.3 kB/s eta 0:00:54\n",
      "   ---- ----------------------------------- 5.4/44.1 MB 723.3 kB/s eta 0:00:54\n",
      "   ---- ----------------------------------- 5.4/44.1 MB 718.6 kB/s eta 0:00:54\n",
      "   ---- ----------------------------------- 5.4/44.1 MB 718.3 kB/s eta 0:00:54\n",
      "   ---- ----------------------------------- 5.4/44.1 MB 718.3 kB/s eta 0:00:54\n",
      "   ---- ----------------------------------- 5.4/44.1 MB 712.1 kB/s eta 0:00:55\n",
      "   ---- ----------------------------------- 5.4/44.1 MB 709.1 kB/s eta 0:00:55\n",
      "   ---- ----------------------------------- 5.4/44.1 MB 707.4 kB/s eta 0:00:55\n",
      "   ---- ----------------------------------- 5.5/44.1 MB 705.7 kB/s eta 0:00:55\n",
      "   ---- ----------------------------------- 5.5/44.1 MB 706.9 kB/s eta 0:00:55\n",
      "   ---- ----------------------------------- 5.5/44.1 MB 706.9 kB/s eta 0:00:55\n",
      "   ---- ----------------------------------- 5.5/44.1 MB 698.3 kB/s eta 0:00:56\n",
      "   ----- ---------------------------------- 5.5/44.1 MB 696.7 kB/s eta 0:00:56\n",
      "   ----- ---------------------------------- 5.6/44.1 MB 696.4 kB/s eta 0:00:56\n",
      "   ----- ---------------------------------- 5.6/44.1 MB 697.6 kB/s eta 0:00:56\n",
      "   ----- ---------------------------------- 5.6/44.1 MB 694.7 kB/s eta 0:00:56\n",
      "   ----- ---------------------------------- 5.6/44.1 MB 694.5 kB/s eta 0:00:56\n",
      "   ----- ---------------------------------- 5.7/44.1 MB 693.1 kB/s eta 0:00:56\n",
      "   ----- ---------------------------------- 5.7/44.1 MB 692.8 kB/s eta 0:00:56\n",
      "   ----- ---------------------------------- 5.7/44.1 MB 693.9 kB/s eta 0:00:56\n",
      "   ----- ---------------------------------- 5.8/44.1 MB 693.6 kB/s eta 0:00:56\n",
      "   ----- ---------------------------------- 5.8/44.1 MB 694.8 kB/s eta 0:00:56\n",
      "   ----- ---------------------------------- 5.8/44.1 MB 693.1 kB/s eta 0:00:56\n",
      "   ----- ---------------------------------- 5.9/44.1 MB 693.0 kB/s eta 0:00:56\n",
      "   ----- ---------------------------------- 5.9/44.1 MB 694.0 kB/s eta 0:00:56\n",
      "   ----- ---------------------------------- 5.9/44.1 MB 695.0 kB/s eta 0:00:55\n",
      "   ----- ---------------------------------- 6.0/44.1 MB 694.7 kB/s eta 0:00:55\n",
      "   ----- ---------------------------------- 6.0/44.1 MB 699.3 kB/s eta 0:00:55\n",
      "   ----- ---------------------------------- 6.1/44.1 MB 700.2 kB/s eta 0:00:55\n",
      "   ----- ---------------------------------- 6.1/44.1 MB 701.2 kB/s eta 0:00:55\n",
      "   ----- ---------------------------------- 6.2/44.1 MB 702.1 kB/s eta 0:00:55\n",
      "   ----- ---------------------------------- 6.2/44.1 MB 705.4 kB/s eta 0:00:54\n",
      "   ----- ---------------------------------- 6.3/44.1 MB 705.1 kB/s eta 0:00:54\n",
      "   ----- ---------------------------------- 6.3/44.1 MB 707.1 kB/s eta 0:00:54\n",
      "   ----- ---------------------------------- 6.3/44.1 MB 706.8 kB/s eta 0:00:54\n",
      "   ----- ---------------------------------- 6.4/44.1 MB 707.7 kB/s eta 0:00:54\n",
      "   ----- ---------------------------------- 6.4/44.1 MB 708.7 kB/s eta 0:00:54\n",
      "   ----- ---------------------------------- 6.4/44.1 MB 708.4 kB/s eta 0:00:54\n",
      "   ----- ---------------------------------- 6.5/44.1 MB 709.2 kB/s eta 0:00:54\n",
      "   ----- ---------------------------------- 6.6/44.1 MB 714.5 kB/s eta 0:00:53\n",
      "   ----- ---------------------------------- 6.6/44.1 MB 715.4 kB/s eta 0:00:53\n",
      "   ------ --------------------------------- 6.7/44.1 MB 717.2 kB/s eta 0:00:53\n",
      "   ------ --------------------------------- 6.7/44.1 MB 719.0 kB/s eta 0:00:52\n",
      "   ------ --------------------------------- 6.8/44.1 MB 721.0 kB/s eta 0:00:52\n",
      "   ------ --------------------------------- 6.8/44.1 MB 721.6 kB/s eta 0:00:52\n",
      "   ------ --------------------------------- 6.9/44.1 MB 725.7 kB/s eta 0:00:52\n",
      "   ------ --------------------------------- 6.9/44.1 MB 727.5 kB/s eta 0:00:52\n",
      "   ------ --------------------------------- 7.0/44.1 MB 728.2 kB/s eta 0:00:51\n",
      "   ------ --------------------------------- 7.0/44.1 MB 731.2 kB/s eta 0:00:51\n",
      "   ------ --------------------------------- 7.1/44.1 MB 735.1 kB/s eta 0:00:51\n",
      "   ------ --------------------------------- 7.2/44.1 MB 736.6 kB/s eta 0:00:51\n",
      "   ------ --------------------------------- 7.2/44.1 MB 737.4 kB/s eta 0:00:51\n",
      "   ------ --------------------------------- 7.2/44.1 MB 737.9 kB/s eta 0:00:50\n",
      "   ------ --------------------------------- 7.3/44.1 MB 740.7 kB/s eta 0:00:50\n",
      "   ------ --------------------------------- 7.4/44.1 MB 744.4 kB/s eta 0:00:50\n",
      "   ------ --------------------------------- 7.4/44.1 MB 744.3 kB/s eta 0:00:50\n",
      "   ------ --------------------------------- 7.4/44.1 MB 745.9 kB/s eta 0:00:50\n",
      "   ------ --------------------------------- 7.5/44.1 MB 747.3 kB/s eta 0:00:49\n",
      "   ------ --------------------------------- 7.6/44.1 MB 751.1 kB/s eta 0:00:49\n",
      "   ------ --------------------------------- 7.6/44.1 MB 753.6 kB/s eta 0:00:49\n",
      "   ------- -------------------------------- 7.7/44.1 MB 760.2 kB/s eta 0:00:48\n",
      "   ------- -------------------------------- 7.8/44.1 MB 761.8 kB/s eta 0:00:48\n",
      "   ------- -------------------------------- 7.9/44.1 MB 766.3 kB/s eta 0:00:48\n",
      "   ------- -------------------------------- 7.9/44.1 MB 769.6 kB/s eta 0:00:47\n",
      "   ------- -------------------------------- 8.0/44.1 MB 773.2 kB/s eta 0:00:47\n",
      "   ------- -------------------------------- 8.1/44.1 MB 779.6 kB/s eta 0:00:47\n",
      "   ------- -------------------------------- 8.2/44.1 MB 781.0 kB/s eta 0:00:47\n",
      "   ------- -------------------------------- 8.2/44.1 MB 785.3 kB/s eta 0:00:46\n",
      "   ------- -------------------------------- 8.3/44.1 MB 787.6 kB/s eta 0:00:46\n",
      "   ------- -------------------------------- 8.4/44.1 MB 791.9 kB/s eta 0:00:46\n",
      "   ------- -------------------------------- 8.5/44.1 MB 796.1 kB/s eta 0:00:45\n",
      "   ------- -------------------------------- 8.5/44.1 MB 798.2 kB/s eta 0:00:45\n",
      "   ------- -------------------------------- 8.6/44.1 MB 801.6 kB/s eta 0:00:45\n",
      "   ------- -------------------------------- 8.7/44.1 MB 802.8 kB/s eta 0:00:45\n",
      "   ------- -------------------------------- 8.7/44.1 MB 806.1 kB/s eta 0:00:44\n",
      "   ------- -------------------------------- 8.8/44.1 MB 809.1 kB/s eta 0:00:44\n",
      "   -------- ------------------------------- 8.8/44.1 MB 810.5 kB/s eta 0:00:44\n",
      "   -------- ------------------------------- 8.9/44.1 MB 812.4 kB/s eta 0:00:44\n",
      "   -------- ------------------------------- 8.9/44.1 MB 812.7 kB/s eta 0:00:44\n",
      "   -------- ------------------------------- 9.0/44.1 MB 812.3 kB/s eta 0:00:44\n",
      "   -------- ------------------------------- 9.0/44.1 MB 812.3 kB/s eta 0:00:44\n",
      "   -------- ------------------------------- 9.0/44.1 MB 809.8 kB/s eta 0:00:44\n",
      "   -------- ------------------------------- 9.1/44.1 MB 811.9 kB/s eta 0:00:44\n",
      "   -------- ------------------------------- 9.1/44.1 MB 813.1 kB/s eta 0:00:43\n",
      "   -------- ------------------------------- 9.2/44.1 MB 812.4 kB/s eta 0:00:43\n",
      "   -------- ------------------------------- 9.2/44.1 MB 815.4 kB/s eta 0:00:43\n",
      "   -------- ------------------------------- 9.3/44.1 MB 817.6 kB/s eta 0:00:43\n",
      "   -------- ------------------------------- 9.4/44.1 MB 820.3 kB/s eta 0:00:43\n",
      "   -------- ------------------------------- 9.4/44.1 MB 820.8 kB/s eta 0:00:43\n",
      "   -------- ------------------------------- 9.5/44.1 MB 823.5 kB/s eta 0:00:43\n",
      "   -------- ------------------------------- 9.5/44.1 MB 824.5 kB/s eta 0:00:42\n",
      "   -------- ------------------------------- 9.6/44.1 MB 828.3 kB/s eta 0:00:42\n",
      "   -------- ------------------------------- 9.7/44.1 MB 830.5 kB/s eta 0:00:42\n",
      "   -------- ------------------------------- 9.8/44.1 MB 834.1 kB/s eta 0:00:42\n",
      "   -------- ------------------------------- 9.8/44.1 MB 834.9 kB/s eta 0:00:42\n",
      "   -------- ------------------------------- 9.9/44.1 MB 836.2 kB/s eta 0:00:41\n",
      "   --------- ------------------------------ 9.9/44.1 MB 838.7 kB/s eta 0:00:41\n",
      "   --------- ------------------------------ 10.0/44.1 MB 838.0 kB/s eta 0:00:41\n",
      "   --------- ------------------------------ 10.0/44.1 MB 840.0 kB/s eta 0:00:41\n",
      "   --------- ------------------------------ 10.1/44.1 MB 840.8 kB/s eta 0:00:41\n",
      "   --------- ------------------------------ 10.1/44.1 MB 842.9 kB/s eta 0:00:41\n",
      "   --------- ------------------------------ 10.2/44.1 MB 843.6 kB/s eta 0:00:41\n",
      "   --------- ------------------------------ 10.2/44.1 MB 845.1 kB/s eta 0:00:41\n",
      "   --------- ------------------------------ 10.3/44.1 MB 844.8 kB/s eta 0:00:41\n",
      "   --------- ------------------------------ 10.3/44.1 MB 841.5 kB/s eta 0:00:41\n",
      "   --------- ------------------------------ 10.4/44.1 MB 840.4 kB/s eta 0:00:41\n",
      "   --------- ------------------------------ 10.4/44.1 MB 839.3 kB/s eta 0:00:41\n",
      "   --------- ------------------------------ 10.5/44.1 MB 840.5 kB/s eta 0:00:40\n",
      "   --------- ------------------------------ 10.5/44.1 MB 841.5 kB/s eta 0:00:40\n",
      "   --------- ------------------------------ 10.6/44.1 MB 840.4 kB/s eta 0:00:40\n",
      "   --------- ------------------------------ 10.6/44.1 MB 840.4 kB/s eta 0:00:40\n",
      "   --------- ------------------------------ 10.6/44.1 MB 840.4 kB/s eta 0:00:40\n",
      "   --------- ------------------------------ 10.7/44.1 MB 840.4 kB/s eta 0:00:40\n",
      "   --------- ------------------------------ 10.8/44.1 MB 841.5 kB/s eta 0:00:40\n",
      "   --------- ------------------------------ 10.8/44.1 MB 842.6 kB/s eta 0:00:40\n",
      "   --------- ------------------------------ 10.9/44.1 MB 842.6 kB/s eta 0:00:40\n",
      "   --------- ------------------------------ 10.9/44.1 MB 842.6 kB/s eta 0:00:40\n",
      "   --------- ------------------------------ 10.9/44.1 MB 842.6 kB/s eta 0:00:40\n",
      "   --------- ------------------------------ 11.0/44.1 MB 845.9 kB/s eta 0:00:40\n",
      "   --------- ------------------------------ 11.0/44.1 MB 848.1 kB/s eta 0:00:40\n",
      "   ---------- ----------------------------- 11.1/44.1 MB 850.3 kB/s eta 0:00:39\n",
      "   ---------- ----------------------------- 11.1/44.1 MB 851.3 kB/s eta 0:00:39\n",
      "   ---------- ----------------------------- 11.2/44.1 MB 854.7 kB/s eta 0:00:39\n",
      "   ---------- ----------------------------- 11.2/44.1 MB 853.6 kB/s eta 0:00:39\n",
      "   ---------- ----------------------------- 11.2/44.1 MB 853.6 kB/s eta 0:00:39\n",
      "   ---------- ----------------------------- 11.2/44.1 MB 846.9 kB/s eta 0:00:39\n",
      "   ---------- ----------------------------- 11.3/44.1 MB 842.6 kB/s eta 0:00:39\n",
      "   ---------- ----------------------------- 11.3/44.1 MB 842.6 kB/s eta 0:00:39\n",
      "   ---------- ----------------------------- 11.3/44.1 MB 840.4 kB/s eta 0:00:40\n",
      "   ---------- ----------------------------- 11.3/44.1 MB 839.3 kB/s eta 0:00:40\n",
      "   ---------- ----------------------------- 11.4/44.1 MB 839.3 kB/s eta 0:00:39\n",
      "   ---------- ----------------------------- 11.4/44.1 MB 837.3 kB/s eta 0:00:40\n",
      "   ---------- ----------------------------- 11.4/44.1 MB 839.3 kB/s eta 0:00:39\n",
      "   ---------- ----------------------------- 11.5/44.1 MB 836.2 kB/s eta 0:00:39\n",
      "   ---------- ----------------------------- 11.5/44.1 MB 837.2 kB/s eta 0:00:39\n",
      "   ---------- ----------------------------- 11.6/44.1 MB 838.3 kB/s eta 0:00:39\n",
      "   ---------- ----------------------------- 11.6/44.1 MB 842.6 kB/s eta 0:00:39\n",
      "   ---------- ----------------------------- 11.7/44.1 MB 842.6 kB/s eta 0:00:39\n",
      "   ---------- ----------------------------- 11.7/44.1 MB 840.4 kB/s eta 0:00:39\n",
      "   ---------- ----------------------------- 11.7/44.1 MB 840.4 kB/s eta 0:00:39\n",
      "   ---------- ----------------------------- 11.7/44.1 MB 840.4 kB/s eta 0:00:39\n",
      "   ---------- ----------------------------- 11.8/44.1 MB 840.4 kB/s eta 0:00:39\n",
      "   ---------- ----------------------------- 11.8/44.1 MB 841.5 kB/s eta 0:00:39\n",
      "   ---------- ----------------------------- 11.9/44.1 MB 849.2 kB/s eta 0:00:38\n",
      "   ---------- ----------------------------- 11.9/44.1 MB 849.2 kB/s eta 0:00:38\n",
      "   ---------- ----------------------------- 12.0/44.1 MB 849.2 kB/s eta 0:00:38\n",
      "   ---------- ----------------------------- 12.0/44.1 MB 848.1 kB/s eta 0:00:38\n",
      "   ---------- ----------------------------- 12.1/44.1 MB 852.5 kB/s eta 0:00:38\n",
      "   ----------- ---------------------------- 12.2/44.1 MB 858.1 kB/s eta 0:00:38\n",
      "   ----------- ---------------------------- 12.2/44.1 MB 860.4 kB/s eta 0:00:38\n",
      "   ----------- ---------------------------- 12.3/44.1 MB 860.4 kB/s eta 0:00:37\n",
      "   ----------- ---------------------------- 12.3/44.1 MB 862.6 kB/s eta 0:00:37\n",
      "   ----------- ---------------------------- 12.4/44.1 MB 866.0 kB/s eta 0:00:37\n",
      "   ----------- ---------------------------- 12.4/44.1 MB 866.0 kB/s eta 0:00:37\n",
      "   ----------- ---------------------------- 12.5/44.1 MB 869.5 kB/s eta 0:00:37\n",
      "   ----------- ---------------------------- 12.6/44.1 MB 870.6 kB/s eta 0:00:37\n",
      "   ----------- ---------------------------- 12.6/44.1 MB 874.1 kB/s eta 0:00:37\n",
      "   ----------- ---------------------------- 12.7/44.1 MB 875.2 kB/s eta 0:00:36\n",
      "   ----------- ---------------------------- 12.7/44.1 MB 875.3 kB/s eta 0:00:36\n",
      "   ----------- ---------------------------- 12.8/44.1 MB 875.2 kB/s eta 0:00:36\n",
      "   ----------- ---------------------------- 12.8/44.1 MB 875.3 kB/s eta 0:00:36\n",
      "   ----------- ---------------------------- 12.9/44.1 MB 878.8 kB/s eta 0:00:36\n",
      "   ----------- ---------------------------- 12.9/44.1 MB 877.6 kB/s eta 0:00:36\n",
      "   ----------- ---------------------------- 13.0/44.1 MB 877.6 kB/s eta 0:00:36\n",
      "   ----------- ---------------------------- 13.0/44.1 MB 878.8 kB/s eta 0:00:36\n",
      "   ----------- ---------------------------- 13.0/44.1 MB 877.6 kB/s eta 0:00:36\n",
      "   ----------- ---------------------------- 13.0/44.1 MB 876.4 kB/s eta 0:00:36\n",
      "   ----------- ---------------------------- 13.0/44.1 MB 876.4 kB/s eta 0:00:36\n",
      "   ----------- ---------------------------- 13.1/44.1 MB 870.6 kB/s eta 0:00:36\n",
      "   ----------- ---------------------------- 13.1/44.1 MB 871.8 kB/s eta 0:00:36\n",
      "   ----------- ---------------------------- 13.1/44.1 MB 874.1 kB/s eta 0:00:36\n",
      "   ----------- ---------------------------- 13.2/44.1 MB 871.8 kB/s eta 0:00:36\n",
      "   ----------- ---------------------------- 13.2/44.1 MB 871.8 kB/s eta 0:00:36\n",
      "   ------------ --------------------------- 13.2/44.1 MB 878.8 kB/s eta 0:00:36\n",
      "   ------------ --------------------------- 13.3/44.1 MB 880.0 kB/s eta 0:00:36\n",
      "   ------------ --------------------------- 13.3/44.1 MB 877.6 kB/s eta 0:00:36\n",
      "   ------------ --------------------------- 13.4/44.1 MB 877.6 kB/s eta 0:00:36\n",
      "   ------------ --------------------------- 13.4/44.1 MB 876.4 kB/s eta 0:00:36\n",
      "   ------------ --------------------------- 13.4/44.1 MB 875.2 kB/s eta 0:00:36\n",
      "   ------------ --------------------------- 13.4/44.1 MB 875.3 kB/s eta 0:00:36\n",
      "   ------------ --------------------------- 13.5/44.1 MB 875.3 kB/s eta 0:00:35\n",
      "   ------------ --------------------------- 13.5/44.1 MB 880.0 kB/s eta 0:00:35\n",
      "   ------------ --------------------------- 13.6/44.1 MB 880.0 kB/s eta 0:00:35\n",
      "   ------------ --------------------------- 13.6/44.1 MB 880.0 kB/s eta 0:00:35\n",
      "   ------------ --------------------------- 13.7/44.1 MB 881.2 kB/s eta 0:00:35\n",
      "   ------------ --------------------------- 13.7/44.1 MB 880.0 kB/s eta 0:00:35\n",
      "   ------------ --------------------------- 13.8/44.1 MB 883.5 kB/s eta 0:00:35\n",
      "   ------------ --------------------------- 13.8/44.1 MB 882.3 kB/s eta 0:00:35\n",
      "   ------------ --------------------------- 13.9/44.1 MB 884.8 kB/s eta 0:00:35\n",
      "   ------------ --------------------------- 13.9/44.1 MB 883.5 kB/s eta 0:00:35\n",
      "   ------------ --------------------------- 13.9/44.1 MB 888.3 kB/s eta 0:00:34\n",
      "   ------------ --------------------------- 14.0/44.1 MB 888.3 kB/s eta 0:00:34\n",
      "   ------------ --------------------------- 14.0/44.1 MB 890.8 kB/s eta 0:00:34\n",
      "   ------------ --------------------------- 14.0/44.1 MB 892.0 kB/s eta 0:00:34\n",
      "   ------------ --------------------------- 14.1/44.1 MB 894.4 kB/s eta 0:00:34\n",
      "   ------------ --------------------------- 14.1/44.1 MB 893.2 kB/s eta 0:00:34\n",
      "   ------------ --------------------------- 14.2/44.1 MB 894.4 kB/s eta 0:00:34\n",
      "   ------------ --------------------------- 14.2/44.1 MB 895.6 kB/s eta 0:00:34\n",
      "   ------------ --------------------------- 14.2/44.1 MB 894.4 kB/s eta 0:00:34\n",
      "   ------------ --------------------------- 14.3/44.1 MB 894.4 kB/s eta 0:00:34\n",
      "   ------------ --------------------------- 14.3/44.1 MB 893.2 kB/s eta 0:00:34\n",
      "   ------------- -------------------------- 14.3/44.1 MB 894.4 kB/s eta 0:00:34\n",
      "   ------------- -------------------------- 14.4/44.1 MB 895.6 kB/s eta 0:00:34\n",
      "   ------------- -------------------------- 14.4/44.1 MB 898.1 kB/s eta 0:00:34\n",
      "   ------------- -------------------------- 14.5/44.1 MB 901.9 kB/s eta 0:00:33\n",
      "   ------------- -------------------------- 14.5/44.1 MB 906.8 kB/s eta 0:00:33\n",
      "   ------------- -------------------------- 14.6/44.1 MB 908.0 kB/s eta 0:00:33\n",
      "   ------------- -------------------------- 14.6/44.1 MB 910.6 kB/s eta 0:00:33\n",
      "   ------------- -------------------------- 14.7/44.1 MB 908.0 kB/s eta 0:00:33\n",
      "   ------------- -------------------------- 14.7/44.1 MB 908.0 kB/s eta 0:00:33\n",
      "   ------------- -------------------------- 14.7/44.1 MB 904.2 kB/s eta 0:00:33\n",
      "   ------------- -------------------------- 14.7/44.1 MB 903.0 kB/s eta 0:00:33\n",
      "   ------------- -------------------------- 14.7/44.1 MB 903.0 kB/s eta 0:00:33\n",
      "   ------------- -------------------------- 14.8/44.1 MB 901.8 kB/s eta 0:00:33\n",
      "   ------------- -------------------------- 14.9/44.1 MB 909.3 kB/s eta 0:00:33\n",
      "   ------------- -------------------------- 15.0/44.1 MB 913.1 kB/s eta 0:00:32\n",
      "   ------------- -------------------------- 15.0/44.1 MB 913.1 kB/s eta 0:00:32\n",
      "   ------------- -------------------------- 15.1/44.1 MB 915.7 kB/s eta 0:00:32\n",
      "   ------------- -------------------------- 15.1/44.1 MB 923.4 kB/s eta 0:00:32\n",
      "   ------------- -------------------------- 15.2/44.1 MB 928.7 kB/s eta 0:00:32\n",
      "   ------------- -------------------------- 15.3/44.1 MB 932.7 kB/s eta 0:00:31\n",
      "   ------------- -------------------------- 15.3/44.1 MB 933.9 kB/s eta 0:00:31\n",
      "   ------------- -------------------------- 15.4/44.1 MB 940.7 kB/s eta 0:00:31\n",
      "   ------------- -------------------------- 15.4/44.1 MB 950.3 kB/s eta 0:00:31\n",
      "   -------------- ------------------------- 15.5/44.1 MB 953.0 kB/s eta 0:00:31\n",
      "   -------------- ------------------------- 15.5/44.1 MB 955.8 kB/s eta 0:00:30\n",
      "   -------------- ------------------------- 15.6/44.1 MB 972.8 kB/s eta 0:00:30\n",
      "   -------------- ------------------------- 15.6/44.1 MB 989.1 kB/s eta 0:00:29\n",
      "   -------------- ------------------------- 15.7/44.1 MB 998.0 kB/s eta 0:00:29\n",
      "   -------------- ------------------------- 15.8/44.1 MB 1.0 MB/s eta 0:00:28\n",
      "   -------------- ------------------------- 15.8/44.1 MB 1.0 MB/s eta 0:00:28\n",
      "   -------------- ------------------------- 15.9/44.1 MB 1.0 MB/s eta 0:00:28\n",
      "   -------------- ------------------------- 16.0/44.1 MB 1.0 MB/s eta 0:00:28\n",
      "   -------------- ------------------------- 16.1/44.1 MB 1.0 MB/s eta 0:00:27\n",
      "   -------------- ------------------------- 16.2/44.1 MB 1.0 MB/s eta 0:00:27\n",
      "   -------------- ------------------------- 16.2/44.1 MB 1.1 MB/s eta 0:00:27\n",
      "   -------------- ------------------------- 16.3/44.1 MB 1.1 MB/s eta 0:00:27\n",
      "   -------------- ------------------------- 16.4/44.1 MB 1.1 MB/s eta 0:00:27\n",
      "   -------------- ------------------------- 16.5/44.1 MB 1.1 MB/s eta 0:00:26\n",
      "   --------------- ------------------------ 16.5/44.1 MB 1.1 MB/s eta 0:00:26\n",
      "   --------------- ------------------------ 16.6/44.1 MB 1.1 MB/s eta 0:00:26\n",
      "   --------------- ------------------------ 16.7/44.1 MB 1.1 MB/s eta 0:00:26\n",
      "   --------------- ------------------------ 16.8/44.1 MB 1.1 MB/s eta 0:00:26\n",
      "   --------------- ------------------------ 16.9/44.1 MB 1.1 MB/s eta 0:00:26\n",
      "   --------------- ------------------------ 16.9/44.1 MB 1.1 MB/s eta 0:00:26\n",
      "   --------------- ------------------------ 17.0/44.1 MB 1.1 MB/s eta 0:00:25\n",
      "   --------------- ------------------------ 17.1/44.1 MB 1.1 MB/s eta 0:00:25\n",
      "   --------------- ------------------------ 17.1/44.1 MB 1.1 MB/s eta 0:00:25\n",
      "   --------------- ------------------------ 17.2/44.1 MB 1.1 MB/s eta 0:00:25\n",
      "   --------------- ------------------------ 17.2/44.1 MB 1.1 MB/s eta 0:00:25\n",
      "   --------------- ------------------------ 17.3/44.1 MB 1.1 MB/s eta 0:00:25\n",
      "   --------------- ------------------------ 17.4/44.1 MB 1.1 MB/s eta 0:00:25\n",
      "   --------------- ------------------------ 17.4/44.1 MB 1.1 MB/s eta 0:00:25\n",
      "   --------------- ------------------------ 17.4/44.1 MB 1.1 MB/s eta 0:00:25\n",
      "   --------------- ------------------------ 17.5/44.1 MB 1.1 MB/s eta 0:00:25\n",
      "   --------------- ------------------------ 17.6/44.1 MB 1.1 MB/s eta 0:00:25\n",
      "   ---------------- ----------------------- 17.7/44.1 MB 1.1 MB/s eta 0:00:25\n",
      "   ---------------- ----------------------- 17.7/44.1 MB 1.1 MB/s eta 0:00:24\n",
      "   ---------------- ----------------------- 17.8/44.1 MB 1.1 MB/s eta 0:00:24\n",
      "   ---------------- ----------------------- 17.9/44.1 MB 1.1 MB/s eta 0:00:24\n",
      "   ---------------- ----------------------- 17.9/44.1 MB 1.1 MB/s eta 0:00:24\n",
      "   ---------------- ----------------------- 18.0/44.1 MB 1.1 MB/s eta 0:00:24\n",
      "   ---------------- ----------------------- 18.1/44.1 MB 1.1 MB/s eta 0:00:24\n",
      "   ---------------- ----------------------- 18.1/44.1 MB 1.1 MB/s eta 0:00:24\n",
      "   ---------------- ----------------------- 18.2/44.1 MB 1.1 MB/s eta 0:00:24\n",
      "   ---------------- ----------------------- 18.2/44.1 MB 1.1 MB/s eta 0:00:24\n",
      "   ---------------- ----------------------- 18.3/44.1 MB 1.1 MB/s eta 0:00:24\n",
      "   ---------------- ----------------------- 18.4/44.1 MB 1.1 MB/s eta 0:00:24\n",
      "   ---------------- ----------------------- 18.4/44.1 MB 1.1 MB/s eta 0:00:24\n",
      "   ---------------- ----------------------- 18.5/44.1 MB 1.1 MB/s eta 0:00:24\n",
      "   ---------------- ----------------------- 18.5/44.1 MB 1.1 MB/s eta 0:00:24\n",
      "   ---------------- ----------------------- 18.6/44.1 MB 1.1 MB/s eta 0:00:24\n",
      "   ---------------- ----------------------- 18.7/44.1 MB 1.1 MB/s eta 0:00:24\n",
      "   ---------------- ----------------------- 18.7/44.1 MB 1.1 MB/s eta 0:00:24\n",
      "   ----------------- ---------------------- 18.8/44.1 MB 1.1 MB/s eta 0:00:24\n",
      "   ----------------- ---------------------- 18.9/44.1 MB 1.1 MB/s eta 0:00:24\n",
      "   ----------------- ---------------------- 18.9/44.1 MB 1.1 MB/s eta 0:00:24\n",
      "   ----------------- ---------------------- 19.0/44.1 MB 1.1 MB/s eta 0:00:24\n",
      "   ----------------- ---------------------- 19.0/44.1 MB 1.1 MB/s eta 0:00:24\n",
      "   ----------------- ---------------------- 19.1/44.1 MB 1.1 MB/s eta 0:00:23\n",
      "   ----------------- ---------------------- 19.2/44.1 MB 1.1 MB/s eta 0:00:23\n",
      "   ----------------- ---------------------- 19.3/44.1 MB 1.1 MB/s eta 0:00:23\n",
      "   ----------------- ---------------------- 19.3/44.1 MB 1.1 MB/s eta 0:00:23\n",
      "   ----------------- ---------------------- 19.4/44.1 MB 1.1 MB/s eta 0:00:23\n",
      "   ----------------- ---------------------- 19.5/44.1 MB 1.1 MB/s eta 0:00:23\n",
      "   ----------------- ---------------------- 19.6/44.1 MB 1.1 MB/s eta 0:00:23\n",
      "   ----------------- ---------------------- 19.7/44.1 MB 1.1 MB/s eta 0:00:23\n",
      "   ----------------- ---------------------- 19.7/44.1 MB 1.1 MB/s eta 0:00:23\n",
      "   ----------------- ---------------------- 19.8/44.1 MB 1.1 MB/s eta 0:00:22\n",
      "   ------------------ --------------------- 19.8/44.1 MB 1.1 MB/s eta 0:00:22\n",
      "   ------------------ --------------------- 19.9/44.1 MB 1.1 MB/s eta 0:00:22\n",
      "   ------------------ --------------------- 20.0/44.1 MB 1.1 MB/s eta 0:00:22\n",
      "   ------------------ --------------------- 20.1/44.1 MB 1.1 MB/s eta 0:00:22\n",
      "   ------------------ --------------------- 20.2/44.1 MB 1.1 MB/s eta 0:00:22\n",
      "   ------------------ --------------------- 20.2/44.1 MB 1.1 MB/s eta 0:00:22\n",
      "   ------------------ --------------------- 20.2/44.1 MB 1.1 MB/s eta 0:00:22\n",
      "   ------------------ --------------------- 20.2/44.1 MB 1.1 MB/s eta 0:00:22\n",
      "   ------------------ --------------------- 20.3/44.1 MB 1.1 MB/s eta 0:00:22\n",
      "   ------------------ --------------------- 20.3/44.1 MB 1.1 MB/s eta 0:00:22\n",
      "   ------------------ --------------------- 20.4/44.1 MB 1.1 MB/s eta 0:00:22\n",
      "   ------------------ --------------------- 20.5/44.1 MB 1.1 MB/s eta 0:00:22\n",
      "   ------------------ --------------------- 20.5/44.1 MB 1.1 MB/s eta 0:00:22\n",
      "   ------------------ --------------------- 20.6/44.1 MB 1.1 MB/s eta 0:00:22\n",
      "   ------------------ --------------------- 20.6/44.1 MB 1.1 MB/s eta 0:00:22\n",
      "   ------------------ --------------------- 20.7/44.1 MB 1.1 MB/s eta 0:00:21\n",
      "   ------------------ --------------------- 20.8/44.1 MB 1.1 MB/s eta 0:00:21\n",
      "   ------------------ --------------------- 20.9/44.1 MB 1.1 MB/s eta 0:00:21\n",
      "   ------------------- -------------------- 21.0/44.1 MB 1.1 MB/s eta 0:00:21\n",
      "   ------------------- -------------------- 21.0/44.1 MB 1.1 MB/s eta 0:00:21\n",
      "   ------------------- -------------------- 21.1/44.1 MB 1.1 MB/s eta 0:00:21\n",
      "   ------------------- -------------------- 21.2/44.1 MB 1.1 MB/s eta 0:00:21\n",
      "   ------------------- -------------------- 21.3/44.1 MB 1.1 MB/s eta 0:00:20\n",
      "   ------------------- -------------------- 21.4/44.1 MB 1.2 MB/s eta 0:00:20\n",
      "   ------------------- -------------------- 21.4/44.1 MB 1.2 MB/s eta 0:00:20\n",
      "   ------------------- -------------------- 21.5/44.1 MB 1.2 MB/s eta 0:00:20\n",
      "   ------------------- -------------------- 21.6/44.1 MB 1.2 MB/s eta 0:00:19\n",
      "   ------------------- -------------------- 21.7/44.1 MB 1.2 MB/s eta 0:00:19\n",
      "   ------------------- -------------------- 21.7/44.1 MB 1.2 MB/s eta 0:00:19\n",
      "   ------------------- -------------------- 21.8/44.1 MB 1.2 MB/s eta 0:00:19\n",
      "   ------------------- -------------------- 21.9/44.1 MB 1.2 MB/s eta 0:00:19\n",
      "   ------------------- -------------------- 22.0/44.1 MB 1.2 MB/s eta 0:00:19\n",
      "   ------------------- -------------------- 22.0/44.1 MB 1.2 MB/s eta 0:00:19\n",
      "   -------------------- ------------------- 22.1/44.1 MB 1.2 MB/s eta 0:00:18\n",
      "   -------------------- ------------------- 22.2/44.1 MB 1.2 MB/s eta 0:00:18\n",
      "   -------------------- ------------------- 22.2/44.1 MB 1.2 MB/s eta 0:00:18\n",
      "   -------------------- ------------------- 22.3/44.1 MB 1.2 MB/s eta 0:00:18\n",
      "   -------------------- ------------------- 22.4/44.1 MB 1.2 MB/s eta 0:00:18\n",
      "   -------------------- ------------------- 22.4/44.1 MB 1.2 MB/s eta 0:00:18\n",
      "   -------------------- ------------------- 22.5/44.1 MB 1.2 MB/s eta 0:00:18\n",
      "   -------------------- ------------------- 22.6/44.1 MB 1.2 MB/s eta 0:00:18\n",
      "   -------------------- ------------------- 22.6/44.1 MB 1.2 MB/s eta 0:00:18\n",
      "   -------------------- ------------------- 22.6/44.1 MB 1.2 MB/s eta 0:00:18\n",
      "   -------------------- ------------------- 22.7/44.1 MB 1.2 MB/s eta 0:00:18\n",
      "   -------------------- ------------------- 22.7/44.1 MB 1.2 MB/s eta 0:00:18\n",
      "   -------------------- ------------------- 22.8/44.1 MB 1.2 MB/s eta 0:00:18\n",
      "   -------------------- ------------------- 22.8/44.1 MB 1.2 MB/s eta 0:00:18\n",
      "   -------------------- ------------------- 22.9/44.1 MB 1.2 MB/s eta 0:00:18\n",
      "   -------------------- ------------------- 22.9/44.1 MB 1.2 MB/s eta 0:00:18\n",
      "   -------------------- ------------------- 22.9/44.1 MB 1.2 MB/s eta 0:00:18\n",
      "   -------------------- ------------------- 22.9/44.1 MB 1.2 MB/s eta 0:00:18\n",
      "   -------------------- ------------------- 23.0/44.1 MB 1.2 MB/s eta 0:00:18\n",
      "   -------------------- ------------------- 23.1/44.1 MB 1.2 MB/s eta 0:00:18\n",
      "   -------------------- ------------------- 23.1/44.1 MB 1.2 MB/s eta 0:00:18\n",
      "   --------------------- ------------------ 23.2/44.1 MB 1.2 MB/s eta 0:00:18\n",
      "   --------------------- ------------------ 23.3/44.1 MB 1.2 MB/s eta 0:00:17\n",
      "   --------------------- ------------------ 23.3/44.1 MB 1.2 MB/s eta 0:00:17\n",
      "   --------------------- ------------------ 23.4/44.1 MB 1.3 MB/s eta 0:00:17\n",
      "   --------------------- ------------------ 23.5/44.1 MB 1.3 MB/s eta 0:00:17\n",
      "   --------------------- ------------------ 23.6/44.1 MB 1.3 MB/s eta 0:00:17\n",
      "   --------------------- ------------------ 23.6/44.1 MB 1.3 MB/s eta 0:00:16\n",
      "   --------------------- ------------------ 23.7/44.1 MB 1.3 MB/s eta 0:00:16\n",
      "   --------------------- ------------------ 23.8/44.1 MB 1.3 MB/s eta 0:00:16\n",
      "   --------------------- ------------------ 23.8/44.1 MB 1.3 MB/s eta 0:00:16\n",
      "   --------------------- ------------------ 23.9/44.1 MB 1.3 MB/s eta 0:00:16\n",
      "   --------------------- ------------------ 24.0/44.1 MB 1.3 MB/s eta 0:00:16\n",
      "   --------------------- ------------------ 24.1/44.1 MB 1.3 MB/s eta 0:00:16\n",
      "   --------------------- ------------------ 24.1/44.1 MB 1.3 MB/s eta 0:00:16\n",
      "   --------------------- ------------------ 24.2/44.1 MB 1.3 MB/s eta 0:00:16\n",
      "   ---------------------- ----------------- 24.3/44.1 MB 1.3 MB/s eta 0:00:15\n",
      "   ---------------------- ----------------- 24.3/44.1 MB 1.3 MB/s eta 0:00:15\n",
      "   ---------------------- ----------------- 24.4/44.1 MB 1.3 MB/s eta 0:00:15\n",
      "   ---------------------- ----------------- 24.5/44.1 MB 1.4 MB/s eta 0:00:15\n",
      "   ---------------------- ----------------- 24.6/44.1 MB 1.4 MB/s eta 0:00:15\n",
      "   ---------------------- ----------------- 24.6/44.1 MB 1.4 MB/s eta 0:00:15\n",
      "   ---------------------- ----------------- 24.7/44.1 MB 1.4 MB/s eta 0:00:15\n",
      "   ---------------------- ----------------- 24.8/44.1 MB 1.4 MB/s eta 0:00:15\n",
      "   ---------------------- ----------------- 24.9/44.1 MB 1.4 MB/s eta 0:00:14\n",
      "   ---------------------- ----------------- 24.9/44.1 MB 1.4 MB/s eta 0:00:14\n",
      "   ---------------------- ----------------- 25.0/44.1 MB 1.4 MB/s eta 0:00:14\n",
      "   ---------------------- ----------------- 25.0/44.1 MB 1.4 MB/s eta 0:00:14\n",
      "   ---------------------- ----------------- 25.1/44.1 MB 1.4 MB/s eta 0:00:14\n",
      "   ---------------------- ----------------- 25.1/44.1 MB 1.4 MB/s eta 0:00:14\n",
      "   ---------------------- ----------------- 25.2/44.1 MB 1.4 MB/s eta 0:00:14\n",
      "   ---------------------- ----------------- 25.3/44.1 MB 1.4 MB/s eta 0:00:14\n",
      "   ----------------------- ---------------- 25.4/44.1 MB 1.4 MB/s eta 0:00:14\n",
      "   ----------------------- ---------------- 25.4/44.1 MB 1.4 MB/s eta 0:00:14\n",
      "   ----------------------- ---------------- 25.5/44.1 MB 1.4 MB/s eta 0:00:14\n",
      "   ----------------------- ---------------- 25.6/44.1 MB 1.4 MB/s eta 0:00:14\n",
      "   ----------------------- ---------------- 25.6/44.1 MB 1.4 MB/s eta 0:00:14\n",
      "   ----------------------- ---------------- 25.7/44.1 MB 1.4 MB/s eta 0:00:14\n",
      "   ----------------------- ---------------- 25.7/44.1 MB 1.4 MB/s eta 0:00:14\n",
      "   ----------------------- ---------------- 25.7/44.1 MB 1.4 MB/s eta 0:00:14\n",
      "   ----------------------- ---------------- 25.7/44.1 MB 1.4 MB/s eta 0:00:14\n",
      "   ----------------------- ---------------- 25.8/44.1 MB 1.4 MB/s eta 0:00:14\n",
      "   ----------------------- ---------------- 25.8/44.1 MB 1.4 MB/s eta 0:00:14\n",
      "   ----------------------- ---------------- 25.8/44.1 MB 1.4 MB/s eta 0:00:14\n",
      "   ----------------------- ---------------- 25.9/44.1 MB 1.4 MB/s eta 0:00:14\n",
      "   ----------------------- ---------------- 25.9/44.1 MB 1.4 MB/s eta 0:00:14\n",
      "   ----------------------- ---------------- 26.0/44.1 MB 1.4 MB/s eta 0:00:14\n",
      "   ----------------------- ---------------- 26.1/44.1 MB 1.4 MB/s eta 0:00:14\n",
      "   ----------------------- ---------------- 26.1/44.1 MB 1.4 MB/s eta 0:00:14\n",
      "   ----------------------- ---------------- 26.2/44.1 MB 1.4 MB/s eta 0:00:14\n",
      "   ----------------------- ---------------- 26.2/44.1 MB 1.4 MB/s eta 0:00:14\n",
      "   ----------------------- ---------------- 26.3/44.1 MB 1.4 MB/s eta 0:00:13\n",
      "   ----------------------- ---------------- 26.3/44.1 MB 1.4 MB/s eta 0:00:13\n",
      "   ----------------------- ---------------- 26.4/44.1 MB 1.4 MB/s eta 0:00:13\n",
      "   ------------------------ --------------- 26.5/44.1 MB 1.4 MB/s eta 0:00:13\n",
      "   ------------------------ --------------- 26.5/44.1 MB 1.4 MB/s eta 0:00:13\n",
      "   ------------------------ --------------- 26.6/44.1 MB 1.4 MB/s eta 0:00:13\n",
      "   ------------------------ --------------- 26.6/44.1 MB 1.4 MB/s eta 0:00:13\n",
      "   ------------------------ --------------- 26.7/44.1 MB 1.4 MB/s eta 0:00:13\n",
      "   ------------------------ --------------- 26.7/44.1 MB 1.3 MB/s eta 0:00:13\n",
      "   ------------------------ --------------- 26.8/44.1 MB 1.3 MB/s eta 0:00:13\n",
      "   ------------------------ --------------- 26.9/44.1 MB 1.3 MB/s eta 0:00:13\n",
      "   ------------------------ --------------- 26.9/44.1 MB 1.4 MB/s eta 0:00:13\n",
      "   ------------------------ --------------- 27.0/44.1 MB 1.3 MB/s eta 0:00:13\n",
      "   ------------------------ --------------- 27.1/44.1 MB 1.3 MB/s eta 0:00:13\n",
      "   ------------------------ --------------- 27.1/44.1 MB 1.3 MB/s eta 0:00:13\n",
      "   ------------------------ --------------- 27.2/44.1 MB 1.3 MB/s eta 0:00:13\n",
      "   ------------------------ --------------- 27.3/44.1 MB 1.3 MB/s eta 0:00:13\n",
      "   ------------------------ --------------- 27.3/44.1 MB 1.3 MB/s eta 0:00:13\n",
      "   ------------------------ --------------- 27.4/44.1 MB 1.3 MB/s eta 0:00:13\n",
      "   ------------------------ --------------- 27.4/44.1 MB 1.3 MB/s eta 0:00:13\n",
      "   ------------------------ --------------- 27.5/44.1 MB 1.3 MB/s eta 0:00:13\n",
      "   ------------------------ --------------- 27.5/44.1 MB 1.3 MB/s eta 0:00:13\n",
      "   ------------------------ --------------- 27.5/44.1 MB 1.3 MB/s eta 0:00:13\n",
      "   ------------------------ --------------- 27.5/44.1 MB 1.3 MB/s eta 0:00:13\n",
      "   ------------------------- -------------- 27.6/44.1 MB 1.3 MB/s eta 0:00:13\n",
      "   ------------------------- -------------- 27.6/44.1 MB 1.3 MB/s eta 0:00:13\n",
      "   ------------------------- -------------- 27.7/44.1 MB 1.3 MB/s eta 0:00:13\n",
      "   ------------------------- -------------- 27.7/44.1 MB 1.3 MB/s eta 0:00:13\n",
      "   ------------------------- -------------- 27.8/44.1 MB 1.3 MB/s eta 0:00:13\n",
      "   ------------------------- -------------- 27.9/44.1 MB 1.3 MB/s eta 0:00:13\n",
      "   ------------------------- -------------- 28.0/44.1 MB 1.3 MB/s eta 0:00:13\n",
      "   ------------------------- -------------- 28.0/44.1 MB 1.3 MB/s eta 0:00:13\n",
      "   ------------------------- -------------- 28.1/44.1 MB 1.3 MB/s eta 0:00:13\n",
      "   ------------------------- -------------- 28.2/44.1 MB 1.3 MB/s eta 0:00:13\n",
      "   ------------------------- -------------- 28.3/44.1 MB 1.3 MB/s eta 0:00:12\n",
      "   ------------------------- -------------- 28.3/44.1 MB 1.3 MB/s eta 0:00:12\n",
      "   ------------------------- -------------- 28.4/44.1 MB 1.3 MB/s eta 0:00:12\n",
      "   ------------------------- -------------- 28.5/44.1 MB 1.3 MB/s eta 0:00:12\n",
      "   ------------------------- -------------- 28.6/44.1 MB 1.3 MB/s eta 0:00:12\n",
      "   ------------------------- -------------- 28.6/44.1 MB 1.3 MB/s eta 0:00:12\n",
      "   -------------------------- ------------- 28.7/44.1 MB 1.3 MB/s eta 0:00:12\n",
      "   -------------------------- ------------- 28.7/44.1 MB 1.3 MB/s eta 0:00:12\n",
      "   -------------------------- ------------- 28.8/44.1 MB 1.3 MB/s eta 0:00:12\n",
      "   -------------------------- ------------- 28.9/44.1 MB 1.3 MB/s eta 0:00:12\n",
      "   -------------------------- ------------- 28.9/44.1 MB 1.3 MB/s eta 0:00:12\n",
      "   -------------------------- ------------- 29.0/44.1 MB 1.3 MB/s eta 0:00:12\n",
      "   -------------------------- ------------- 29.1/44.1 MB 1.3 MB/s eta 0:00:12\n",
      "   -------------------------- ------------- 29.1/44.1 MB 1.3 MB/s eta 0:00:12\n",
      "   -------------------------- ------------- 29.2/44.1 MB 1.3 MB/s eta 0:00:12\n",
      "   -------------------------- ------------- 29.2/44.1 MB 1.3 MB/s eta 0:00:12\n",
      "   -------------------------- ------------- 29.3/44.1 MB 1.3 MB/s eta 0:00:12\n",
      "   -------------------------- ------------- 29.4/44.1 MB 1.3 MB/s eta 0:00:12\n",
      "   -------------------------- ------------- 29.4/44.1 MB 1.3 MB/s eta 0:00:12\n",
      "   -------------------------- ------------- 29.5/44.1 MB 1.3 MB/s eta 0:00:11\n",
      "   -------------------------- ------------- 29.5/44.1 MB 1.3 MB/s eta 0:00:11\n",
      "   -------------------------- ------------- 29.6/44.1 MB 1.3 MB/s eta 0:00:11\n",
      "   -------------------------- ------------- 29.6/44.1 MB 1.3 MB/s eta 0:00:11\n",
      "   -------------------------- ------------- 29.7/44.1 MB 1.3 MB/s eta 0:00:11\n",
      "   -------------------------- ------------- 29.7/44.1 MB 1.3 MB/s eta 0:00:11\n",
      "   --------------------------- ------------ 29.9/44.1 MB 1.3 MB/s eta 0:00:11\n",
      "   --------------------------- ------------ 29.9/44.1 MB 1.3 MB/s eta 0:00:11\n",
      "   --------------------------- ------------ 30.0/44.1 MB 1.3 MB/s eta 0:00:11\n",
      "   --------------------------- ------------ 30.0/44.1 MB 1.3 MB/s eta 0:00:11\n",
      "   --------------------------- ------------ 30.1/44.1 MB 1.3 MB/s eta 0:00:11\n",
      "   --------------------------- ------------ 30.1/44.1 MB 1.3 MB/s eta 0:00:11\n",
      "   --------------------------- ------------ 30.1/44.1 MB 1.3 MB/s eta 0:00:11\n",
      "   --------------------------- ------------ 30.2/44.1 MB 1.3 MB/s eta 0:00:11\n",
      "   --------------------------- ------------ 30.2/44.1 MB 1.3 MB/s eta 0:00:11\n",
      "   --------------------------- ------------ 30.2/44.1 MB 1.3 MB/s eta 0:00:11\n",
      "   --------------------------- ------------ 30.3/44.1 MB 1.3 MB/s eta 0:00:11\n",
      "   --------------------------- ------------ 30.3/44.1 MB 1.3 MB/s eta 0:00:11\n",
      "   --------------------------- ------------ 30.3/44.1 MB 1.3 MB/s eta 0:00:11\n",
      "   --------------------------- ------------ 30.4/44.1 MB 1.3 MB/s eta 0:00:11\n",
      "   --------------------------- ------------ 30.4/44.1 MB 1.3 MB/s eta 0:00:11\n",
      "   --------------------------- ------------ 30.5/44.1 MB 1.3 MB/s eta 0:00:11\n",
      "   --------------------------- ------------ 30.5/44.1 MB 1.3 MB/s eta 0:00:11\n",
      "   --------------------------- ------------ 30.5/44.1 MB 1.3 MB/s eta 0:00:11\n",
      "   --------------------------- ------------ 30.5/44.1 MB 1.3 MB/s eta 0:00:11\n",
      "   --------------------------- ------------ 30.6/44.1 MB 1.3 MB/s eta 0:00:11\n",
      "   --------------------------- ------------ 30.8/44.1 MB 1.3 MB/s eta 0:00:11\n",
      "   --------------------------- ------------ 30.8/44.1 MB 1.3 MB/s eta 0:00:11\n",
      "   --------------------------- ------------ 30.8/44.1 MB 1.3 MB/s eta 0:00:11\n",
      "   ---------------------------- ----------- 30.9/44.1 MB 1.3 MB/s eta 0:00:11\n",
      "   ---------------------------- ----------- 30.9/44.1 MB 1.3 MB/s eta 0:00:11\n",
      "   ---------------------------- ----------- 30.9/44.1 MB 1.3 MB/s eta 0:00:11\n",
      "   ---------------------------- ----------- 31.1/44.1 MB 1.3 MB/s eta 0:00:11\n",
      "   ---------------------------- ----------- 31.2/44.1 MB 1.3 MB/s eta 0:00:11\n",
      "   ---------------------------- ----------- 31.2/44.1 MB 1.3 MB/s eta 0:00:11\n",
      "   ---------------------------- ----------- 31.3/44.1 MB 1.3 MB/s eta 0:00:11\n",
      "   ---------------------------- ----------- 31.3/44.1 MB 1.3 MB/s eta 0:00:11\n",
      "   ---------------------------- ----------- 31.3/44.1 MB 1.3 MB/s eta 0:00:11\n",
      "   ---------------------------- ----------- 31.3/44.1 MB 1.3 MB/s eta 0:00:11\n",
      "   ---------------------------- ----------- 31.5/44.1 MB 1.3 MB/s eta 0:00:10\n",
      "   ---------------------------- ----------- 31.6/44.1 MB 1.3 MB/s eta 0:00:10\n",
      "   ---------------------------- ----------- 31.6/44.1 MB 1.3 MB/s eta 0:00:10\n",
      "   ---------------------------- ----------- 31.7/44.1 MB 1.3 MB/s eta 0:00:10\n",
      "   ---------------------------- ----------- 31.7/44.1 MB 1.3 MB/s eta 0:00:10\n",
      "   ---------------------------- ----------- 31.7/44.1 MB 1.3 MB/s eta 0:00:10\n",
      "   ---------------------------- ----------- 31.8/44.1 MB 1.2 MB/s eta 0:00:10\n",
      "   ---------------------------- ----------- 31.9/44.1 MB 1.3 MB/s eta 0:00:10\n",
      "   ---------------------------- ----------- 32.0/44.1 MB 1.2 MB/s eta 0:00:10\n",
      "   ----------------------------- ---------- 32.0/44.1 MB 1.2 MB/s eta 0:00:10\n",
      "   ----------------------------- ---------- 32.0/44.1 MB 1.2 MB/s eta 0:00:10\n",
      "   ----------------------------- ---------- 32.0/44.1 MB 1.2 MB/s eta 0:00:10\n",
      "   ----------------------------- ---------- 32.0/44.1 MB 1.2 MB/s eta 0:00:10\n",
      "   ----------------------------- ---------- 32.2/44.1 MB 1.2 MB/s eta 0:00:10\n",
      "   ----------------------------- ---------- 32.3/44.1 MB 1.2 MB/s eta 0:00:10\n",
      "   ----------------------------- ---------- 32.3/44.1 MB 1.2 MB/s eta 0:00:10\n",
      "   ----------------------------- ---------- 32.3/44.1 MB 1.2 MB/s eta 0:00:10\n",
      "   ----------------------------- ---------- 32.3/44.1 MB 1.2 MB/s eta 0:00:10\n",
      "   ----------------------------- ---------- 32.3/44.1 MB 1.2 MB/s eta 0:00:10\n",
      "   ----------------------------- ---------- 32.5/44.1 MB 1.2 MB/s eta 0:00:10\n",
      "   ----------------------------- ---------- 32.6/44.1 MB 1.2 MB/s eta 0:00:10\n",
      "   ----------------------------- ---------- 32.6/44.1 MB 1.2 MB/s eta 0:00:10\n",
      "   ----------------------------- ---------- 32.7/44.1 MB 1.2 MB/s eta 0:00:10\n",
      "   ----------------------------- ---------- 32.7/44.1 MB 1.2 MB/s eta 0:00:10\n",
      "   ----------------------------- ---------- 32.7/44.1 MB 1.2 MB/s eta 0:00:10\n",
      "   ----------------------------- ---------- 32.7/44.1 MB 1.2 MB/s eta 0:00:10\n",
      "   ----------------------------- ---------- 32.8/44.1 MB 1.2 MB/s eta 0:00:10\n",
      "   ----------------------------- ---------- 32.8/44.1 MB 1.2 MB/s eta 0:00:10\n",
      "   ----------------------------- ---------- 32.9/44.1 MB 1.2 MB/s eta 0:00:10\n",
      "   ----------------------------- ---------- 32.9/44.1 MB 1.2 MB/s eta 0:00:10\n",
      "   ----------------------------- ---------- 32.9/44.1 MB 1.2 MB/s eta 0:00:10\n",
      "   ----------------------------- ---------- 32.9/44.1 MB 1.2 MB/s eta 0:00:10\n",
      "   ----------------------------- ---------- 32.9/44.1 MB 1.2 MB/s eta 0:00:10\n",
      "   ----------------------------- ---------- 33.0/44.1 MB 1.2 MB/s eta 0:00:10\n",
      "   ----------------------------- ---------- 33.0/44.1 MB 1.2 MB/s eta 0:00:10\n",
      "   ------------------------------ --------- 33.1/44.1 MB 1.2 MB/s eta 0:00:10\n",
      "   ------------------------------ --------- 33.1/44.1 MB 1.2 MB/s eta 0:00:10\n",
      "   ------------------------------ --------- 33.1/44.1 MB 1.2 MB/s eta 0:00:10\n",
      "   ------------------------------ --------- 33.1/44.1 MB 1.2 MB/s eta 0:00:10\n",
      "   ------------------------------ --------- 33.2/44.1 MB 1.2 MB/s eta 0:00:10\n",
      "   ------------------------------ --------- 33.2/44.1 MB 1.2 MB/s eta 0:00:10\n",
      "   ------------------------------ --------- 33.2/44.1 MB 1.2 MB/s eta 0:00:10\n",
      "   ------------------------------ --------- 33.2/44.1 MB 1.2 MB/s eta 0:00:10\n",
      "   ------------------------------ --------- 33.2/44.1 MB 1.2 MB/s eta 0:00:10\n",
      "   ------------------------------ --------- 33.2/44.1 MB 1.2 MB/s eta 0:00:10\n",
      "   ------------------------------ --------- 33.2/44.1 MB 1.2 MB/s eta 0:00:10\n",
      "   ------------------------------ --------- 33.4/44.1 MB 1.2 MB/s eta 0:00:10\n",
      "   ------------------------------ --------- 33.4/44.1 MB 1.2 MB/s eta 0:00:10\n",
      "   ------------------------------ --------- 33.7/44.1 MB 1.2 MB/s eta 0:00:09\n",
      "   ------------------------------ --------- 33.8/44.1 MB 1.2 MB/s eta 0:00:09\n",
      "   ------------------------------ --------- 33.8/44.1 MB 1.2 MB/s eta 0:00:09\n",
      "   ------------------------------ --------- 33.8/44.1 MB 1.2 MB/s eta 0:00:09\n",
      "   ------------------------------ --------- 33.9/44.1 MB 1.2 MB/s eta 0:00:09\n",
      "   ------------------------------ --------- 33.9/44.1 MB 1.2 MB/s eta 0:00:09\n",
      "   ------------------------------ --------- 34.0/44.1 MB 1.2 MB/s eta 0:00:09\n",
      "   ------------------------------ --------- 34.0/44.1 MB 1.2 MB/s eta 0:00:09\n",
      "   ------------------------------ --------- 34.1/44.1 MB 1.2 MB/s eta 0:00:09\n",
      "   ------------------------------ --------- 34.1/44.1 MB 1.2 MB/s eta 0:00:09\n",
      "   ------------------------------ --------- 34.2/44.1 MB 1.2 MB/s eta 0:00:09\n",
      "   ------------------------------- -------- 34.2/44.1 MB 1.2 MB/s eta 0:00:09\n",
      "   ------------------------------- -------- 34.2/44.1 MB 1.2 MB/s eta 0:00:09\n",
      "   ------------------------------- -------- 34.3/44.1 MB 1.1 MB/s eta 0:00:09\n",
      "   ------------------------------- -------- 34.3/44.1 MB 1.1 MB/s eta 0:00:09\n",
      "   ------------------------------- -------- 34.3/44.1 MB 1.1 MB/s eta 0:00:09\n",
      "   ------------------------------- -------- 34.4/44.1 MB 1.1 MB/s eta 0:00:09\n",
      "   ------------------------------- -------- 34.4/44.1 MB 1.1 MB/s eta 0:00:09\n",
      "   ------------------------------- -------- 34.4/44.1 MB 1.1 MB/s eta 0:00:09\n",
      "   ------------------------------- -------- 34.5/44.1 MB 1.1 MB/s eta 0:00:09\n",
      "   ------------------------------- -------- 34.5/44.1 MB 1.1 MB/s eta 0:00:09\n",
      "   ------------------------------- -------- 34.5/44.1 MB 1.1 MB/s eta 0:00:09\n",
      "   ------------------------------- -------- 34.6/44.1 MB 1.1 MB/s eta 0:00:09\n",
      "   ------------------------------- -------- 34.7/44.1 MB 1.1 MB/s eta 0:00:09\n",
      "   ------------------------------- -------- 34.7/44.1 MB 1.1 MB/s eta 0:00:09\n",
      "   ------------------------------- -------- 34.7/44.1 MB 1.1 MB/s eta 0:00:09\n",
      "   ------------------------------- -------- 34.8/44.1 MB 1.1 MB/s eta 0:00:09\n",
      "   ------------------------------- -------- 34.8/44.1 MB 1.1 MB/s eta 0:00:09\n",
      "   ------------------------------- -------- 34.9/44.1 MB 1.1 MB/s eta 0:00:09\n",
      "   ------------------------------- -------- 34.9/44.1 MB 1.1 MB/s eta 0:00:09\n",
      "   ------------------------------- -------- 34.9/44.1 MB 1.1 MB/s eta 0:00:09\n",
      "   ------------------------------- -------- 35.0/44.1 MB 1.1 MB/s eta 0:00:09\n",
      "   ------------------------------- -------- 35.0/44.1 MB 1.1 MB/s eta 0:00:09\n",
      "   ------------------------------- -------- 35.0/44.1 MB 1.1 MB/s eta 0:00:09\n",
      "   ------------------------------- -------- 35.1/44.1 MB 1.1 MB/s eta 0:00:09\n",
      "   ------------------------------- -------- 35.1/44.1 MB 1.1 MB/s eta 0:00:09\n",
      "   ------------------------------- -------- 35.2/44.1 MB 1.1 MB/s eta 0:00:09\n",
      "   ------------------------------- -------- 35.2/44.1 MB 1.1 MB/s eta 0:00:09\n",
      "   ------------------------------- -------- 35.3/44.1 MB 1.1 MB/s eta 0:00:09\n",
      "   -------------------------------- ------- 35.3/44.1 MB 1.1 MB/s eta 0:00:09\n",
      "   -------------------------------- ------- 35.3/44.1 MB 1.1 MB/s eta 0:00:09\n",
      "   -------------------------------- ------- 35.4/44.1 MB 1.1 MB/s eta 0:00:09\n",
      "   -------------------------------- ------- 35.4/44.1 MB 1.1 MB/s eta 0:00:09\n",
      "   -------------------------------- ------- 35.5/44.1 MB 1.1 MB/s eta 0:00:09\n",
      "   -------------------------------- ------- 35.5/44.1 MB 1.1 MB/s eta 0:00:09\n",
      "   -------------------------------- ------- 35.5/44.1 MB 1.1 MB/s eta 0:00:09\n",
      "   -------------------------------- ------- 35.6/44.1 MB 1.1 MB/s eta 0:00:08\n",
      "   -------------------------------- ------- 35.6/44.1 MB 1.1 MB/s eta 0:00:08\n",
      "   -------------------------------- ------- 35.6/44.1 MB 1.1 MB/s eta 0:00:08\n",
      "   -------------------------------- ------- 35.6/44.1 MB 1.1 MB/s eta 0:00:08\n",
      "   -------------------------------- ------- 35.8/44.1 MB 1.1 MB/s eta 0:00:08\n",
      "   -------------------------------- ------- 35.8/44.1 MB 1.1 MB/s eta 0:00:08\n",
      "   -------------------------------- ------- 35.8/44.1 MB 1.1 MB/s eta 0:00:08\n",
      "   -------------------------------- ------- 35.9/44.1 MB 1.1 MB/s eta 0:00:08\n",
      "   -------------------------------- ------- 36.0/44.1 MB 1.1 MB/s eta 0:00:08\n",
      "   -------------------------------- ------- 36.0/44.1 MB 1.1 MB/s eta 0:00:08\n",
      "   -------------------------------- ------- 36.1/44.1 MB 1.1 MB/s eta 0:00:08\n",
      "   -------------------------------- ------- 36.1/44.1 MB 1.1 MB/s eta 0:00:08\n",
      "   -------------------------------- ------- 36.2/44.1 MB 1.1 MB/s eta 0:00:08\n",
      "   -------------------------------- ------- 36.2/44.1 MB 1.1 MB/s eta 0:00:08\n",
      "   -------------------------------- ------- 36.2/44.1 MB 1.1 MB/s eta 0:00:08\n",
      "   -------------------------------- ------- 36.3/44.1 MB 1.1 MB/s eta 0:00:08\n",
      "   -------------------------------- ------- 36.3/44.1 MB 1.1 MB/s eta 0:00:08\n",
      "   -------------------------------- ------- 36.4/44.1 MB 1.1 MB/s eta 0:00:08\n",
      "   --------------------------------- ------ 36.4/44.1 MB 1.1 MB/s eta 0:00:08\n",
      "   --------------------------------- ------ 36.5/44.1 MB 1.1 MB/s eta 0:00:08\n",
      "   --------------------------------- ------ 36.5/44.1 MB 1.1 MB/s eta 0:00:08\n",
      "   --------------------------------- ------ 36.5/44.1 MB 1.1 MB/s eta 0:00:08\n",
      "   --------------------------------- ------ 36.6/44.1 MB 1.1 MB/s eta 0:00:08\n",
      "   --------------------------------- ------ 36.6/44.1 MB 1.1 MB/s eta 0:00:08\n",
      "   --------------------------------- ------ 36.7/44.1 MB 1.1 MB/s eta 0:00:08\n",
      "   --------------------------------- ------ 36.7/44.1 MB 1.1 MB/s eta 0:00:07\n",
      "   --------------------------------- ------ 36.8/44.1 MB 1.1 MB/s eta 0:00:07\n",
      "   --------------------------------- ------ 36.8/44.1 MB 1.1 MB/s eta 0:00:07\n",
      "   --------------------------------- ------ 36.8/44.1 MB 1.1 MB/s eta 0:00:07\n",
      "   --------------------------------- ------ 36.9/44.1 MB 1.1 MB/s eta 0:00:07\n",
      "   --------------------------------- ------ 37.0/44.1 MB 1.1 MB/s eta 0:00:07\n",
      "   --------------------------------- ------ 37.0/44.1 MB 1.1 MB/s eta 0:00:07\n",
      "   --------------------------------- ------ 37.1/44.1 MB 1.1 MB/s eta 0:00:07\n",
      "   --------------------------------- ------ 37.1/44.1 MB 1.1 MB/s eta 0:00:07\n",
      "   --------------------------------- ------ 37.2/44.1 MB 1.0 MB/s eta 0:00:07\n",
      "   --------------------------------- ------ 37.2/44.1 MB 1.0 MB/s eta 0:00:07\n",
      "   --------------------------------- ------ 37.2/44.1 MB 1.0 MB/s eta 0:00:07\n",
      "   --------------------------------- ------ 37.3/44.1 MB 1.0 MB/s eta 0:00:07\n",
      "   --------------------------------- ------ 37.3/44.1 MB 1.0 MB/s eta 0:00:07\n",
      "   --------------------------------- ------ 37.4/44.1 MB 1.0 MB/s eta 0:00:07\n",
      "   --------------------------------- ------ 37.4/44.1 MB 1.0 MB/s eta 0:00:07\n",
      "   --------------------------------- ------ 37.4/44.1 MB 1.0 MB/s eta 0:00:07\n",
      "   ---------------------------------- ----- 37.5/44.1 MB 1.0 MB/s eta 0:00:07\n",
      "   ---------------------------------- ----- 37.6/44.1 MB 1.0 MB/s eta 0:00:07\n",
      "   ---------------------------------- ----- 37.6/44.1 MB 1.0 MB/s eta 0:00:07\n",
      "   ---------------------------------- ----- 37.6/44.1 MB 1.0 MB/s eta 0:00:07\n",
      "   ---------------------------------- ----- 37.7/44.1 MB 1.0 MB/s eta 0:00:07\n",
      "   ---------------------------------- ----- 37.7/44.1 MB 1.0 MB/s eta 0:00:07\n",
      "   ---------------------------------- ----- 37.8/44.1 MB 1.0 MB/s eta 0:00:07\n",
      "   ---------------------------------- ----- 37.8/44.1 MB 1.0 MB/s eta 0:00:07\n",
      "   ---------------------------------- ----- 37.9/44.1 MB 1.0 MB/s eta 0:00:06\n",
      "   ---------------------------------- ----- 37.9/44.1 MB 1.0 MB/s eta 0:00:06\n",
      "   ---------------------------------- ----- 37.9/44.1 MB 1.0 MB/s eta 0:00:06\n",
      "   ---------------------------------- ----- 38.0/44.1 MB 1.0 MB/s eta 0:00:06\n",
      "   ---------------------------------- ----- 38.0/44.1 MB 1.0 MB/s eta 0:00:06\n",
      "   ---------------------------------- ----- 38.1/44.1 MB 1.0 MB/s eta 0:00:06\n",
      "   ---------------------------------- ----- 38.1/44.1 MB 1.0 MB/s eta 0:00:06\n",
      "   ---------------------------------- ----- 38.1/44.1 MB 1.0 MB/s eta 0:00:06\n",
      "   ---------------------------------- ----- 38.2/44.1 MB 1.0 MB/s eta 0:00:06\n",
      "   ---------------------------------- ----- 38.3/44.1 MB 1.0 MB/s eta 0:00:06\n",
      "   ---------------------------------- ----- 38.3/44.1 MB 1.0 MB/s eta 0:00:06\n",
      "   ---------------------------------- ----- 38.3/44.1 MB 1.0 MB/s eta 0:00:06\n",
      "   ---------------------------------- ----- 38.4/44.1 MB 1.0 MB/s eta 0:00:06\n",
      "   ---------------------------------- ----- 38.5/44.1 MB 1.0 MB/s eta 0:00:06\n",
      "   ---------------------------------- ----- 38.5/44.1 MB 1.0 MB/s eta 0:00:06\n",
      "   ---------------------------------- ----- 38.6/44.1 MB 1.0 MB/s eta 0:00:06\n",
      "   ----------------------------------- ---- 38.6/44.1 MB 1.0 MB/s eta 0:00:06\n",
      "   ----------------------------------- ---- 38.6/44.1 MB 1.0 MB/s eta 0:00:06\n",
      "   ----------------------------------- ---- 38.6/44.1 MB 1.0 MB/s eta 0:00:06\n",
      "   ----------------------------------- ---- 38.7/44.1 MB 1.0 MB/s eta 0:00:06\n",
      "   ----------------------------------- ---- 38.7/44.1 MB 1.0 MB/s eta 0:00:06\n",
      "   ----------------------------------- ---- 38.7/44.1 MB 999.6 kB/s eta 0:00:06\n",
      "   ----------------------------------- ---- 38.8/44.1 MB 996.5 kB/s eta 0:00:06\n",
      "   ----------------------------------- ---- 38.8/44.1 MB 994.9 kB/s eta 0:00:06\n",
      "   ----------------------------------- ---- 38.9/44.1 MB 994.9 kB/s eta 0:00:06\n",
      "   ----------------------------------- ---- 38.9/44.1 MB 993.6 kB/s eta 0:00:06\n",
      "   ----------------------------------- ---- 38.9/44.1 MB 992.0 kB/s eta 0:00:06\n",
      "   ----------------------------------- ---- 39.0/44.1 MB 990.4 kB/s eta 0:00:06\n",
      "   ----------------------------------- ---- 39.0/44.1 MB 990.5 kB/s eta 0:00:06\n",
      "   ----------------------------------- ---- 39.1/44.1 MB 987.5 kB/s eta 0:00:06\n",
      "   ----------------------------------- ---- 39.1/44.1 MB 986.0 kB/s eta 0:00:06\n",
      "   ----------------------------------- ---- 39.1/44.1 MB 986.0 kB/s eta 0:00:06\n",
      "   ----------------------------------- ---- 39.2/44.1 MB 983.1 kB/s eta 0:00:06\n",
      "   ----------------------------------- ---- 39.2/44.1 MB 978.6 kB/s eta 0:00:05\n",
      "   ----------------------------------- ---- 39.2/44.1 MB 977.2 kB/s eta 0:00:05\n",
      "   ----------------------------------- ---- 39.3/44.1 MB 975.7 kB/s eta 0:00:05\n",
      "   ----------------------------------- ---- 39.3/44.1 MB 971.4 kB/s eta 0:00:05\n",
      "   ----------------------------------- ---- 39.3/44.1 MB 969.9 kB/s eta 0:00:05\n",
      "   ----------------------------------- ---- 39.4/44.1 MB 965.6 kB/s eta 0:00:05\n",
      "   ----------------------------------- ---- 39.4/44.1 MB 964.3 kB/s eta 0:00:05\n",
      "   ----------------------------------- ---- 39.4/44.1 MB 964.3 kB/s eta 0:00:05\n",
      "   ----------------------------------- ---- 39.4/44.1 MB 962.8 kB/s eta 0:00:05\n",
      "   ----------------------------------- ---- 39.5/44.1 MB 959.9 kB/s eta 0:00:05\n",
      "   ----------------------------------- ---- 39.5/44.1 MB 957.1 kB/s eta 0:00:05\n",
      "   ----------------------------------- ---- 39.5/44.1 MB 957.2 kB/s eta 0:00:05\n",
      "   ----------------------------------- ---- 39.6/44.1 MB 955.8 kB/s eta 0:00:05\n",
      "   ----------------------------------- ---- 39.6/44.1 MB 952.9 kB/s eta 0:00:05\n",
      "   ----------------------------------- ---- 39.6/44.1 MB 953.0 kB/s eta 0:00:05\n",
      "   ------------------------------------ --- 39.7/44.1 MB 948.8 kB/s eta 0:00:05\n",
      "   ------------------------------------ --- 39.8/44.1 MB 950.3 kB/s eta 0:00:05\n",
      "   ------------------------------------ --- 39.8/44.1 MB 947.5 kB/s eta 0:00:05\n",
      "   ------------------------------------ --- 39.8/44.1 MB 944.8 kB/s eta 0:00:05\n",
      "   ------------------------------------ --- 39.8/44.1 MB 943.4 kB/s eta 0:00:05\n",
      "   ------------------------------------ --- 39.9/44.1 MB 943.4 kB/s eta 0:00:05\n",
      "   ------------------------------------ --- 39.9/44.1 MB 940.7 kB/s eta 0:00:05\n",
      "   ------------------------------------ --- 39.9/44.1 MB 939.3 kB/s eta 0:00:05\n",
      "   ------------------------------------ --- 40.0/44.1 MB 940.7 kB/s eta 0:00:05\n",
      "   ------------------------------------ --- 40.0/44.1 MB 935.3 kB/s eta 0:00:05\n",
      "   ------------------------------------ --- 40.0/44.1 MB 932.6 kB/s eta 0:00:05\n",
      "   ------------------------------------ --- 40.0/44.1 MB 932.6 kB/s eta 0:00:05\n",
      "   ------------------------------------ --- 40.1/44.1 MB 924.8 kB/s eta 0:00:05\n",
      "   ------------------------------------ --- 40.1/44.1 MB 923.4 kB/s eta 0:00:05\n",
      "   ------------------------------------ --- 40.1/44.1 MB 920.8 kB/s eta 0:00:05\n",
      "   ------------------------------------ --- 40.1/44.1 MB 919.5 kB/s eta 0:00:05\n",
      "   ------------------------------------ --- 40.2/44.1 MB 916.9 kB/s eta 0:00:05\n",
      "   ------------------------------------ --- 40.2/44.1 MB 914.4 kB/s eta 0:00:05\n",
      "   ------------------------------------ --- 40.2/44.1 MB 913.1 kB/s eta 0:00:05\n",
      "   ------------------------------------ --- 40.2/44.1 MB 910.6 kB/s eta 0:00:05\n",
      "   ------------------------------------ --- 40.3/44.1 MB 911.8 kB/s eta 0:00:05\n",
      "   ------------------------------------ --- 40.3/44.1 MB 906.8 kB/s eta 0:00:05\n",
      "   ------------------------------------ --- 40.3/44.1 MB 903.0 kB/s eta 0:00:05\n",
      "   ------------------------------------ --- 40.4/44.1 MB 908.0 kB/s eta 0:00:05\n",
      "   ------------------------------------ --- 40.4/44.1 MB 908.0 kB/s eta 0:00:05\n",
      "   ------------------------------------ --- 40.4/44.1 MB 909.3 kB/s eta 0:00:05\n",
      "   ------------------------------------ --- 40.5/44.1 MB 909.3 kB/s eta 0:00:04\n",
      "   ------------------------------------ --- 40.5/44.1 MB 909.3 kB/s eta 0:00:04\n",
      "   ------------------------------------ --- 40.6/44.1 MB 913.1 kB/s eta 0:00:04\n",
      "   ------------------------------------ --- 40.6/44.1 MB 909.3 kB/s eta 0:00:04\n",
      "   ------------------------------------ --- 40.6/44.1 MB 908.0 kB/s eta 0:00:04\n",
      "   ------------------------------------ --- 40.7/44.1 MB 906.8 kB/s eta 0:00:04\n",
      "   ------------------------------------ --- 40.7/44.1 MB 908.0 kB/s eta 0:00:04\n",
      "   ------------------------------------ --- 40.7/44.1 MB 904.2 kB/s eta 0:00:04\n",
      "   ------------------------------------ --- 40.8/44.1 MB 914.4 kB/s eta 0:00:04\n",
      "   ------------------------------------- -- 40.8/44.1 MB 911.8 kB/s eta 0:00:04\n",
      "   ------------------------------------- -- 40.8/44.1 MB 908.0 kB/s eta 0:00:04\n",
      "   ------------------------------------- -- 40.9/44.1 MB 904.3 kB/s eta 0:00:04\n",
      "   ------------------------------------- -- 40.9/44.1 MB 901.8 kB/s eta 0:00:04\n",
      "   ------------------------------------- -- 40.9/44.1 MB 898.1 kB/s eta 0:00:04\n",
      "   ------------------------------------- -- 41.0/44.1 MB 894.4 kB/s eta 0:00:04\n",
      "   ------------------------------------- -- 41.0/44.1 MB 893.2 kB/s eta 0:00:04\n",
      "   ------------------------------------- -- 41.0/44.1 MB 890.8 kB/s eta 0:00:04\n",
      "   ------------------------------------- -- 41.0/44.1 MB 888.3 kB/s eta 0:00:04\n",
      "   ------------------------------------- -- 41.1/44.1 MB 888.3 kB/s eta 0:00:04\n",
      "   ------------------------------------- -- 41.1/44.1 MB 885.9 kB/s eta 0:00:04\n",
      "   ------------------------------------- -- 41.1/44.1 MB 884.7 kB/s eta 0:00:04\n",
      "   ------------------------------------- -- 41.1/44.1 MB 890.8 kB/s eta 0:00:04\n",
      "   ------------------------------------- -- 41.2/44.1 MB 887.2 kB/s eta 0:00:04\n",
      "   ------------------------------------- -- 41.2/44.1 MB 884.8 kB/s eta 0:00:04\n",
      "   ------------------------------------- -- 41.2/44.1 MB 882.4 kB/s eta 0:00:04\n",
      "   ------------------------------------- -- 41.2/44.1 MB 877.6 kB/s eta 0:00:04\n",
      "   ------------------------------------- -- 41.2/44.1 MB 876.4 kB/s eta 0:00:04\n",
      "   ------------------------------------- -- 41.3/44.1 MB 871.7 kB/s eta 0:00:04\n",
      "   ------------------------------------- -- 41.3/44.1 MB 868.3 kB/s eta 0:00:04\n",
      "   ------------------------------------- -- 41.3/44.1 MB 863.7 kB/s eta 0:00:04\n",
      "   ------------------------------------- -- 41.3/44.1 MB 861.5 kB/s eta 0:00:04\n",
      "   ------------------------------------- -- 41.4/44.1 MB 859.2 kB/s eta 0:00:04\n",
      "   ------------------------------------- -- 41.4/44.1 MB 860.3 kB/s eta 0:00:04\n",
      "   ------------------------------------- -- 41.5/44.1 MB 860.3 kB/s eta 0:00:04\n",
      "   ------------------------------------- -- 41.5/44.1 MB 859.2 kB/s eta 0:00:04\n",
      "   ------------------------------------- -- 41.5/44.1 MB 866.0 kB/s eta 0:00:03\n",
      "   ------------------------------------- -- 41.6/44.1 MB 862.5 kB/s eta 0:00:03\n",
      "   ------------------------------------- -- 41.6/44.1 MB 859.2 kB/s eta 0:00:03\n",
      "   ------------------------------------- -- 41.6/44.1 MB 855.8 kB/s eta 0:00:03\n",
      "   ------------------------------------- -- 41.6/44.1 MB 854.7 kB/s eta 0:00:03\n",
      "   ------------------------------------- -- 41.6/44.1 MB 852.5 kB/s eta 0:00:03\n",
      "   ------------------------------------- -- 41.6/44.1 MB 848.1 kB/s eta 0:00:03\n",
      "   ------------------------------------- -- 41.7/44.1 MB 844.8 kB/s eta 0:00:03\n",
      "   ------------------------------------- -- 41.7/44.1 MB 840.4 kB/s eta 0:00:03\n",
      "   ------------------------------------- -- 41.7/44.1 MB 838.3 kB/s eta 0:00:03\n",
      "   ------------------------------------- -- 41.7/44.1 MB 835.1 kB/s eta 0:00:03\n",
      "   ------------------------------------- -- 41.7/44.1 MB 832.9 kB/s eta 0:00:03\n",
      "   ------------------------------------- -- 41.8/44.1 MB 830.9 kB/s eta 0:00:03\n",
      "   ------------------------------------- -- 41.8/44.1 MB 829.8 kB/s eta 0:00:03\n",
      "   ------------------------------------- -- 41.9/44.1 MB 827.7 kB/s eta 0:00:03\n",
      "   ------------------------------------- -- 41.9/44.1 MB 827.7 kB/s eta 0:00:03\n",
      "   -------------------------------------- - 41.9/44.1 MB 825.6 kB/s eta 0:00:03\n",
      "   -------------------------------------- - 41.9/44.1 MB 831.9 kB/s eta 0:00:03\n",
      "   -------------------------------------- - 41.9/44.1 MB 829.8 kB/s eta 0:00:03\n",
      "   -------------------------------------- - 42.0/44.1 MB 824.6 kB/s eta 0:00:03\n",
      "   -------------------------------------- - 42.0/44.1 MB 822.5 kB/s eta 0:00:03\n",
      "   -------------------------------------- - 42.0/44.1 MB 820.5 kB/s eta 0:00:03\n",
      "   -------------------------------------- - 42.0/44.1 MB 816.4 kB/s eta 0:00:03\n",
      "   -------------------------------------- - 42.1/44.1 MB 815.3 kB/s eta 0:00:03\n",
      "   -------------------------------------- - 42.1/44.1 MB 811.2 kB/s eta 0:00:03\n",
      "   -------------------------------------- - 42.1/44.1 MB 810.3 kB/s eta 0:00:03\n",
      "   -------------------------------------- - 42.1/44.1 MB 809.3 kB/s eta 0:00:03\n",
      "   -------------------------------------- - 42.2/44.1 MB 807.3 kB/s eta 0:00:03\n",
      "   -------------------------------------- - 42.2/44.1 MB 806.3 kB/s eta 0:00:03\n",
      "   -------------------------------------- - 42.3/44.1 MB 814.3 kB/s eta 0:00:03\n",
      "   -------------------------------------- - 42.3/44.1 MB 812.3 kB/s eta 0:00:03\n",
      "   -------------------------------------- - 42.3/44.1 MB 810.3 kB/s eta 0:00:03\n",
      "   -------------------------------------- - 42.4/44.1 MB 808.3 kB/s eta 0:00:03\n",
      "   -------------------------------------- - 42.4/44.1 MB 805.3 kB/s eta 0:00:03\n",
      "   -------------------------------------- - 42.4/44.1 MB 801.3 kB/s eta 0:00:03\n",
      "   -------------------------------------- - 42.4/44.1 MB 798.4 kB/s eta 0:00:03\n",
      "   -------------------------------------- - 42.5/44.1 MB 796.5 kB/s eta 0:00:03\n",
      "   -------------------------------------- - 42.5/44.1 MB 795.5 kB/s eta 0:00:03\n",
      "   -------------------------------------- - 42.5/44.1 MB 793.6 kB/s eta 0:00:03\n",
      "   -------------------------------------- - 42.5/44.1 MB 791.7 kB/s eta 0:00:03\n",
      "   -------------------------------------- - 42.5/44.1 MB 791.7 kB/s eta 0:00:02\n",
      "   -------------------------------------- - 42.6/44.1 MB 788.8 kB/s eta 0:00:02\n",
      "   -------------------------------------- - 42.6/44.1 MB 788.8 kB/s eta 0:00:02\n",
      "   -------------------------------------- - 42.6/44.1 MB 788.8 kB/s eta 0:00:02\n",
      "   -------------------------------------- - 42.6/44.1 MB 782.2 kB/s eta 0:00:02\n",
      "   -------------------------------------- - 42.6/44.1 MB 782.2 kB/s eta 0:00:02\n",
      "   -------------------------------------- - 42.6/44.1 MB 785.0 kB/s eta 0:00:02\n",
      "   -------------------------------------- - 42.6/44.1 MB 782.2 kB/s eta 0:00:02\n",
      "   -------------------------------------- - 42.6/44.1 MB 779.4 kB/s eta 0:00:02\n",
      "   -------------------------------------- - 42.6/44.1 MB 775.7 kB/s eta 0:00:02\n",
      "   -------------------------------------- - 42.6/44.1 MB 775.7 kB/s eta 0:00:02\n",
      "   -------------------------------------- - 42.7/44.1 MB 770.3 kB/s eta 0:00:02\n",
      "   -------------------------------------- - 42.7/44.1 MB 768.4 kB/s eta 0:00:02\n",
      "   -------------------------------------- - 42.7/44.1 MB 766.6 kB/s eta 0:00:02\n",
      "   -------------------------------------- - 42.8/44.1 MB 764.0 kB/s eta 0:00:02\n",
      "   -------------------------------------- - 42.8/44.1 MB 763.9 kB/s eta 0:00:02\n",
      "   -------------------------------------- - 42.8/44.1 MB 761.3 kB/s eta 0:00:02\n",
      "   -------------------------------------- - 42.8/44.1 MB 760.4 kB/s eta 0:00:02\n",
      "   -------------------------------------- - 42.8/44.1 MB 756.9 kB/s eta 0:00:02\n",
      "   -------------------------------------- - 42.8/44.1 MB 756.9 kB/s eta 0:00:02\n",
      "   -------------------------------------- - 42.9/44.1 MB 753.4 kB/s eta 0:00:02\n",
      "   -------------------------------------- - 42.9/44.1 MB 750.8 kB/s eta 0:00:02\n",
      "   -------------------------------------- - 42.9/44.1 MB 750.8 kB/s eta 0:00:02\n",
      "   -------------------------------------- - 42.9/44.1 MB 748.2 kB/s eta 0:00:02\n",
      "   -------------------------------------- - 42.9/44.1 MB 745.7 kB/s eta 0:00:02\n",
      "   -------------------------------------- - 42.9/44.1 MB 751.7 kB/s eta 0:00:02\n",
      "   -------------------------------------- - 42.9/44.1 MB 749.9 kB/s eta 0:00:02\n",
      "   -------------------------------------- - 43.0/44.1 MB 745.7 kB/s eta 0:00:02\n",
      "   ---------------------------------------  43.0/44.1 MB 744.0 kB/s eta 0:00:02\n",
      "   ---------------------------------------  43.0/44.1 MB 744.0 kB/s eta 0:00:02\n",
      "   ---------------------------------------  43.0/44.1 MB 742.3 kB/s eta 0:00:02\n",
      "   ---------------------------------------  43.1/44.1 MB 742.3 kB/s eta 0:00:02\n",
      "   ---------------------------------------  43.1/44.1 MB 742.3 kB/s eta 0:00:02\n",
      "   ---------------------------------------  43.1/44.1 MB 739.8 kB/s eta 0:00:02\n",
      "   ---------------------------------------  43.2/44.1 MB 746.5 kB/s eta 0:00:02\n",
      "   ---------------------------------------  43.2/44.1 MB 743.1 kB/s eta 0:00:02\n",
      "   ---------------------------------------  43.2/44.1 MB 741.4 kB/s eta 0:00:02\n",
      "   ---------------------------------------  43.2/44.1 MB 738.9 kB/s eta 0:00:02\n",
      "   ---------------------------------------  43.3/44.1 MB 739.0 kB/s eta 0:00:02\n",
      "   ---------------------------------------  43.3/44.1 MB 738.1 kB/s eta 0:00:02\n",
      "   ---------------------------------------  43.3/44.1 MB 736.4 kB/s eta 0:00:02\n",
      "   ---------------------------------------  43.3/44.1 MB 735.6 kB/s eta 0:00:02\n",
      "   ---------------------------------------  43.4/44.1 MB 733.9 kB/s eta 0:00:02\n",
      "   ---------------------------------------  43.4/44.1 MB 731.5 kB/s eta 0:00:01\n",
      "   ---------------------------------------  43.4/44.1 MB 744.0 kB/s eta 0:00:01\n",
      "   ---------------------------------------  43.4/44.1 MB 742.3 kB/s eta 0:00:01\n",
      "   ---------------------------------------  43.4/44.1 MB 741.4 kB/s eta 0:00:01\n",
      "   ---------------------------------------  43.5/44.1 MB 746.5 kB/s eta 0:00:01\n",
      "   ---------------------------------------  43.5/44.1 MB 744.0 kB/s eta 0:00:01\n",
      "   ---------------------------------------  43.5/44.1 MB 739.8 kB/s eta 0:00:01\n",
      "   ---------------------------------------  43.5/44.1 MB 737.3 kB/s eta 0:00:01\n",
      "   ---------------------------------------  43.6/44.1 MB 736.4 kB/s eta 0:00:01\n",
      "   ---------------------------------------  43.6/44.1 MB 733.2 kB/s eta 0:00:01\n",
      "   ---------------------------------------  43.6/44.1 MB 733.2 kB/s eta 0:00:01\n",
      "   ---------------------------------------  43.6/44.1 MB 732.3 kB/s eta 0:00:01\n",
      "   ---------------------------------------  43.6/44.1 MB 730.7 kB/s eta 0:00:01\n",
      "   ---------------------------------------  43.7/44.1 MB 728.3 kB/s eta 0:00:01\n",
      "   ---------------------------------------  43.7/44.1 MB 725.1 kB/s eta 0:00:01\n",
      "   ---------------------------------------  43.7/44.1 MB 723.5 kB/s eta 0:00:01\n",
      "   ---------------------------------------  43.7/44.1 MB 720.3 kB/s eta 0:00:01\n",
      "   ---------------------------------------  43.8/44.1 MB 717.9 kB/s eta 0:00:01\n",
      "   ---------------------------------------  43.8/44.1 MB 716.3 kB/s eta 0:00:01\n",
      "   ---------------------------------------  43.8/44.1 MB 714.0 kB/s eta 0:00:01\n",
      "   ---------------------------------------  43.8/44.1 MB 712.4 kB/s eta 0:00:01\n",
      "   ---------------------------------------  43.8/44.1 MB 709.4 kB/s eta 0:00:01\n",
      "   ---------------------------------------  43.8/44.1 MB 707.8 kB/s eta 0:00:01\n",
      "   ---------------------------------------  43.9/44.1 MB 704.8 kB/s eta 0:00:01\n",
      "   ---------------------------------------  43.9/44.1 MB 701.7 kB/s eta 0:00:01\n",
      "   ---------------------------------------  44.0/44.1 MB 703.2 kB/s eta 0:00:01\n",
      "   ---------------------------------------  44.0/44.1 MB 708.5 kB/s eta 0:00:01\n",
      "   ---------------------------------------  44.0/44.1 MB 706.2 kB/s eta 0:00:01\n",
      "   ---------------------------------------  44.1/44.1 MB 704.7 kB/s eta 0:00:01\n",
      "   ---------------------------------------  44.1/44.1 MB 703.2 kB/s eta 0:00:01\n",
      "   ---------------------------------------  44.1/44.1 MB 703.2 kB/s eta 0:00:01\n",
      "   ---------------------------------------  44.1/44.1 MB 703.2 kB/s eta 0:00:01\n",
      "   ---------------------------------------  44.1/44.1 MB 703.2 kB/s eta 0:00:01\n",
      "   ---------------------------------------  44.1/44.1 MB 703.2 kB/s eta 0:00:01\n",
      "   ---------------------------------------  44.1/44.1 MB 703.2 kB/s eta 0:00:01\n",
      "   ---------------------------------------  44.1/44.1 MB 703.2 kB/s eta 0:00:01\n",
      "   ---------------------------------------  44.1/44.1 MB 703.2 kB/s eta 0:00:01\n",
      "   ---------------------------------------  44.1/44.1 MB 703.2 kB/s eta 0:00:01\n",
      "   ---------------------------------------  44.1/44.1 MB 703.2 kB/s eta 0:00:01\n",
      "   ---------------------------------------  44.1/44.1 MB 703.2 kB/s eta 0:00:01\n",
      "   ---------------------------------------  44.1/44.1 MB 703.2 kB/s eta 0:00:01\n",
      "   ---------------------------------------  44.1/44.1 MB 703.2 kB/s eta 0:00:01\n",
      "   ---------------------------------------  44.1/44.1 MB 703.2 kB/s eta 0:00:01\n",
      "   ---------------------------------------  44.1/44.1 MB 703.2 kB/s eta 0:00:01\n",
      "   ---------------------------------------  44.1/44.1 MB 703.2 kB/s eta 0:00:01\n",
      "   ---------------------------------------  44.1/44.1 MB 703.2 kB/s eta 0:00:01\n",
      "   ---------------------------------------- 44.1/44.1 MB 665.5 kB/s eta 0:00:00\n",
      "Downloading threadpoolctl-3.2.0-py3-none-any.whl (15 kB)\n",
      "Installing collected packages: threadpoolctl, scipy, scikit-learn\n",
      "Successfully installed scikit-learn-1.3.2 scipy-1.11.4 threadpoolctl-3.2.0\n"
     ]
    }
   ],
   "source": [
    "!pip install scikit-learn"
   ]
  },
  {
   "cell_type": "code",
   "execution_count": 68,
   "id": "af774f1d-2f0a-440c-998b-22e745646fa7",
   "metadata": {},
   "outputs": [],
   "source": [
    "from sklearn.model_selection import train_test_split\n",
    "X_train, X_test, y_train, y_test = train_test_split(X, y, test_size=0.2)"
   ]
  },
  {
   "cell_type": "code",
   "execution_count": 69,
   "id": "cb8752f2-a3f1-4664-b508-abd0b7ac27ec",
   "metadata": {},
   "outputs": [
    {
     "data": {
      "text/plain": [
       "(6336,)"
      ]
     },
     "execution_count": 69,
     "metadata": {},
     "output_type": "execute_result"
    }
   ],
   "source": [
    "X_train.shape"
   ]
  },
  {
   "cell_type": "code",
   "execution_count": 71,
   "id": "cce54893-584e-4924-8c56-15dea77051c8",
   "metadata": {},
   "outputs": [
    {
     "data": {
      "text/plain": [
       "(1584,)"
      ]
     },
     "execution_count": 71,
     "metadata": {},
     "output_type": "execute_result"
    }
   ],
   "source": [
    "X_test.shape"
   ]
  },
  {
   "cell_type": "code",
   "execution_count": 72,
   "id": "31d86bc9-cbc7-4d53-b165-c8cc3adc17e6",
   "metadata": {},
   "outputs": [
    {
     "data": {
      "text/plain": [
       "4389    contact got delet fuck appl appl stepclosertog...\n",
       "2154               never softwar updat phone im feel left\n",
       "1515    idiot award bn appl patent doubl tap zoom boun...\n",
       "5628    photo new year samdaniel paper artist samsung ...\n",
       "2340    bday month loud start decemb newphon samsung g...\n",
       "                              ...                        \n",
       "1210    doodl cl ceenge doodl cl chemistri dead tree h...\n",
       "3228    appl io updatesy suck wipe data devic number a...\n",
       "3361    thank u michaelkor new baglit im happi michael...\n",
       "7383    timcook sinc appl isnt twitter id like say per...\n",
       "3008    timcook slap ceo blackberri audac campaign app...\n",
       "Name: tweet, Length: 1584, dtype: object"
      ]
     },
     "execution_count": 72,
     "metadata": {},
     "output_type": "execute_result"
    }
   ],
   "source": [
    "X_test"
   ]
  },
  {
   "cell_type": "code",
   "execution_count": 73,
   "id": "94bfb712-b8c7-4f6a-ae9e-70a6a15ca9fa",
   "metadata": {},
   "outputs": [],
   "source": [
    "## Vectorization"
   ]
  },
  {
   "cell_type": "code",
   "execution_count": 74,
   "id": "44473ab5-c164-4cc1-8823-425cfc14b743",
   "metadata": {},
   "outputs": [],
   "source": [
    "def vectorizer(ds, vocabulary):\n",
    "    vectorized_lst = []\n",
    "    \n",
    "    for sentence in ds:\n",
    "        sentence_lst = np.zeros(len(vocabulary))\n",
    "        \n",
    "        for i in range(len(vocabulary)):\n",
    "            if vocabulary[i] in sentence.split():\n",
    "                sentence_lst[i] = 1\n",
    "                \n",
    "        vectorized_lst.append(sentence_lst)\n",
    "        \n",
    "    vectorized_lst_new = np.asarray(vectorized_lst, dtype=np.float32)\n",
    "    \n",
    "    return vectorized_lst_new"
   ]
  },
  {
   "cell_type": "code",
   "execution_count": 75,
   "id": "c4f84e23-49a4-450e-87eb-f09963345db3",
   "metadata": {},
   "outputs": [],
   "source": [
    "vectorized_x_train = vectorizer(X_train, tokens)"
   ]
  },
  {
   "cell_type": "code",
   "execution_count": 76,
   "id": "bc981365-701b-4575-a67e-083644544bf0",
   "metadata": {},
   "outputs": [],
   "source": [
    "vectorized_x_test = vectorizer(X_test, tokens)"
   ]
  },
  {
   "cell_type": "code",
   "execution_count": 77,
   "id": "5cedef58-fa01-47bb-8569-7c4c79f4f94e",
   "metadata": {},
   "outputs": [
    {
     "data": {
      "text/plain": [
       "array([[0., 0., 0., ..., 0., 0., 0.],\n",
       "       [0., 0., 0., ..., 0., 0., 0.],\n",
       "       [0., 0., 0., ..., 0., 0., 0.],\n",
       "       ...,\n",
       "       [0., 0., 0., ..., 0., 0., 0.],\n",
       "       [0., 0., 0., ..., 0., 0., 0.],\n",
       "       [0., 0., 0., ..., 0., 0., 0.]], dtype=float32)"
      ]
     },
     "execution_count": 77,
     "metadata": {},
     "output_type": "execute_result"
    }
   ],
   "source": [
    "vectorized_x_train"
   ]
  },
  {
   "cell_type": "code",
   "execution_count": 78,
   "id": "fcce32ac-6548-462f-89f0-fe6a33cf985b",
   "metadata": {},
   "outputs": [
    {
     "data": {
      "text/plain": [
       "5561    0\n",
       "3492    1\n",
       "390     0\n",
       "7371    0\n",
       "4569    0\n",
       "       ..\n",
       "4072    1\n",
       "2218    0\n",
       "3385    0\n",
       "3828    0\n",
       "2273    0\n",
       "Name: label, Length: 6336, dtype: int64"
      ]
     },
     "execution_count": 78,
     "metadata": {},
     "output_type": "execute_result"
    }
   ],
   "source": [
    "y_train"
   ]
  },
  {
   "cell_type": "code",
   "execution_count": 79,
   "id": "d244ce38-0dda-4860-802e-af4873fa3caf",
   "metadata": {
    "scrolled": true
   },
   "outputs": [
    {
     "data": {
      "text/plain": [
       "label\n",
       "0    4717\n",
       "1    1619\n",
       "Name: count, dtype: int64"
      ]
     },
     "execution_count": 79,
     "metadata": {},
     "output_type": "execute_result"
    }
   ],
   "source": [
    "y_train.value_counts()"
   ]
  },
  {
   "cell_type": "code",
   "execution_count": 80,
   "id": "1dbfc21e-ef06-45ff-8b63-b8f2a4615649",
   "metadata": {},
   "outputs": [],
   "source": [
    "## this one is imbalance dataset"
   ]
  },
  {
   "cell_type": "code",
   "execution_count": 81,
   "id": "045c14cb-ea58-4323-a747-885327024238",
   "metadata": {},
   "outputs": [
    {
     "data": {
      "image/png": "[encoded data removed]",
      "text/plain": [
       "<Figure size 640x480 with 1 Axes>"
      ]
     },
     "metadata": {},
     "output_type": "display_data"
    }
   ],
   "source": [
    "plt.pie(np.array([y_train.value_counts()[0], y_train.value_counts()[1]]), labels=['Positive', 'Negative'])\n",
    "plt.show()"
   ]
  },
  {
   "cell_type": "code",
   "execution_count": 82,
   "id": "eb660a2e-3c01-49a0-b952-71b7abd84263",
   "metadata": {},
   "outputs": [],
   "source": [
    "## Handle imbalanced dataset"
   ]
  },
  {
   "cell_type": "code",
   "execution_count": 83,
   "id": "a31b7b5c-9b23-4f0b-8599-12226210ac4f",
   "metadata": {},
   "outputs": [
    {
     "name": "stdout",
     "output_type": "stream",
     "text": [
      "Collecting imbalanced-learn\n",
      "  Downloading imbalanced_learn-0.11.0-py3-none-any.whl.metadata (8.3 kB)\n",
      "Requirement already satisfied: numpy>=1.17.3 in c:\\users\\shan\\desktop\\sentiment_analysis_project\\env\\lib\\site-packages (from imbalanced-learn) (1.26.2)\n",
      "Requirement already satisfied: scipy>=1.5.0 in c:\\users\\shan\\desktop\\sentiment_analysis_project\\env\\lib\\site-packages (from imbalanced-learn) (1.11.4)\n",
      "Requirement already satisfied: scikit-learn>=1.0.2 in c:\\users\\shan\\desktop\\sentiment_analysis_project\\env\\lib\\site-packages (from imbalanced-learn) (1.3.2)\n",
      "Requirement already satisfied: joblib>=1.1.1 in c:\\users\\shan\\desktop\\sentiment_analysis_project\\env\\lib\\site-packages (from imbalanced-learn) (1.3.2)\n",
      "Requirement already satisfied: threadpoolctl>=2.0.0 in c:\\users\\shan\\desktop\\sentiment_analysis_project\\env\\lib\\site-packages (from imbalanced-learn) (3.2.0)\n",
      "Downloading imbalanced_learn-0.11.0-py3-none-any.whl (235 kB)\n",
      "   ---------------------------------------- 0.0/235.6 kB ? eta -:--:--\n",
      "   ------ -------------------------------- 41.0/235.6 kB 653.6 kB/s eta 0:00:01\n",
      "   --------------- ----------------------- 92.2/235.6 kB 871.5 kB/s eta 0:00:01\n",
      "   ----------------------- -------------- 143.4/235.6 kB 950.9 kB/s eta 0:00:01\n",
      "   -------------------------- ----------- 163.8/235.6 kB 893.0 kB/s eta 0:00:01\n",
      "   ---------------------------- --------- 174.1/235.6 kB 700.2 kB/s eta 0:00:01\n",
      "   -------------------------------------  235.5/235.6 kB 801.7 kB/s eta 0:00:01\n",
      "   -------------------------------------  235.5/235.6 kB 801.7 kB/s eta 0:00:01\n",
      "   -------------------------------------- 235.6/235.6 kB 627.9 kB/s eta 0:00:00\n",
      "Installing collected packages: imbalanced-learn\n",
      "Successfully installed imbalanced-learn-0.11.0\n"
     ]
    }
   ],
   "source": [
    "!pip install imbalanced-learn"
   ]
  },
  {
   "cell_type": "code",
   "execution_count": 84,
   "id": "7dbdbe49-21fe-4dec-9fb4-02bc22596cd5",
   "metadata": {},
   "outputs": [
    {
     "name": "stdout",
     "output_type": "stream",
     "text": [
      "(9434, 1145) (9434,)\n"
     ]
    }
   ],
   "source": [
    "from imblearn.over_sampling import SMOTE\n",
    "smote = SMOTE()\n",
    "vectorized_x_train_smote, y_train_smote = smote.fit_resample(vectorized_x_train, y_train)\n",
    "print(vectorized_x_train_smote.shape, y_train_smote.shape)"
   ]
  },
  {
   "cell_type": "code",
   "execution_count": 85,
   "id": "07297f64-e454-40ab-a9fd-3121fe1d1411",
   "metadata": {},
   "outputs": [
    {
     "data": {
      "text/plain": [
       "label\n",
       "0    4717\n",
       "1    4717\n",
       "Name: count, dtype: int64"
      ]
     },
     "execution_count": 85,
     "metadata": {},
     "output_type": "execute_result"
    }
   ],
   "source": [
    "y_train_smote.value_counts()"
   ]
  },
  {
   "cell_type": "code",
   "execution_count": 86,
   "id": "193d5bf7-2609-4269-8968-761bed2e4458",
   "metadata": {},
   "outputs": [
    {
     "data": {
      "image/png": "[encoded data removed]",
      "text/plain": [
       "<Figure size 640x480 with 1 Axes>"
      ]
     },
     "metadata": {},
     "output_type": "display_data"
    }
   ],
   "source": [
    "## balance\n",
    "plt.pie(np.array([y_train_smote.value_counts()[0], y_train_smote.value_counts()[1]]), labels=['Positive', 'Negative'])\n",
    "plt.show()"
   ]
  },
  {
   "cell_type": "code",
   "execution_count": 87,
   "id": "71854696-cd83-4985-aad8-0f1609b17209",
   "metadata": {},
   "outputs": [
    {
     "data": {
      "text/plain": [
       "array([[0., 0., 0., ..., 0., 0., 0.],\n",
       "       [0., 0., 0., ..., 0., 0., 0.],\n",
       "       [0., 0., 0., ..., 0., 0., 0.],\n",
       "       ...,\n",
       "       [0., 0., 0., ..., 0., 0., 0.],\n",
       "       [0., 0., 0., ..., 0., 0., 0.],\n",
       "       [0., 0., 0., ..., 0., 0., 0.]], dtype=float32)"
      ]
     },
     "execution_count": 87,
     "metadata": {},
     "output_type": "execute_result"
    }
   ],
   "source": [
    "vectorized_x_train_smote"
   ]
  },
  {
   "cell_type": "code",
   "execution_count": 88,
   "id": "4ba69589-b3fb-4550-8b50-4954c7933956",
   "metadata": {},
   "outputs": [
    {
     "data": {
      "text/plain": [
       "0       0\n",
       "1       1\n",
       "2       0\n",
       "3       0\n",
       "4       0\n",
       "       ..\n",
       "9429    1\n",
       "9430    1\n",
       "9431    1\n",
       "9432    1\n",
       "9433    1\n",
       "Name: label, Length: 9434, dtype: int64"
      ]
     },
     "execution_count": 88,
     "metadata": {},
     "output_type": "execute_result"
    }
   ],
   "source": [
    "y_train_smote"
   ]
  },
  {
   "cell_type": "code",
   "execution_count": 89,
   "id": "f2317b67-b7a0-46cc-ac58-8bb5fde63fc7",
   "metadata": {},
   "outputs": [
    {
     "data": {
      "text/plain": [
       "array([[0., 0., 0., ..., 0., 0., 0.],\n",
       "       [0., 0., 0., ..., 0., 0., 0.],\n",
       "       [0., 0., 0., ..., 0., 0., 0.],\n",
       "       ...,\n",
       "       [0., 0., 0., ..., 0., 0., 0.],\n",
       "       [0., 0., 0., ..., 0., 0., 0.],\n",
       "       [0., 0., 0., ..., 0., 0., 0.]], dtype=float32)"
      ]
     },
     "execution_count": 89,
     "metadata": {},
     "output_type": "execute_result"
    }
   ],
   "source": [
    "vectorized_x_test"
   ]
  },
  {
   "cell_type": "code",
   "execution_count": 90,
   "id": "d6fdb09a-b0c5-4a68-94b0-d0053c455b5c",
   "metadata": {},
   "outputs": [
    {
     "data": {
      "text/plain": [
       "4389    1\n",
       "2154    1\n",
       "1515    1\n",
       "5628    0\n",
       "2340    0\n",
       "       ..\n",
       "1210    0\n",
       "3228    1\n",
       "3361    0\n",
       "7383    1\n",
       "3008    1\n",
       "Name: label, Length: 1584, dtype: int64"
      ]
     },
     "execution_count": 90,
     "metadata": {},
     "output_type": "execute_result"
    }
   ],
   "source": [
    "y_test"
   ]
  },
  {
   "cell_type": "code",
   "execution_count": 91,
   "id": "8b76607d-78d2-4ae1-b962-65ea32981961",
   "metadata": {},
   "outputs": [],
   "source": [
    "## Model Training and Evaluation"
   ]
  },
  {
   "cell_type": "code",
   "execution_count": 92,
   "id": "b88a97c0-daea-4c60-b834-0f3af97e97ad",
   "metadata": {},
   "outputs": [],
   "source": [
    "from sklearn.linear_model import LogisticRegression\n",
    "from sklearn.naive_bayes import MultinomialNB\n",
    "from sklearn.tree import DecisionTreeClassifier\n",
    "from sklearn.ensemble import RandomForestClassifier\n",
    "from sklearn.svm import SVC"
   ]
  },
  {
   "cell_type": "code",
   "execution_count": 93,
   "id": "bbedd6e3-f49d-4224-b853-a0ef92c24116",
   "metadata": {},
   "outputs": [],
   "source": [
    "from sklearn.metrics import accuracy_score, f1_score, precision_score, recall_score\n",
    "\n",
    "def training_scores(y_act, y_pred):\n",
    "    acc = round(accuracy_score(y_act, y_pred), 3)\n",
    "    pr = round(precision_score(y_act, y_pred), 3)\n",
    "    rec = round(recall_score(y_act, y_pred), 3)\n",
    "    f1 = round(f1_score(y_act, y_pred), 3)\n",
    "    print(f'Training Scores:\\n\\tAccuracy = {acc}\\n\\tPrecision = {pr}\\n\\tRecall = {rec}\\n\\tF1-Score = {f1}')\n",
    "    \n",
    "def validation_scores(y_act, y_pred):\n",
    "    acc = round(accuracy_score(y_act, y_pred), 3)\n",
    "    pr = round(precision_score(y_act, y_pred), 3)\n",
    "    rec = round(recall_score(y_act, y_pred), 3)\n",
    "    f1 = round(f1_score(y_act, y_pred), 3)\n",
    "    print(f'Testing Scores:\\n\\tAccuracy = {acc}\\n\\tPrecision = {pr}\\n\\tRecall = {rec}\\n\\tF1-Score = {f1}')"
   ]
  },
  {
   "cell_type": "code",
   "execution_count": 94,
   "id": "3b4bfc50-65fc-42f7-add7-7a572b2511a4",
   "metadata": {},
   "outputs": [],
   "source": [
    "## Logistic Regression"
   ]
  },
  {
   "cell_type": "code",
   "execution_count": 95,
   "id": "c7f28872-9b3d-483c-88f4-39c1618254b6",
   "metadata": {},
   "outputs": [
    {
     "data": {
      "text/html": [
       "<style>#sk-container-id-1 {color: black;}#sk-container-id-1 pre{padding: 0;}#sk-container-id-1 div.sk-toggleable {background-color: white;}#sk-container-id-1 label.sk-toggleable__label {cursor: pointer;display: block;width: 100%;margin-bottom: 0;padding: 0.3em;box-sizing: border-box;text-align: center;}#sk-container-id-1 label.sk-toggleable__label-arrow:before {content: \"▸\";float: left;margin-right: 0.25em;color: #696969;}#sk-container-id-1 label.sk-toggleable__label-arrow:hover:before {color: black;}#sk-container-id-1 div.sk-estimator:hover label.sk-toggleable__label-arrow:before {color: black;}#sk-container-id-1 div.sk-toggleable__content {max-height: 0;max-width: 0;overflow: hidden;text-align: left;background-color: #f0f8ff;}#sk-container-id-1 div.sk-toggleable__content pre {margin: 0.2em;color: black;border-radius: 0.25em;background-color: #f0f8ff;}#sk-container-id-1 input.sk-toggleable__control:checked~div.sk-toggleable__content {max-height: 200px;max-width: 100%;overflow: auto;}#sk-container-id-1 input.sk-toggleable__control:checked~label.sk-toggleable__label-arrow:before {content: \"▾\";}#sk-container-id-1 div.sk-estimator input.sk-toggleable__control:checked~label.sk-toggleable__label {background-color: #d4ebff;}#sk-container-id-1 div.sk-label input.sk-toggleable__control:checked~label.sk-toggleable__label {background-color: #d4ebff;}#sk-container-id-1 input.sk-hidden--visually {border: 0;clip: rect(1px 1px 1px 1px);clip: rect(1px, 1px, 1px, 1px);height: 1px;margin: -1px;overflow: hidden;padding: 0;position: absolute;width: 1px;}#sk-container-id-1 div.sk-estimator {font-family: monospace;background-color: #f0f8ff;border: 1px dotted black;border-radius: 0.25em;box-sizing: border-box;margin-bottom: 0.5em;}#sk-container-id-1 div.sk-estimator:hover {background-color: #d4ebff;}#sk-container-id-1 div.sk-parallel-item::after {content: \"\";width: 100%;border-bottom: 1px solid gray;flex-grow: 1;}#sk-container-id-1 div.sk-label:hover label.sk-toggleable__label {background-color: #d4ebff;}#sk-container-id-1 div.sk-serial::before {content: \"\";position: absolute;border-left: 1px solid gray;box-sizing: border-box;top: 0;bottom: 0;left: 50%;z-index: 0;}#sk-container-id-1 div.sk-serial {display: flex;flex-direction: column;align-items: center;background-color: white;padding-right: 0.2em;padding-left: 0.2em;position: relative;}#sk-container-id-1 div.sk-item {position: relative;z-index: 1;}#sk-container-id-1 div.sk-parallel {display: flex;align-items: stretch;justify-content: center;background-color: white;position: relative;}#sk-container-id-1 div.sk-item::before, #sk-container-id-1 div.sk-parallel-item::before {content: \"\";position: absolute;border-left: 1px solid gray;box-sizing: border-box;top: 0;bottom: 0;left: 50%;z-index: -1;}#sk-container-id-1 div.sk-parallel-item {display: flex;flex-direction: column;z-index: 1;position: relative;background-color: white;}#sk-container-id-1 div.sk-parallel-item:first-child::after {align-self: flex-end;width: 50%;}#sk-container-id-1 div.sk-parallel-item:last-child::after {align-self: flex-start;width: 50%;}#sk-container-id-1 div.sk-parallel-item:only-child::after {width: 0;}#sk-container-id-1 div.sk-dashed-wrapped {border: 1px dashed gray;margin: 0 0.4em 0.5em 0.4em;box-sizing: border-box;padding-bottom: 0.4em;background-color: white;}#sk-container-id-1 div.sk-label label {font-family: monospace;font-weight: bold;display: inline-block;line-height: 1.2em;}#sk-container-id-1 div.sk-label-container {text-align: center;}#sk-container-id-1 div.sk-container {/* jupyter's `normalize.less` sets `[hidden] { display: none; }` but bootstrap.min.css set `[hidden] { display: none !important; }` so we also need the `!important` here to be able to override the default hidden behavior on the sphinx rendered scikit-learn.org. See: https://github.com/scikit-learn/scikit-learn/issues/21755 */display: inline-block !important;position: relative;}#sk-container-id-1 div.sk-text-repr-fallback {display: none;}</style><div id=\"sk-container-id-1\" class=\"sk-top-container\"><div class=\"sk-text-repr-fallback\"><pre>LogisticRegression()</pre><b>In a Jupyter environment, please rerun this cell to show the HTML representation or trust the notebook. <br />On GitHub, the HTML representation is unable to render, please try loading this page with nbviewer.org.</b></div><div class=\"sk-container\" hidden><div class=\"sk-item\"><div class=\"sk-estimator sk-toggleable\"><input class=\"sk-toggleable__control sk-hidden--visually\" id=\"sk-estimator-id-1\" type=\"checkbox\" checked><label for=\"sk-estimator-id-1\" class=\"sk-toggleable__label sk-toggleable__label-arrow\">LogisticRegression</label><div class=\"sk-toggleable__content\"><pre>LogisticRegression()</pre></div></div></div></div></div>"
      ],
      "text/plain": [
       "LogisticRegression()"
      ]
     },
     "execution_count": 95,
     "metadata": {},
     "output_type": "execute_result"
    }
   ],
   "source": [
    "lr = LogisticRegression()\n",
    "lr.fit(vectorized_x_train_smote, y_train_smote)\n"
   ]
  },
  {
   "cell_type": "code",
   "execution_count": 96,
   "id": "6a811c20-5bbf-4ce3-81ff-74d7b4601bd4",
   "metadata": {},
   "outputs": [],
   "source": [
    "y_train_pred = lr.predict(vectorized_x_train_smote)\n"
   ]
  },
  {
   "cell_type": "code",
   "execution_count": 97,
   "id": "be4341a6-d741-4d8c-a559-26cd2da1ee9f",
   "metadata": {},
   "outputs": [
    {
     "data": {
      "text/plain": [
       "array([0, 1, 0, ..., 1, 1, 1], dtype=int64)"
      ]
     },
     "execution_count": 97,
     "metadata": {},
     "output_type": "execute_result"
    }
   ],
   "source": [
    "y_train_pred"
   ]
  },
  {
   "cell_type": "code",
   "execution_count": 98,
   "id": "8e4b79e1-69ed-4361-9e53-8c8f1ec642a8",
   "metadata": {},
   "outputs": [
    {
     "data": {
      "text/plain": [
       "0       0\n",
       "1       1\n",
       "2       0\n",
       "3       0\n",
       "4       0\n",
       "       ..\n",
       "9429    1\n",
       "9430    1\n",
       "9431    1\n",
       "9432    1\n",
       "9433    1\n",
       "Name: label, Length: 9434, dtype: int64"
      ]
     },
     "execution_count": 98,
     "metadata": {},
     "output_type": "execute_result"
    }
   ],
   "source": [
    "y_train_smote"
   ]
  },
  {
   "cell_type": "code",
   "execution_count": 101,
   "id": "1fb806af-5337-40cc-80a1-96c7a04303d4",
   "metadata": {},
   "outputs": [
    {
     "name": "stdout",
     "output_type": "stream",
     "text": [
      "Training Scores:\n",
      "\tAccuracy = 0.941\n",
      "\tPrecision = 0.917\n",
      "\tRecall = 0.969\n",
      "\tF1-Score = 0.942\n"
     ]
    }
   ],
   "source": [
    "training_scores(y_train_smote, y_train_pred)\n"
   ]
  },
  {
   "cell_type": "code",
   "execution_count": 100,
   "id": "e63150d2-92bd-4c48-bd86-cfd547c32e18",
   "metadata": {},
   "outputs": [
    {
     "ename": "NameError",
     "evalue": "name 'y_test_pred' is not defined",
     "output_type": "error",
     "traceback": [
      "\u001b[1;31m---------------------------------------------------------------------------\u001b[0m",
      "\u001b[1;31mNameError\u001b[0m                                 Traceback (most recent call last)",
      "Cell \u001b[1;32mIn[100], line 1\u001b[0m\n\u001b[1;32m----> 1\u001b[0m \u001b[43my_test_pred\u001b[49m\n",
      "\u001b[1;31mNameError\u001b[0m: name 'y_test_pred' is not defined"
     ]
    }
   ],
   "source": [
    "y_test_pred"
   ]
  },
  {
   "cell_type": "code",
   "execution_count": 102,
   "id": "cf9fcb6d-4e94-4575-99eb-a743633be1ae",
   "metadata": {},
   "outputs": [],
   "source": [
    "y_test_pred = lr.predict(vectorized_x_test)"
   ]
  },
  {
   "cell_type": "code",
   "execution_count": 103,
   "id": "e52eef9e-81f9-42d5-b2c9-3c515e4d6b7b",
   "metadata": {},
   "outputs": [
    {
     "data": {
      "text/plain": [
       "array([1, 1, 1, ..., 0, 1, 1], dtype=int64)"
      ]
     },
     "execution_count": 103,
     "metadata": {},
     "output_type": "execute_result"
    }
   ],
   "source": [
    "y_test_pred"
   ]
  },
  {
   "cell_type": "code",
   "execution_count": 104,
   "id": "a1110c22-1ca7-4a56-a007-05eb427ed94f",
   "metadata": {},
   "outputs": [
    {
     "data": {
      "text/plain": [
       "4389    1\n",
       "2154    1\n",
       "1515    1\n",
       "5628    0\n",
       "2340    0\n",
       "       ..\n",
       "1210    0\n",
       "3228    1\n",
       "3361    0\n",
       "7383    1\n",
       "3008    1\n",
       "Name: label, Length: 1584, dtype: int64"
      ]
     },
     "execution_count": 104,
     "metadata": {},
     "output_type": "execute_result"
    }
   ],
   "source": [
    "y_test"
   ]
  },
  {
   "cell_type": "code",
   "execution_count": 105,
   "id": "a45cb9a7-8576-4eb0-919d-41b83e7cc22e",
   "metadata": {},
   "outputs": [
    {
     "name": "stdout",
     "output_type": "stream",
     "text": [
      "Testing Scores:\n",
      "\tAccuracy = 0.877\n",
      "\tPrecision = 0.709\n",
      "\tRecall = 0.882\n",
      "\tF1-Score = 0.786\n"
     ]
    }
   ],
   "source": [
    "validation_scores(y_test, y_test_pred)"
   ]
  },
  {
   "cell_type": "code",
   "execution_count": 106,
   "id": "23f79d5a-d301-4422-a28f-25f27d9cab6f",
   "metadata": {},
   "outputs": [],
   "source": [
    "## It seems that the testing score is lower than the training score"
   ]
  },
  {
   "cell_type": "code",
   "execution_count": 108,
   "id": "391b51bb-f4a0-4e0c-a900-5ceee4fd274c",
   "metadata": {},
   "outputs": [],
   "source": [
    "## Multinomial Naive Bayes"
   ]
  },
  {
   "cell_type": "code",
   "execution_count": 109,
   "id": "183e39ea-cac0-43e7-8f8e-f3cc32ab3123",
   "metadata": {},
   "outputs": [
    {
     "name": "stdout",
     "output_type": "stream",
     "text": [
      "Training Scores:\n",
      "\tAccuracy = 0.904\n",
      "\tPrecision = 0.868\n",
      "\tRecall = 0.953\n",
      "\tF1-Score = 0.909\n",
      "Testing Scores:\n",
      "\tAccuracy = 0.866\n",
      "\tPrecision = 0.673\n",
      "\tRecall = 0.931\n",
      "\tF1-Score = 0.781\n"
     ]
    }
   ],
   "source": [
    "mnb = MultinomialNB()\n",
    "mnb.fit(vectorized_x_train_smote, y_train_smote)\n",
    "\n",
    "y_train_pred = mnb.predict(vectorized_x_train_smote)\n",
    "y_test_pred = mnb.predict(vectorized_x_test)\n",
    "\n",
    "training_scores(y_train_smote, y_train_pred)\n",
    "validation_scores(y_test, y_test_pred)"
   ]
  },
  {
   "cell_type": "code",
   "execution_count": 110,
   "id": "de0ccf1b-052a-44ba-86ef-a5c1c4586692",
   "metadata": {},
   "outputs": [],
   "source": [
    "## Decision Tree"
   ]
  },
  {
   "cell_type": "code",
   "execution_count": 111,
   "id": "b072e46f-6227-4e6a-934a-5e34057d65a0",
   "metadata": {},
   "outputs": [
    {
     "name": "stdout",
     "output_type": "stream",
     "text": [
      "Training Scores:\n",
      "\tAccuracy = 1.0\n",
      "\tPrecision = 1.0\n",
      "\tRecall = 1.0\n",
      "\tF1-Score = 1.0\n",
      "Testing Scores:\n",
      "\tAccuracy = 0.815\n",
      "\tPrecision = 0.641\n",
      "\tRecall = 0.636\n",
      "\tF1-Score = 0.639\n"
     ]
    }
   ],
   "source": [
    "dt = DecisionTreeClassifier()\n",
    "\n",
    "dt.fit(vectorized_x_train_smote, y_train_smote)\n",
    "\n",
    "y_train_pred = dt.predict(vectorized_x_train_smote)\n",
    "y_test_pred = dt.predict(vectorized_x_test)\n",
    "\n",
    "training_scores(y_train_smote, y_train_pred)\n",
    "validation_scores(y_test, y_test_pred)"
   ]
  },
  {
   "cell_type": "code",
   "execution_count": 112,
   "id": "32c12a67-00a1-4b7d-9948-4ac3ff506037",
   "metadata": {},
   "outputs": [],
   "source": [
    "## this time overfitting"
   ]
  },
  {
   "cell_type": "code",
   "execution_count": 113,
   "id": "00cde409-4f8d-4f35-9925-d4679bdfa6e6",
   "metadata": {},
   "outputs": [],
   "source": [
    "## Random Forest"
   ]
  },
  {
   "cell_type": "code",
   "execution_count": 114,
   "id": "5a260f93-f4ce-49c5-86d0-246da3485fd1",
   "metadata": {},
   "outputs": [
    {
     "name": "stdout",
     "output_type": "stream",
     "text": [
      "Training Scores:\n",
      "\tAccuracy = 1.0\n",
      "\tPrecision = 1.0\n",
      "\tRecall = 1.0\n",
      "\tF1-Score = 1.0\n",
      "Testing Scores:\n",
      "\tAccuracy = 0.876\n",
      "\tPrecision = 0.756\n",
      "\tRecall = 0.762\n",
      "\tF1-Score = 0.759\n"
     ]
    }
   ],
   "source": [
    "rf = RandomForestClassifier()\n",
    "rf.fit(vectorized_x_train_smote, y_train_smote)\n",
    "\n",
    "y_train_pred = rf.predict(vectorized_x_train_smote)\n",
    "y_test_pred = rf.predict(vectorized_x_test)\n",
    "\n",
    "training_scores(y_train_smote, y_train_pred)\n",
    "validation_scores(y_test, y_test_pred)"
   ]
  },
  {
   "cell_type": "code",
   "execution_count": 115,
   "id": "9a2f929b-e349-4f90-8eee-c5e814a6179b",
   "metadata": {},
   "outputs": [],
   "source": [
    "## Support Vector Machine"
   ]
  },
  {
   "cell_type": "code",
   "execution_count": 116,
   "id": "61e30476-2cf6-47d5-b53c-c041d545bc3b",
   "metadata": {},
   "outputs": [
    {
     "name": "stdout",
     "output_type": "stream",
     "text": [
      "Training Scores:\n",
      "\tAccuracy = 0.978\n",
      "\tPrecision = 0.961\n",
      "\tRecall = 0.997\n",
      "\tF1-Score = 0.979\n",
      "Testing Scores:\n",
      "\tAccuracy = 0.891\n",
      "\tPrecision = 0.753\n",
      "\tRecall = 0.86\n",
      "\tF1-Score = 0.803\n"
     ]
    }
   ],
   "source": [
    "svm = SVC()\n",
    "svm.fit(vectorized_x_train_smote, y_train_smote)\n",
    "\n",
    "y_train_pred = svm.predict(vectorized_x_train_smote)\n",
    "y_test_pred = svm.predict(vectorized_x_test)\n",
    "\n",
    "training_scores(y_train_smote, y_train_pred)\n",
    "validation_scores(y_test, y_test_pred)"
   ]
  },
  {
   "cell_type": "code",
   "execution_count": 117,
   "id": "4172ab54-953a-4173-8fe0-f00d6f39e34a",
   "metadata": {},
   "outputs": [],
   "source": [
    "import pickle\n",
    "\n",
    "with open('../static/model/model.pickle', 'wb') as file:\n",
    "    pickle.dump(lr, file)"
   ]
  },
  {
   "cell_type": "code",
   "execution_count": null,
   "id": "3a64fc81-867c-4dae-adb2-f4eb133eb32c",
   "metadata": {},
   "outputs": [],
   "source": []
  },
  {
   "cell_type": "code",
   "execution_count": null,
   "id": "e51d6583-6006-4f02-9fd8-9dcd7605e8df",
   "metadata": {},
   "outputs": [],
   "source": []
  },
  {
   "cell_type": "code",
   "execution_count": null,
   "id": "e2d74b80-8d7a-48ca-8bf8-d766c25e4a90",
   "metadata": {},
   "outputs": [],
   "source": []
  },
  {
   "cell_type": "code",
   "execution_count": null,
   "id": "b1f41714-212a-4863-bbf5-6ffac051bf8e",
   "metadata": {},
   "outputs": [],
   "source": []
  },
  {
   "cell_type": "code",
   "execution_count": null,
   "id": "e45d116e-8578-4c20-981c-27e6aa63a003",
   "metadata": {},
   "outputs": [],
   "source": []
  },
  {
   "cell_type": "code",
   "execution_count": null,
   "id": "c3fc8959-8143-4123-8cb3-cc4ec0c6b27d",
   "metadata": {},
   "outputs": [],
   "source": []
  },
  {
   "cell_type": "code",
   "execution_count": null,
   "id": "3ce42587-682c-445b-aa2b-865f4927d173",
   "metadata": {},
   "outputs": [],
   "source": []
  }
 ],
 "metadata": {
  "kernelspec": {
   "display_name": "Python 3 (ipykernel)",
   "language": "python",
   "name": "python3"
  },
  "language_info": {
   "codemirror_mode": {
    "name": "ipython",
    "version": 3
   },
   "file_extension": ".py",
   "mimetype": "text/x-python",
   "name": "python",
   "nbconvert_exporter": "python",
   "pygments_lexer": "ipython3",
   "version": "3.11.0"
  }
 },
 "nbformat": 4,
 "nbformat_minor": 5
}
